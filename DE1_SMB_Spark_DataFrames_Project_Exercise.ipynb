{
  "nbformat": 4,
  "nbformat_minor": 0,
  "metadata": {
    "anaconda-cloud": {},
    "kernelspec": {
      "display_name": "Python [conda root]",
      "language": "python",
      "name": "conda-root-py"
    },
    "language_info": {
      "codemirror_mode": {
        "name": "ipython",
        "version": 3
      },
      "file_extension": ".py",
      "mimetype": "text/x-python",
      "name": "python",
      "nbconvert_exporter": "python",
      "pygments_lexer": "ipython3",
      "version": "3.5.3"
    },
    "colab": {
      "name": "DE1 SMB - Spark_DataFrames_Project_Exercise.ipynb",
      "provenance": [],
      "collapsed_sections": [],
      "include_colab_link": true
    }
  },
  "cells": [
    {
      "cell_type": "markdown",
      "metadata": {
        "id": "view-in-github",
        "colab_type": "text"
      },
      "source": [
        "<a href=\"https://colab.research.google.com/github/ddloputra/Dataset/blob/main/DE1_SMB_Spark_DataFrames_Project_Exercise.ipynb\" target=\"_parent\"><img src=\"https://colab.research.google.com/assets/colab-badge.svg\" alt=\"Open In Colab\"/></a>"
      ]
    },
    {
      "cell_type": "markdown",
      "metadata": {
        "id": "-C2D0_b3mz5d"
      },
      "source": [
        "# Spark DataFrames Project Exercise "
      ]
    },
    {
      "cell_type": "markdown",
      "metadata": {
        "id": "H7axQhsdmz5g"
      },
      "source": [
        "Let's get some quick practice with your new Spark DataFrame skills, you will be asked some basic questions about some stock market data, in this case Walmart Stock from the years 2012-2017. This exercise will just ask a bunch of questions, unlike the future machine learning exercises, which will be a little looser and be in the form of \"Consulting Projects\", but more on that later!\n",
        "\n",
        "For now, just answer the questions and complete the tasks below."
      ]
    },
    {
      "cell_type": "markdown",
      "metadata": {
        "id": "dt1iXKo8mz5h"
      },
      "source": [
        "#### Use the walmart_stock.csv file to Answer and complete the  tasks below!"
      ]
    },
    {
      "cell_type": "code",
      "metadata": {
        "collapsed": true,
        "id": "Sc62a3lgmz5j",
        "colab": {
          "base_uri": "https://localhost:8080/"
        },
        "outputId": "b74b8310-eec1-46b0-b9e3-0eacb9f1390b"
      },
      "source": [
        "!pwd"
      ],
      "execution_count": null,
      "outputs": [
        {
          "output_type": "stream",
          "text": [
            "/content\n"
          ],
          "name": "stdout"
        }
      ]
    },
    {
      "cell_type": "code",
      "metadata": {
        "colab": {
          "base_uri": "https://localhost:8080/"
        },
        "id": "qnbPjY1Ew1Er",
        "outputId": "49cf7ec9-b792-4a0b-c106-edde520ea225"
      },
      "source": [
        "!ls /usr/lib/jvm/"
      ],
      "execution_count": null,
      "outputs": [
        {
          "output_type": "stream",
          "text": [
            "default-java  java-1.11.0-openjdk-amd64  java-11-openjdk-amd64\n"
          ],
          "name": "stdout"
        }
      ]
    },
    {
      "cell_type": "code",
      "metadata": {
        "id": "QrqdR4tYw42V",
        "colab": {
          "base_uri": "https://localhost:8080/"
        },
        "outputId": "c99507ff-fcb2-47cd-b6b1-cdda2da5ce11"
      },
      "source": [
        "!apt-get update\n",
        "!apt-get install openjdk-8-jdk-headless -qq > /dev/null"
      ],
      "execution_count": null,
      "outputs": [
        {
          "output_type": "stream",
          "text": [
            "\r0% [Working]\r            \rGet:1 http://security.ubuntu.com/ubuntu bionic-security InRelease [88.7 kB]\n",
            "\r0% [Connecting to archive.ubuntu.com (91.189.88.142)] [1 InRelease 14.2 kB/88.7\r                                                                               \rGet:2 https://cloud.r-project.org/bin/linux/ubuntu bionic-cran40/ InRelease [3,626 B]\n",
            "\r0% [Connecting to archive.ubuntu.com (91.189.88.142)] [1 InRelease 14.2 kB/88.7\r0% [Connecting to archive.ubuntu.com (91.189.88.142)] [1 InRelease 20.0 kB/88.7\r0% [2 InRelease gpgv 3,626 B] [Connecting to archive.ubuntu.com (91.189.88.142)\r0% [2 InRelease gpgv 3,626 B] [Connecting to archive.ubuntu.com (91.189.88.142)\r                                                                               \rIgn:3 https://developer.download.nvidia.com/compute/cuda/repos/ubuntu1804/x86_64  InRelease\n",
            "\r0% [2 InRelease gpgv 3,626 B] [Waiting for headers] [Waiting for headers] [Wait\r                                                                               \rGet:4 http://ppa.launchpad.net/c2d4u.team/c2d4u4.0+/ubuntu bionic InRelease [15.9 kB]\n",
            "\r0% [2 InRelease gpgv 3,626 B] [Waiting for headers] [4 InRelease 2,572 B/15.9 k\r                                                                               \rHit:5 http://archive.ubuntu.com/ubuntu bionic InRelease\n",
            "Ign:6 https://developer.download.nvidia.com/compute/machine-learning/repos/ubuntu1804/x86_64  InRelease\n",
            "Hit:7 https://developer.download.nvidia.com/compute/cuda/repos/ubuntu1804/x86_64  Release\n",
            "Hit:8 https://developer.download.nvidia.com/compute/machine-learning/repos/ubuntu1804/x86_64  Release\n",
            "Get:9 http://archive.ubuntu.com/ubuntu bionic-updates InRelease [88.7 kB]\n",
            "Hit:10 http://ppa.launchpad.net/cran/libgit2/ubuntu bionic InRelease\n",
            "Get:11 http://archive.ubuntu.com/ubuntu bionic-backports InRelease [74.6 kB]\n",
            "Hit:12 http://ppa.launchpad.net/deadsnakes/ppa/ubuntu bionic InRelease\n",
            "Get:13 http://security.ubuntu.com/ubuntu bionic-security/universe amd64 Packages [1,424 kB]\n",
            "Hit:14 http://ppa.launchpad.net/graphics-drivers/ppa/ubuntu bionic InRelease\n",
            "Get:15 http://security.ubuntu.com/ubuntu bionic-security/main amd64 Packages [2,294 kB]\n",
            "Get:16 http://security.ubuntu.com/ubuntu bionic-security/restricted amd64 Packages [543 kB]\n",
            "Get:19 http://ppa.launchpad.net/c2d4u.team/c2d4u4.0+/ubuntu bionic/main Sources [1,793 kB]\n",
            "Get:20 http://archive.ubuntu.com/ubuntu bionic-updates/main amd64 Packages [2,730 kB]\n",
            "Get:21 http://ppa.launchpad.net/c2d4u.team/c2d4u4.0+/ubuntu bionic/main amd64 Packages [918 kB]\n",
            "Get:22 http://archive.ubuntu.com/ubuntu bionic-updates/universe amd64 Packages [2,199 kB]\n",
            "Get:23 http://archive.ubuntu.com/ubuntu bionic-updates/multiverse amd64 Packages [34.4 kB]\n",
            "Get:24 http://archive.ubuntu.com/ubuntu bionic-updates/restricted amd64 Packages [575 kB]\n",
            "Fetched 12.8 MB in 3s (3,769 kB/s)\n",
            "Reading package lists... Done\n"
          ],
          "name": "stdout"
        }
      ]
    },
    {
      "cell_type": "code",
      "metadata": {
        "id": "q6Sy4O2zw7q_"
      },
      "source": [
        "!wget -q https://downloads.apache.org/spark/spark-3.1.2/spark-3.1.2-bin-hadoop3.2.tgz"
      ],
      "execution_count": null,
      "outputs": []
    },
    {
      "cell_type": "code",
      "metadata": {
        "id": "TZ4vgZ4Sw7wZ",
        "colab": {
          "base_uri": "https://localhost:8080/"
        },
        "outputId": "6f334659-5449-45ad-847f-1972c7586385"
      },
      "source": [
        "!tar -xvzf spark-3.1.2-bin-hadoop3.2.tgz\n",
        "!pip install -q findspark\n",
        "!pip install pyspark"
      ],
      "execution_count": null,
      "outputs": [
        {
          "output_type": "stream",
          "text": [
            "spark-3.1.2-bin-hadoop3.2/\n",
            "spark-3.1.2-bin-hadoop3.2/R/\n",
            "spark-3.1.2-bin-hadoop3.2/R/lib/\n",
            "spark-3.1.2-bin-hadoop3.2/R/lib/sparkr.zip\n",
            "spark-3.1.2-bin-hadoop3.2/R/lib/SparkR/\n",
            "spark-3.1.2-bin-hadoop3.2/R/lib/SparkR/worker/\n",
            "spark-3.1.2-bin-hadoop3.2/R/lib/SparkR/worker/worker.R\n",
            "spark-3.1.2-bin-hadoop3.2/R/lib/SparkR/worker/daemon.R\n",
            "spark-3.1.2-bin-hadoop3.2/R/lib/SparkR/tests/\n",
            "spark-3.1.2-bin-hadoop3.2/R/lib/SparkR/tests/testthat/\n",
            "spark-3.1.2-bin-hadoop3.2/R/lib/SparkR/tests/testthat/test_basic.R\n",
            "spark-3.1.2-bin-hadoop3.2/R/lib/SparkR/profile/\n",
            "spark-3.1.2-bin-hadoop3.2/R/lib/SparkR/profile/shell.R\n",
            "spark-3.1.2-bin-hadoop3.2/R/lib/SparkR/profile/general.R\n",
            "spark-3.1.2-bin-hadoop3.2/R/lib/SparkR/doc/\n",
            "spark-3.1.2-bin-hadoop3.2/R/lib/SparkR/doc/sparkr-vignettes.html\n",
            "spark-3.1.2-bin-hadoop3.2/R/lib/SparkR/doc/sparkr-vignettes.Rmd\n",
            "spark-3.1.2-bin-hadoop3.2/R/lib/SparkR/doc/sparkr-vignettes.R\n",
            "spark-3.1.2-bin-hadoop3.2/R/lib/SparkR/doc/index.html\n",
            "spark-3.1.2-bin-hadoop3.2/R/lib/SparkR/R/\n",
            "spark-3.1.2-bin-hadoop3.2/R/lib/SparkR/R/SparkR\n",
            "spark-3.1.2-bin-hadoop3.2/R/lib/SparkR/R/SparkR.rdx\n",
            "spark-3.1.2-bin-hadoop3.2/R/lib/SparkR/R/SparkR.rdb\n",
            "spark-3.1.2-bin-hadoop3.2/R/lib/SparkR/Meta/\n",
            "spark-3.1.2-bin-hadoop3.2/R/lib/SparkR/Meta/features.rds\n",
            "spark-3.1.2-bin-hadoop3.2/R/lib/SparkR/Meta/package.rds\n",
            "spark-3.1.2-bin-hadoop3.2/R/lib/SparkR/Meta/nsInfo.rds\n",
            "spark-3.1.2-bin-hadoop3.2/R/lib/SparkR/Meta/vignette.rds\n",
            "spark-3.1.2-bin-hadoop3.2/R/lib/SparkR/Meta/Rd.rds\n",
            "spark-3.1.2-bin-hadoop3.2/R/lib/SparkR/Meta/links.rds\n",
            "spark-3.1.2-bin-hadoop3.2/R/lib/SparkR/Meta/hsearch.rds\n",
            "spark-3.1.2-bin-hadoop3.2/R/lib/SparkR/DESCRIPTION\n",
            "spark-3.1.2-bin-hadoop3.2/R/lib/SparkR/NAMESPACE\n",
            "spark-3.1.2-bin-hadoop3.2/R/lib/SparkR/html/\n",
            "spark-3.1.2-bin-hadoop3.2/R/lib/SparkR/html/R.css\n",
            "spark-3.1.2-bin-hadoop3.2/R/lib/SparkR/html/00Index.html\n",
            "spark-3.1.2-bin-hadoop3.2/R/lib/SparkR/INDEX\n",
            "spark-3.1.2-bin-hadoop3.2/R/lib/SparkR/help/\n",
            "spark-3.1.2-bin-hadoop3.2/R/lib/SparkR/help/aliases.rds\n",
            "spark-3.1.2-bin-hadoop3.2/R/lib/SparkR/help/AnIndex\n",
            "spark-3.1.2-bin-hadoop3.2/R/lib/SparkR/help/SparkR.rdx\n",
            "spark-3.1.2-bin-hadoop3.2/R/lib/SparkR/help/SparkR.rdb\n",
            "spark-3.1.2-bin-hadoop3.2/R/lib/SparkR/help/paths.rds\n",
            "spark-3.1.2-bin-hadoop3.2/sbin/\n",
            "spark-3.1.2-bin-hadoop3.2/sbin/workers.sh\n",
            "spark-3.1.2-bin-hadoop3.2/sbin/stop-workers.sh\n",
            "spark-3.1.2-bin-hadoop3.2/sbin/stop-worker.sh\n",
            "spark-3.1.2-bin-hadoop3.2/sbin/stop-thriftserver.sh\n",
            "spark-3.1.2-bin-hadoop3.2/sbin/stop-slaves.sh\n",
            "spark-3.1.2-bin-hadoop3.2/sbin/stop-slave.sh\n",
            "spark-3.1.2-bin-hadoop3.2/sbin/stop-mesos-shuffle-service.sh\n",
            "spark-3.1.2-bin-hadoop3.2/sbin/stop-mesos-dispatcher.sh\n",
            "spark-3.1.2-bin-hadoop3.2/sbin/stop-master.sh\n",
            "spark-3.1.2-bin-hadoop3.2/sbin/stop-history-server.sh\n",
            "spark-3.1.2-bin-hadoop3.2/sbin/stop-all.sh\n",
            "spark-3.1.2-bin-hadoop3.2/sbin/start-workers.sh\n",
            "spark-3.1.2-bin-hadoop3.2/sbin/start-worker.sh\n",
            "spark-3.1.2-bin-hadoop3.2/sbin/start-thriftserver.sh\n",
            "spark-3.1.2-bin-hadoop3.2/sbin/start-slaves.sh\n",
            "spark-3.1.2-bin-hadoop3.2/sbin/start-slave.sh\n",
            "spark-3.1.2-bin-hadoop3.2/sbin/start-mesos-shuffle-service.sh\n",
            "spark-3.1.2-bin-hadoop3.2/sbin/start-mesos-dispatcher.sh\n",
            "spark-3.1.2-bin-hadoop3.2/sbin/start-master.sh\n",
            "spark-3.1.2-bin-hadoop3.2/sbin/start-history-server.sh\n",
            "spark-3.1.2-bin-hadoop3.2/sbin/start-all.sh\n",
            "spark-3.1.2-bin-hadoop3.2/sbin/spark-daemons.sh\n",
            "spark-3.1.2-bin-hadoop3.2/sbin/spark-daemon.sh\n",
            "spark-3.1.2-bin-hadoop3.2/sbin/slaves.sh\n",
            "spark-3.1.2-bin-hadoop3.2/sbin/decommission-worker.sh\n",
            "spark-3.1.2-bin-hadoop3.2/sbin/decommission-slave.sh\n",
            "spark-3.1.2-bin-hadoop3.2/sbin/spark-config.sh\n",
            "spark-3.1.2-bin-hadoop3.2/python/\n",
            "spark-3.1.2-bin-hadoop3.2/python/dist/\n",
            "spark-3.1.2-bin-hadoop3.2/python/pyspark.egg-info/\n",
            "spark-3.1.2-bin-hadoop3.2/python/pyspark.egg-info/SOURCES.txt\n",
            "spark-3.1.2-bin-hadoop3.2/python/pyspark.egg-info/top_level.txt\n",
            "spark-3.1.2-bin-hadoop3.2/python/pyspark.egg-info/requires.txt\n",
            "spark-3.1.2-bin-hadoop3.2/python/pyspark.egg-info/dependency_links.txt\n",
            "spark-3.1.2-bin-hadoop3.2/python/pyspark.egg-info/PKG-INFO\n",
            "spark-3.1.2-bin-hadoop3.2/python/pyspark/\n",
            "spark-3.1.2-bin-hadoop3.2/python/pyspark/python/\n",
            "spark-3.1.2-bin-hadoop3.2/python/pyspark/python/pyspark/\n",
            "spark-3.1.2-bin-hadoop3.2/python/pyspark/python/pyspark/shell.py\n",
            "spark-3.1.2-bin-hadoop3.2/python/pyspark/__pycache__/\n",
            "spark-3.1.2-bin-hadoop3.2/python/pyspark/__pycache__/install.cpython-38.pyc\n",
            "spark-3.1.2-bin-hadoop3.2/python/pyspark/mllib/\n",
            "spark-3.1.2-bin-hadoop3.2/python/pyspark/mllib/evaluation.py\n",
            "spark-3.1.2-bin-hadoop3.2/python/pyspark/mllib/common.pyi\n",
            "spark-3.1.2-bin-hadoop3.2/python/pyspark/mllib/common.py\n",
            "spark-3.1.2-bin-hadoop3.2/python/pyspark/mllib/clustering.pyi\n",
            "spark-3.1.2-bin-hadoop3.2/python/pyspark/mllib/classification.pyi\n",
            "spark-3.1.2-bin-hadoop3.2/python/pyspark/mllib/_typing.pyi\n",
            "spark-3.1.2-bin-hadoop3.2/python/pyspark/mllib/__init__.py\n",
            "spark-3.1.2-bin-hadoop3.2/python/pyspark/mllib/util.pyi\n",
            "spark-3.1.2-bin-hadoop3.2/python/pyspark/mllib/util.py\n",
            "spark-3.1.2-bin-hadoop3.2/python/pyspark/mllib/tree.pyi\n",
            "spark-3.1.2-bin-hadoop3.2/python/pyspark/mllib/tree.py\n",
            "spark-3.1.2-bin-hadoop3.2/python/pyspark/mllib/tests/\n",
            "spark-3.1.2-bin-hadoop3.2/python/pyspark/mllib/tests/test_util.py\n",
            "spark-3.1.2-bin-hadoop3.2/python/pyspark/mllib/tests/test_streaming_algorithms.py\n",
            "spark-3.1.2-bin-hadoop3.2/python/pyspark/mllib/tests/test_stat.py\n",
            "spark-3.1.2-bin-hadoop3.2/python/pyspark/mllib/tests/test_feature.py\n",
            "spark-3.1.2-bin-hadoop3.2/python/pyspark/mllib/tests/test_algorithms.py\n",
            "spark-3.1.2-bin-hadoop3.2/python/pyspark/mllib/tests/__init__.py\n",
            "spark-3.1.2-bin-hadoop3.2/python/pyspark/mllib/tests/test_linalg.py\n",
            "spark-3.1.2-bin-hadoop3.2/python/pyspark/mllib/regression.py\n",
            "spark-3.1.2-bin-hadoop3.2/python/pyspark/mllib/clustering.py\n",
            "spark-3.1.2-bin-hadoop3.2/python/pyspark/mllib/classification.py\n",
            "spark-3.1.2-bin-hadoop3.2/python/pyspark/mllib/stat/\n",
            "spark-3.1.2-bin-hadoop3.2/python/pyspark/mllib/stat/_statistics.py\n",
            "spark-3.1.2-bin-hadoop3.2/python/pyspark/mllib/stat/__init__.pyi\n",
            "spark-3.1.2-bin-hadoop3.2/python/pyspark/mllib/stat/__init__.py\n",
            "spark-3.1.2-bin-hadoop3.2/python/pyspark/mllib/stat/KernelDensity.pyi\n",
            "spark-3.1.2-bin-hadoop3.2/python/pyspark/mllib/stat/KernelDensity.py\n",
            "spark-3.1.2-bin-hadoop3.2/python/pyspark/mllib/stat/test.pyi\n",
            "spark-3.1.2-bin-hadoop3.2/python/pyspark/mllib/stat/test.py\n",
            "spark-3.1.2-bin-hadoop3.2/python/pyspark/mllib/stat/distribution.pyi\n",
            "spark-3.1.2-bin-hadoop3.2/python/pyspark/mllib/stat/distribution.py\n",
            "spark-3.1.2-bin-hadoop3.2/python/pyspark/mllib/stat/_statistics.pyi\n",
            "spark-3.1.2-bin-hadoop3.2/python/pyspark/mllib/regression.pyi\n",
            "spark-3.1.2-bin-hadoop3.2/python/pyspark/mllib/recommendation.pyi\n",
            "spark-3.1.2-bin-hadoop3.2/python/pyspark/mllib/recommendation.py\n",
            "spark-3.1.2-bin-hadoop3.2/python/pyspark/mllib/random.pyi\n",
            "spark-3.1.2-bin-hadoop3.2/python/pyspark/mllib/random.py\n",
            "spark-3.1.2-bin-hadoop3.2/python/pyspark/mllib/linalg/\n",
            "spark-3.1.2-bin-hadoop3.2/python/pyspark/mllib/linalg/distributed.pyi\n",
            "spark-3.1.2-bin-hadoop3.2/python/pyspark/mllib/linalg/__init__.pyi\n",
            "spark-3.1.2-bin-hadoop3.2/python/pyspark/mllib/linalg/__init__.py\n",
            "spark-3.1.2-bin-hadoop3.2/python/pyspark/mllib/linalg/distributed.py\n",
            "spark-3.1.2-bin-hadoop3.2/python/pyspark/mllib/fpm.pyi\n",
            "spark-3.1.2-bin-hadoop3.2/python/pyspark/mllib/fpm.py\n",
            "spark-3.1.2-bin-hadoop3.2/python/pyspark/mllib/feature.pyi\n",
            "spark-3.1.2-bin-hadoop3.2/python/pyspark/mllib/feature.py\n",
            "spark-3.1.2-bin-hadoop3.2/python/pyspark/mllib/evaluation.pyi\n",
            "spark-3.1.2-bin-hadoop3.2/python/pyspark/ml/\n",
            "spark-3.1.2-bin-hadoop3.2/python/pyspark/ml/wrapper.pyi\n",
            "spark-3.1.2-bin-hadoop3.2/python/pyspark/ml/wrapper.py\n",
            "spark-3.1.2-bin-hadoop3.2/python/pyspark/ml/util.pyi\n",
            "spark-3.1.2-bin-hadoop3.2/python/pyspark/ml/util.py\n",
            "spark-3.1.2-bin-hadoop3.2/python/pyspark/ml/tree.pyi\n",
            "spark-3.1.2-bin-hadoop3.2/python/pyspark/ml/tests/\n",
            "spark-3.1.2-bin-hadoop3.2/python/pyspark/ml/tests/test_wrapper.py\n",
            "spark-3.1.2-bin-hadoop3.2/python/pyspark/ml/tests/test_util.py\n",
            "spark-3.1.2-bin-hadoop3.2/python/pyspark/ml/tests/test_stat.py\n",
            "spark-3.1.2-bin-hadoop3.2/python/pyspark/ml/tests/test_pipeline.py\n",
            "spark-3.1.2-bin-hadoop3.2/python/pyspark/ml/tests/test_persistence.py\n",
            "spark-3.1.2-bin-hadoop3.2/python/pyspark/ml/tests/test_linalg.py\n",
            "spark-3.1.2-bin-hadoop3.2/python/pyspark/ml/tests/test_image.py\n",
            "spark-3.1.2-bin-hadoop3.2/python/pyspark/ml/tests/test_feature.py\n",
            "spark-3.1.2-bin-hadoop3.2/python/pyspark/ml/tests/test_algorithms.py\n",
            "spark-3.1.2-bin-hadoop3.2/python/pyspark/ml/tests/__init__.py\n",
            "spark-3.1.2-bin-hadoop3.2/python/pyspark/ml/tests/test_tuning.py\n",
            "spark-3.1.2-bin-hadoop3.2/python/pyspark/ml/tests/test_training_summary.py\n",
            "spark-3.1.2-bin-hadoop3.2/python/pyspark/ml/tests/test_param.py\n",
            "spark-3.1.2-bin-hadoop3.2/python/pyspark/ml/tests/test_evaluation.py\n",
            "spark-3.1.2-bin-hadoop3.2/python/pyspark/ml/tests/test_base.py\n",
            "spark-3.1.2-bin-hadoop3.2/python/pyspark/ml/stat.pyi\n",
            "spark-3.1.2-bin-hadoop3.2/python/pyspark/ml/stat.py\n",
            "spark-3.1.2-bin-hadoop3.2/python/pyspark/ml/regression.pyi\n",
            "spark-3.1.2-bin-hadoop3.2/python/pyspark/ml/recommendation.pyi\n",
            "spark-3.1.2-bin-hadoop3.2/python/pyspark/ml/pipeline.pyi\n",
            "spark-3.1.2-bin-hadoop3.2/python/pyspark/ml/pipeline.py\n",
            "spark-3.1.2-bin-hadoop3.2/python/pyspark/ml/param/\n",
            "spark-3.1.2-bin-hadoop3.2/python/pyspark/ml/param/shared.pyi\n",
            "spark-3.1.2-bin-hadoop3.2/python/pyspark/ml/param/shared.py\n",
            "spark-3.1.2-bin-hadoop3.2/python/pyspark/ml/param/_shared_params_code_gen.pyi\n",
            "spark-3.1.2-bin-hadoop3.2/python/pyspark/ml/param/_shared_params_code_gen.py\n",
            "spark-3.1.2-bin-hadoop3.2/python/pyspark/ml/param/__init__.pyi\n",
            "spark-3.1.2-bin-hadoop3.2/python/pyspark/ml/param/__init__.py\n",
            "spark-3.1.2-bin-hadoop3.2/python/pyspark/ml/linalg/\n",
            "spark-3.1.2-bin-hadoop3.2/python/pyspark/ml/linalg/__init__.pyi\n",
            "spark-3.1.2-bin-hadoop3.2/python/pyspark/ml/linalg/__init__.py\n",
            "spark-3.1.2-bin-hadoop3.2/python/pyspark/ml/image.pyi\n",
            "spark-3.1.2-bin-hadoop3.2/python/pyspark/ml/image.py\n",
            "spark-3.1.2-bin-hadoop3.2/python/pyspark/ml/functions.pyi\n",
            "spark-3.1.2-bin-hadoop3.2/python/pyspark/ml/fpm.pyi\n",
            "spark-3.1.2-bin-hadoop3.2/python/pyspark/ml/feature.pyi\n",
            "spark-3.1.2-bin-hadoop3.2/python/pyspark/ml/evaluation.pyi\n",
            "spark-3.1.2-bin-hadoop3.2/python/pyspark/ml/common.pyi\n",
            "spark-3.1.2-bin-hadoop3.2/python/pyspark/ml/common.py\n",
            "spark-3.1.2-bin-hadoop3.2/python/pyspark/ml/clustering.pyi\n",
            "spark-3.1.2-bin-hadoop3.2/python/pyspark/ml/classification.pyi\n",
            "spark-3.1.2-bin-hadoop3.2/python/pyspark/ml/base.pyi\n",
            "spark-3.1.2-bin-hadoop3.2/python/pyspark/ml/_typing.pyi\n",
            "spark-3.1.2-bin-hadoop3.2/python/pyspark/ml/__init__.py\n",
            "spark-3.1.2-bin-hadoop3.2/python/pyspark/ml/tuning.pyi\n",
            "spark-3.1.2-bin-hadoop3.2/python/pyspark/ml/tuning.py\n",
            "spark-3.1.2-bin-hadoop3.2/python/pyspark/ml/tree.py\n",
            "spark-3.1.2-bin-hadoop3.2/python/pyspark/ml/regression.py\n",
            "spark-3.1.2-bin-hadoop3.2/python/pyspark/ml/recommendation.py\n",
            "spark-3.1.2-bin-hadoop3.2/python/pyspark/ml/functions.py\n",
            "spark-3.1.2-bin-hadoop3.2/python/pyspark/ml/fpm.py\n",
            "spark-3.1.2-bin-hadoop3.2/python/pyspark/ml/feature.py\n",
            "spark-3.1.2-bin-hadoop3.2/python/pyspark/ml/evaluation.py\n",
            "spark-3.1.2-bin-hadoop3.2/python/pyspark/ml/clustering.py\n",
            "spark-3.1.2-bin-hadoop3.2/python/pyspark/ml/classification.py\n",
            "spark-3.1.2-bin-hadoop3.2/python/pyspark/ml/base.py\n",
            "spark-3.1.2-bin-hadoop3.2/python/pyspark/join.py\n",
            "spark-3.1.2-bin-hadoop3.2/python/pyspark/java_gateway.py\n",
            "spark-3.1.2-bin-hadoop3.2/python/pyspark/install.py\n",
            "spark-3.1.2-bin-hadoop3.2/python/pyspark/find_spark_home.py\n",
            "spark-3.1.2-bin-hadoop3.2/python/pyspark/files.pyi\n",
            "spark-3.1.2-bin-hadoop3.2/python/pyspark/files.py\n",
            "spark-3.1.2-bin-hadoop3.2/python/pyspark/daemon.py\n",
            "spark-3.1.2-bin-hadoop3.2/python/pyspark/context.pyi\n",
            "spark-3.1.2-bin-hadoop3.2/python/pyspark/context.py\n",
            "spark-3.1.2-bin-hadoop3.2/python/pyspark/conf.pyi\n",
            "spark-3.1.2-bin-hadoop3.2/python/pyspark/conf.py\n",
            "spark-3.1.2-bin-hadoop3.2/python/pyspark/cloudpickle/\n",
            "spark-3.1.2-bin-hadoop3.2/python/pyspark/cloudpickle/compat.py\n",
            "spark-3.1.2-bin-hadoop3.2/python/pyspark/cloudpickle/cloudpickle_fast.py\n",
            "spark-3.1.2-bin-hadoop3.2/python/pyspark/cloudpickle/cloudpickle.py\n",
            "spark-3.1.2-bin-hadoop3.2/python/pyspark/cloudpickle/__init__.py\n",
            "spark-3.1.2-bin-hadoop3.2/python/pyspark/broadcast.pyi\n",
            "spark-3.1.2-bin-hadoop3.2/python/pyspark/broadcast.py\n",
            "spark-3.1.2-bin-hadoop3.2/python/pyspark/accumulators.pyi\n",
            "spark-3.1.2-bin-hadoop3.2/python/pyspark/accumulators.py\n",
            "spark-3.1.2-bin-hadoop3.2/python/pyspark/_typing.pyi\n",
            "spark-3.1.2-bin-hadoop3.2/python/pyspark/_globals.py\n",
            "spark-3.1.2-bin-hadoop3.2/python/pyspark/__init__.pyi\n",
            "spark-3.1.2-bin-hadoop3.2/python/pyspark/__init__.py\n",
            "spark-3.1.2-bin-hadoop3.2/python/pyspark/sql/\n",
            "spark-3.1.2-bin-hadoop3.2/python/pyspark/sql/window.pyi\n",
            "spark-3.1.2-bin-hadoop3.2/python/pyspark/sql/window.py\n",
            "spark-3.1.2-bin-hadoop3.2/python/pyspark/sql/utils.py\n",
            "spark-3.1.2-bin-hadoop3.2/python/pyspark/sql/udf.pyi\n",
            "spark-3.1.2-bin-hadoop3.2/python/pyspark/sql/types.pyi\n",
            "spark-3.1.2-bin-hadoop3.2/python/pyspark/sql/types.py\n",
            "spark-3.1.2-bin-hadoop3.2/python/pyspark/sql/tests/\n",
            "spark-3.1.2-bin-hadoop3.2/python/pyspark/sql/tests/test_utils.py\n",
            "spark-3.1.2-bin-hadoop3.2/python/pyspark/sql/tests/test_udf.py\n",
            "spark-3.1.2-bin-hadoop3.2/python/pyspark/sql/tests/test_types.py\n",
            "spark-3.1.2-bin-hadoop3.2/python/pyspark/sql/tests/test_streaming.py\n",
            "spark-3.1.2-bin-hadoop3.2/python/pyspark/sql/tests/test_session.py\n",
            "spark-3.1.2-bin-hadoop3.2/python/pyspark/sql/tests/test_serde.py\n",
            "spark-3.1.2-bin-hadoop3.2/python/pyspark/sql/tests/test_readwriter.py\n",
            "spark-3.1.2-bin-hadoop3.2/python/pyspark/sql/tests/test_pandas_udf_window.py\n",
            "spark-3.1.2-bin-hadoop3.2/python/pyspark/sql/tests/test_pandas_udf_typehints.py\n",
            "spark-3.1.2-bin-hadoop3.2/python/pyspark/sql/tests/test_pandas_udf_scalar.py\n",
            "spark-3.1.2-bin-hadoop3.2/python/pyspark/sql/tests/test_pandas_udf_grouped_agg.py\n",
            "spark-3.1.2-bin-hadoop3.2/python/pyspark/sql/tests/test_pandas_udf.py\n",
            "spark-3.1.2-bin-hadoop3.2/python/pyspark/sql/tests/test_pandas_map.py\n",
            "spark-3.1.2-bin-hadoop3.2/python/pyspark/sql/tests/test_pandas_cogrouped_map.py\n",
            "spark-3.1.2-bin-hadoop3.2/python/pyspark/sql/tests/test_datasources.py\n",
            "spark-3.1.2-bin-hadoop3.2/python/pyspark/sql/tests/test_context.py\n",
            "spark-3.1.2-bin-hadoop3.2/python/pyspark/sql/tests/test_conf.py\n",
            "spark-3.1.2-bin-hadoop3.2/python/pyspark/sql/tests/test_catalog.py\n",
            "spark-3.1.2-bin-hadoop3.2/python/pyspark/sql/tests/__init__.py\n",
            "spark-3.1.2-bin-hadoop3.2/python/pyspark/sql/tests/test_pandas_grouped_map.py\n",
            "spark-3.1.2-bin-hadoop3.2/python/pyspark/sql/tests/test_group.py\n",
            "spark-3.1.2-bin-hadoop3.2/python/pyspark/sql/tests/test_functions.py\n",
            "spark-3.1.2-bin-hadoop3.2/python/pyspark/sql/tests/test_dataframe.py\n",
            "spark-3.1.2-bin-hadoop3.2/python/pyspark/sql/tests/test_column.py\n",
            "spark-3.1.2-bin-hadoop3.2/python/pyspark/sql/tests/test_arrow.py\n",
            "spark-3.1.2-bin-hadoop3.2/python/pyspark/sql/streaming.pyi\n",
            "spark-3.1.2-bin-hadoop3.2/python/pyspark/sql/session.pyi\n",
            "spark-3.1.2-bin-hadoop3.2/python/pyspark/sql/readwriter.pyi\n",
            "spark-3.1.2-bin-hadoop3.2/python/pyspark/sql/pandas/\n",
            "spark-3.1.2-bin-hadoop3.2/python/pyspark/sql/pandas/utils.py\n",
            "spark-3.1.2-bin-hadoop3.2/python/pyspark/sql/pandas/typehints.py\n",
            "spark-3.1.2-bin-hadoop3.2/python/pyspark/sql/pandas/serializers.py\n",
            "spark-3.1.2-bin-hadoop3.2/python/pyspark/sql/pandas/map_ops.pyi\n",
            "spark-3.1.2-bin-hadoop3.2/python/pyspark/sql/pandas/map_ops.py\n",
            "spark-3.1.2-bin-hadoop3.2/python/pyspark/sql/pandas/group_ops.pyi\n",
            "spark-3.1.2-bin-hadoop3.2/python/pyspark/sql/pandas/group_ops.py\n",
            "spark-3.1.2-bin-hadoop3.2/python/pyspark/sql/pandas/functions.pyi\n",
            "spark-3.1.2-bin-hadoop3.2/python/pyspark/sql/pandas/functions.py\n",
            "spark-3.1.2-bin-hadoop3.2/python/pyspark/sql/pandas/conversion.pyi\n",
            "spark-3.1.2-bin-hadoop3.2/python/pyspark/sql/pandas/_typing/\n",
            "spark-3.1.2-bin-hadoop3.2/python/pyspark/sql/pandas/_typing/protocols/\n",
            "spark-3.1.2-bin-hadoop3.2/python/pyspark/sql/pandas/_typing/protocols/series.pyi\n",
            "spark-3.1.2-bin-hadoop3.2/python/pyspark/sql/pandas/_typing/protocols/frame.pyi\n",
            "spark-3.1.2-bin-hadoop3.2/python/pyspark/sql/pandas/_typing/protocols/__init__.pyi\n",
            "spark-3.1.2-bin-hadoop3.2/python/pyspark/sql/pandas/_typing/__init__.pyi\n",
            "spark-3.1.2-bin-hadoop3.2/python/pyspark/sql/pandas/__init__.py\n",
            "spark-3.1.2-bin-hadoop3.2/python/pyspark/sql/pandas/types.py\n",
            "spark-3.1.2-bin-hadoop3.2/python/pyspark/sql/pandas/conversion.py\n",
            "spark-3.1.2-bin-hadoop3.2/python/pyspark/sql/group.pyi\n",
            "spark-3.1.2-bin-hadoop3.2/python/pyspark/sql/group.py\n",
            "spark-3.1.2-bin-hadoop3.2/python/pyspark/sql/dataframe.pyi\n",
            "spark-3.1.2-bin-hadoop3.2/python/pyspark/sql/context.pyi\n",
            "spark-3.1.2-bin-hadoop3.2/python/pyspark/sql/conf.pyi\n",
            "spark-3.1.2-bin-hadoop3.2/python/pyspark/sql/conf.py\n",
            "spark-3.1.2-bin-hadoop3.2/python/pyspark/sql/column.pyi\n",
            "spark-3.1.2-bin-hadoop3.2/python/pyspark/sql/catalog.pyi\n",
            "spark-3.1.2-bin-hadoop3.2/python/pyspark/sql/avro/\n",
            "spark-3.1.2-bin-hadoop3.2/python/pyspark/sql/avro/__init__.py\n",
            "spark-3.1.2-bin-hadoop3.2/python/pyspark/sql/avro/functions.pyi\n",
            "spark-3.1.2-bin-hadoop3.2/python/pyspark/sql/avro/functions.py\n",
            "spark-3.1.2-bin-hadoop3.2/python/pyspark/sql/_typing.pyi\n",
            "spark-3.1.2-bin-hadoop3.2/python/pyspark/sql/__init__.pyi\n",
            "spark-3.1.2-bin-hadoop3.2/python/pyspark/sql/__init__.py\n",
            "spark-3.1.2-bin-hadoop3.2/python/pyspark/sql/udf.py\n",
            "spark-3.1.2-bin-hadoop3.2/python/pyspark/sql/streaming.py\n",
            "spark-3.1.2-bin-hadoop3.2/python/pyspark/sql/session.py\n",
            "spark-3.1.2-bin-hadoop3.2/python/pyspark/sql/readwriter.py\n",
            "spark-3.1.2-bin-hadoop3.2/python/pyspark/sql/functions.pyi\n",
            "spark-3.1.2-bin-hadoop3.2/python/pyspark/sql/functions.py\n",
            "spark-3.1.2-bin-hadoop3.2/python/pyspark/sql/dataframe.py\n",
            "spark-3.1.2-bin-hadoop3.2/python/pyspark/sql/context.py\n",
            "spark-3.1.2-bin-hadoop3.2/python/pyspark/sql/column.py\n",
            "spark-3.1.2-bin-hadoop3.2/python/pyspark/sql/catalog.py\n",
            "spark-3.1.2-bin-hadoop3.2/python/pyspark/shuffle.py\n",
            "spark-3.1.2-bin-hadoop3.2/python/pyspark/shell.py\n",
            "spark-3.1.2-bin-hadoop3.2/python/pyspark/serializers.py\n",
            "spark-3.1.2-bin-hadoop3.2/python/pyspark/resultiterable.pyi\n",
            "spark-3.1.2-bin-hadoop3.2/python/pyspark/resultiterable.py\n",
            "spark-3.1.2-bin-hadoop3.2/python/pyspark/resource/\n",
            "spark-3.1.2-bin-hadoop3.2/python/pyspark/resource/tests/\n",
            "spark-3.1.2-bin-hadoop3.2/python/pyspark/resource/tests/test_resources.py\n",
            "spark-3.1.2-bin-hadoop3.2/python/pyspark/resource/tests/__init__.py\n",
            "spark-3.1.2-bin-hadoop3.2/python/pyspark/resource/requests.pyi\n",
            "spark-3.1.2-bin-hadoop3.2/python/pyspark/resource/requests.py\n",
            "spark-3.1.2-bin-hadoop3.2/python/pyspark/resource/information.pyi\n",
            "spark-3.1.2-bin-hadoop3.2/python/pyspark/resource/information.py\n",
            "spark-3.1.2-bin-hadoop3.2/python/pyspark/resource/__init__.py\n",
            "spark-3.1.2-bin-hadoop3.2/python/pyspark/resource/profile.pyi\n",
            "spark-3.1.2-bin-hadoop3.2/python/pyspark/resource/profile.py\n",
            "spark-3.1.2-bin-hadoop3.2/python/pyspark/rddsampler.py\n",
            "spark-3.1.2-bin-hadoop3.2/python/pyspark/rdd.pyi\n",
            "spark-3.1.2-bin-hadoop3.2/python/pyspark/py.typed\n",
            "spark-3.1.2-bin-hadoop3.2/python/pyspark/profiler.pyi\n",
            "spark-3.1.2-bin-hadoop3.2/python/pyspark/profiler.py\n",
            "spark-3.1.2-bin-hadoop3.2/python/pyspark/worker.py\n",
            "spark-3.1.2-bin-hadoop3.2/python/pyspark/version.py\n",
            "spark-3.1.2-bin-hadoop3.2/python/pyspark/taskcontext.py\n",
            "spark-3.1.2-bin-hadoop3.2/python/pyspark/rdd.py\n",
            "spark-3.1.2-bin-hadoop3.2/python/pyspark/version.pyi\n",
            "spark-3.1.2-bin-hadoop3.2/python/pyspark/util.py\n",
            "spark-3.1.2-bin-hadoop3.2/python/pyspark/traceback_utils.py\n",
            "spark-3.1.2-bin-hadoop3.2/python/pyspark/tests/\n",
            "spark-3.1.2-bin-hadoop3.2/python/pyspark/tests/test_worker.py\n",
            "spark-3.1.2-bin-hadoop3.2/python/pyspark/tests/test_util.py\n",
            "spark-3.1.2-bin-hadoop3.2/python/pyspark/tests/test_taskcontext.py\n",
            "spark-3.1.2-bin-hadoop3.2/python/pyspark/tests/test_shuffle.py\n",
            "spark-3.1.2-bin-hadoop3.2/python/pyspark/tests/test_serializers.py\n",
            "spark-3.1.2-bin-hadoop3.2/python/pyspark/tests/test_readwrite.py\n",
            "spark-3.1.2-bin-hadoop3.2/python/pyspark/tests/test_rddbarrier.py\n",
            "spark-3.1.2-bin-hadoop3.2/python/pyspark/tests/test_rdd.py\n",
            "spark-3.1.2-bin-hadoop3.2/python/pyspark/tests/test_profiler.py\n",
            "spark-3.1.2-bin-hadoop3.2/python/pyspark/tests/test_pin_thread.py\n",
            "spark-3.1.2-bin-hadoop3.2/python/pyspark/tests/test_join.py\n",
            "spark-3.1.2-bin-hadoop3.2/python/pyspark/tests/test_install_spark.py\n",
            "spark-3.1.2-bin-hadoop3.2/python/pyspark/tests/test_daemon.py\n",
            "spark-3.1.2-bin-hadoop3.2/python/pyspark/tests/test_context.py\n",
            "spark-3.1.2-bin-hadoop3.2/python/pyspark/tests/test_conf.py\n",
            "spark-3.1.2-bin-hadoop3.2/python/pyspark/tests/test_broadcast.py\n",
            "spark-3.1.2-bin-hadoop3.2/python/pyspark/tests/test_appsubmit.py\n",
            "spark-3.1.2-bin-hadoop3.2/python/pyspark/tests/__init__.py\n",
            "spark-3.1.2-bin-hadoop3.2/python/pyspark/testing/\n",
            "spark-3.1.2-bin-hadoop3.2/python/pyspark/testing/streamingutils.py\n",
            "spark-3.1.2-bin-hadoop3.2/python/pyspark/testing/sqlutils.py\n",
            "spark-3.1.2-bin-hadoop3.2/python/pyspark/testing/mlutils.py\n",
            "spark-3.1.2-bin-hadoop3.2/python/pyspark/testing/mllibutils.py\n",
            "spark-3.1.2-bin-hadoop3.2/python/pyspark/testing/__init__.py\n",
            "spark-3.1.2-bin-hadoop3.2/python/pyspark/testing/utils.py\n",
            "spark-3.1.2-bin-hadoop3.2/python/pyspark/taskcontext.pyi\n",
            "spark-3.1.2-bin-hadoop3.2/python/pyspark/streaming/\n",
            "spark-3.1.2-bin-hadoop3.2/python/pyspark/streaming/util.py\n",
            "spark-3.1.2-bin-hadoop3.2/python/pyspark/streaming/tests/\n",
            "spark-3.1.2-bin-hadoop3.2/python/pyspark/streaming/tests/test_listener.py\n",
            "spark-3.1.2-bin-hadoop3.2/python/pyspark/streaming/tests/test_kinesis.py\n",
            "spark-3.1.2-bin-hadoop3.2/python/pyspark/streaming/tests/test_dstream.py\n",
            "spark-3.1.2-bin-hadoop3.2/python/pyspark/streaming/tests/test_context.py\n",
            "spark-3.1.2-bin-hadoop3.2/python/pyspark/streaming/tests/__init__.py\n",
            "spark-3.1.2-bin-hadoop3.2/python/pyspark/streaming/listener.pyi\n",
            "spark-3.1.2-bin-hadoop3.2/python/pyspark/streaming/listener.py\n",
            "spark-3.1.2-bin-hadoop3.2/python/pyspark/streaming/kinesis.pyi\n",
            "spark-3.1.2-bin-hadoop3.2/python/pyspark/streaming/kinesis.py\n",
            "spark-3.1.2-bin-hadoop3.2/python/pyspark/streaming/dstream.pyi\n",
            "spark-3.1.2-bin-hadoop3.2/python/pyspark/streaming/context.pyi\n",
            "spark-3.1.2-bin-hadoop3.2/python/pyspark/streaming/context.py\n",
            "spark-3.1.2-bin-hadoop3.2/python/pyspark/streaming/__init__.py\n",
            "spark-3.1.2-bin-hadoop3.2/python/pyspark/streaming/dstream.py\n",
            "spark-3.1.2-bin-hadoop3.2/python/pyspark/storagelevel.pyi\n",
            "spark-3.1.2-bin-hadoop3.2/python/pyspark/storagelevel.py\n",
            "spark-3.1.2-bin-hadoop3.2/python/pyspark/status.pyi\n",
            "spark-3.1.2-bin-hadoop3.2/python/pyspark/status.py\n",
            "spark-3.1.2-bin-hadoop3.2/python/pyspark/statcounter.pyi\n",
            "spark-3.1.2-bin-hadoop3.2/python/pyspark/statcounter.py\n",
            "spark-3.1.2-bin-hadoop3.2/python/pylintrc\n",
            "spark-3.1.2-bin-hadoop3.2/python/lib/\n",
            "spark-3.1.2-bin-hadoop3.2/python/lib/pyspark.zip\n",
            "spark-3.1.2-bin-hadoop3.2/python/lib/PY4J_LICENSE.txt\n",
            "spark-3.1.2-bin-hadoop3.2/python/lib/py4j-0.10.9-src.zip\n",
            "spark-3.1.2-bin-hadoop3.2/python/docs/\n",
            "spark-3.1.2-bin-hadoop3.2/python/docs/source/\n",
            "spark-3.1.2-bin-hadoop3.2/python/docs/source/user_guide/\n",
            "spark-3.1.2-bin-hadoop3.2/python/docs/source/user_guide/python_packaging.rst\n",
            "spark-3.1.2-bin-hadoop3.2/python/docs/source/user_guide/index.rst\n",
            "spark-3.1.2-bin-hadoop3.2/python/docs/source/user_guide/arrow_pandas.rst\n",
            "spark-3.1.2-bin-hadoop3.2/python/docs/source/reference/\n",
            "spark-3.1.2-bin-hadoop3.2/python/docs/source/reference/pyspark.streaming.rst\n",
            "spark-3.1.2-bin-hadoop3.2/python/docs/source/reference/pyspark.ss.rst\n",
            "spark-3.1.2-bin-hadoop3.2/python/docs/source/reference/pyspark.rst\n",
            "spark-3.1.2-bin-hadoop3.2/python/docs/source/reference/pyspark.resource.rst\n",
            "spark-3.1.2-bin-hadoop3.2/python/docs/source/reference/pyspark.mllib.rst\n",
            "spark-3.1.2-bin-hadoop3.2/python/docs/source/reference/index.rst\n",
            "spark-3.1.2-bin-hadoop3.2/python/docs/source/reference/pyspark.sql.rst\n",
            "spark-3.1.2-bin-hadoop3.2/python/docs/source/reference/pyspark.ml.rst\n",
            "spark-3.1.2-bin-hadoop3.2/python/docs/source/migration_guide/\n",
            "spark-3.1.2-bin-hadoop3.2/python/docs/source/migration_guide/pyspark_2.3_to_2.4.rst\n",
            "spark-3.1.2-bin-hadoop3.2/python/docs/source/migration_guide/pyspark_2.3.0_to_2.3.1_above.rst\n",
            "spark-3.1.2-bin-hadoop3.2/python/docs/source/migration_guide/pyspark_2.2_to_2.3.rst\n",
            "spark-3.1.2-bin-hadoop3.2/python/docs/source/migration_guide/pyspark_1.4_to_1.5.rst\n",
            "spark-3.1.2-bin-hadoop3.2/python/docs/source/migration_guide/pyspark_1.0_1.2_to_1.3.rst\n",
            "spark-3.1.2-bin-hadoop3.2/python/docs/source/migration_guide/pyspark_2.4_to_3.0.rst\n",
            "spark-3.1.2-bin-hadoop3.2/python/docs/source/migration_guide/index.rst\n",
            "spark-3.1.2-bin-hadoop3.2/python/docs/source/getting_started/\n",
            "spark-3.1.2-bin-hadoop3.2/python/docs/source/getting_started/quickstart.ipynb\n",
            "spark-3.1.2-bin-hadoop3.2/python/docs/source/getting_started/index.rst\n",
            "spark-3.1.2-bin-hadoop3.2/python/docs/source/getting_started/install.rst\n",
            "spark-3.1.2-bin-hadoop3.2/python/docs/source/development/\n",
            "spark-3.1.2-bin-hadoop3.2/python/docs/source/development/testing.rst\n",
            "spark-3.1.2-bin-hadoop3.2/python/docs/source/development/setting_ide.rst\n",
            "spark-3.1.2-bin-hadoop3.2/python/docs/source/development/index.rst\n",
            "spark-3.1.2-bin-hadoop3.2/python/docs/source/development/debugging.rst\n",
            "spark-3.1.2-bin-hadoop3.2/python/docs/source/development/contributing.rst\n",
            "spark-3.1.2-bin-hadoop3.2/python/docs/source/_templates/\n",
            "spark-3.1.2-bin-hadoop3.2/python/docs/source/_templates/autosummary/\n",
            "spark-3.1.2-bin-hadoop3.2/python/docs/source/_templates/autosummary/class_with_docs.rst\n",
            "spark-3.1.2-bin-hadoop3.2/python/docs/source/_templates/autosummary/class.rst\n",
            "spark-3.1.2-bin-hadoop3.2/python/docs/source/_static/\n",
            "spark-3.1.2-bin-hadoop3.2/python/docs/source/_static/css/\n",
            "spark-3.1.2-bin-hadoop3.2/python/docs/source/_static/css/pyspark.css\n",
            "spark-3.1.2-bin-hadoop3.2/python/docs/source/_static/copybutton.js\n",
            "spark-3.1.2-bin-hadoop3.2/python/docs/source/index.rst\n",
            "spark-3.1.2-bin-hadoop3.2/python/docs/source/conf.py\n",
            "spark-3.1.2-bin-hadoop3.2/python/docs/make.bat\n",
            "spark-3.1.2-bin-hadoop3.2/python/docs/make2.bat\n",
            "spark-3.1.2-bin-hadoop3.2/python/docs/Makefile\n",
            "spark-3.1.2-bin-hadoop3.2/python/README.md\n",
            "spark-3.1.2-bin-hadoop3.2/python/MANIFEST.in\n",
            "spark-3.1.2-bin-hadoop3.2/python/.gitignore\n",
            "spark-3.1.2-bin-hadoop3.2/python/.coveragerc\n",
            "spark-3.1.2-bin-hadoop3.2/python/setup.py\n",
            "spark-3.1.2-bin-hadoop3.2/python/run-tests.py\n",
            "spark-3.1.2-bin-hadoop3.2/python/run-tests-with-coverage\n",
            "spark-3.1.2-bin-hadoop3.2/python/mypy.ini\n",
            "spark-3.1.2-bin-hadoop3.2/python/test_support/\n",
            "spark-3.1.2-bin-hadoop3.2/python/test_support/userlibrary.py\n",
            "spark-3.1.2-bin-hadoop3.2/python/test_support/userlib-0.1.zip\n",
            "spark-3.1.2-bin-hadoop3.2/python/test_support/sql/\n",
            "spark-3.1.2-bin-hadoop3.2/python/test_support/sql/text-test.txt\n",
            "spark-3.1.2-bin-hadoop3.2/python/test_support/sql/streaming/\n",
            "spark-3.1.2-bin-hadoop3.2/python/test_support/sql/streaming/text-test.txt\n",
            "spark-3.1.2-bin-hadoop3.2/python/test_support/sql/people_array_utf16le.json\n",
            "spark-3.1.2-bin-hadoop3.2/python/test_support/sql/people_array.json\n",
            "spark-3.1.2-bin-hadoop3.2/python/test_support/sql/people1.json\n",
            "spark-3.1.2-bin-hadoop3.2/python/test_support/sql/people.json\n",
            "spark-3.1.2-bin-hadoop3.2/python/test_support/sql/parquet_partitioned/\n",
            "spark-3.1.2-bin-hadoop3.2/python/test_support/sql/parquet_partitioned/year=2015/\n",
            "spark-3.1.2-bin-hadoop3.2/python/test_support/sql/parquet_partitioned/year=2015/month=9/\n",
            "spark-3.1.2-bin-hadoop3.2/python/test_support/sql/parquet_partitioned/year=2015/month=9/day=1/\n",
            "spark-3.1.2-bin-hadoop3.2/python/test_support/sql/parquet_partitioned/year=2015/month=9/day=1/part-r-00007.gz.parquet\n",
            "spark-3.1.2-bin-hadoop3.2/python/test_support/sql/parquet_partitioned/year=2015/month=9/day=1/.part-r-00007.gz.parquet.crc\n",
            "spark-3.1.2-bin-hadoop3.2/python/test_support/sql/parquet_partitioned/year=2015/month=10/\n",
            "spark-3.1.2-bin-hadoop3.2/python/test_support/sql/parquet_partitioned/year=2015/month=10/day=26/\n",
            "spark-3.1.2-bin-hadoop3.2/python/test_support/sql/parquet_partitioned/year=2015/month=10/day=26/part-r-00005.gz.parquet\n",
            "spark-3.1.2-bin-hadoop3.2/python/test_support/sql/parquet_partitioned/year=2015/month=10/day=26/.part-r-00005.gz.parquet.crc\n",
            "spark-3.1.2-bin-hadoop3.2/python/test_support/sql/parquet_partitioned/year=2015/month=10/day=25/\n",
            "spark-3.1.2-bin-hadoop3.2/python/test_support/sql/parquet_partitioned/year=2015/month=10/day=25/part-r-00004.gz.parquet\n",
            "spark-3.1.2-bin-hadoop3.2/python/test_support/sql/parquet_partitioned/year=2015/month=10/day=25/part-r-00002.gz.parquet\n",
            "spark-3.1.2-bin-hadoop3.2/python/test_support/sql/parquet_partitioned/year=2015/month=10/day=25/.part-r-00004.gz.parquet.crc\n",
            "spark-3.1.2-bin-hadoop3.2/python/test_support/sql/parquet_partitioned/year=2015/month=10/day=25/.part-r-00002.gz.parquet.crc\n",
            "spark-3.1.2-bin-hadoop3.2/python/test_support/sql/parquet_partitioned/year=2014/\n",
            "spark-3.1.2-bin-hadoop3.2/python/test_support/sql/parquet_partitioned/year=2014/month=9/\n",
            "spark-3.1.2-bin-hadoop3.2/python/test_support/sql/parquet_partitioned/year=2014/month=9/day=1/\n",
            "spark-3.1.2-bin-hadoop3.2/python/test_support/sql/parquet_partitioned/year=2014/month=9/day=1/part-r-00008.gz.parquet\n",
            "spark-3.1.2-bin-hadoop3.2/python/test_support/sql/parquet_partitioned/year=2014/month=9/day=1/.part-r-00008.gz.parquet.crc\n",
            "spark-3.1.2-bin-hadoop3.2/python/test_support/sql/parquet_partitioned/_metadata\n",
            "spark-3.1.2-bin-hadoop3.2/python/test_support/sql/parquet_partitioned/_common_metadata\n",
            "spark-3.1.2-bin-hadoop3.2/python/test_support/sql/parquet_partitioned/_SUCCESS\n",
            "spark-3.1.2-bin-hadoop3.2/python/test_support/sql/orc_partitioned/\n",
            "spark-3.1.2-bin-hadoop3.2/python/test_support/sql/orc_partitioned/b=1/\n",
            "spark-3.1.2-bin-hadoop3.2/python/test_support/sql/orc_partitioned/b=1/c=1/\n",
            "spark-3.1.2-bin-hadoop3.2/python/test_support/sql/orc_partitioned/b=1/c=1/part-r-00000-829af031-b970-49d6-ad39-30460a0be2c8.orc\n",
            "spark-3.1.2-bin-hadoop3.2/python/test_support/sql/orc_partitioned/b=1/c=1/.part-r-00000-829af031-b970-49d6-ad39-30460a0be2c8.orc.crc\n",
            "spark-3.1.2-bin-hadoop3.2/python/test_support/sql/orc_partitioned/b=0/\n",
            "spark-3.1.2-bin-hadoop3.2/python/test_support/sql/orc_partitioned/b=0/c=0/\n",
            "spark-3.1.2-bin-hadoop3.2/python/test_support/sql/orc_partitioned/b=0/c=0/part-r-00000-829af031-b970-49d6-ad39-30460a0be2c8.orc\n",
            "spark-3.1.2-bin-hadoop3.2/python/test_support/sql/orc_partitioned/b=0/c=0/.part-r-00000-829af031-b970-49d6-ad39-30460a0be2c8.orc.crc\n",
            "spark-3.1.2-bin-hadoop3.2/python/test_support/sql/orc_partitioned/_SUCCESS\n",
            "spark-3.1.2-bin-hadoop3.2/python/test_support/sql/ages_newlines.csv\n",
            "spark-3.1.2-bin-hadoop3.2/python/test_support/sql/ages.csv\n",
            "spark-3.1.2-bin-hadoop3.2/python/test_support/hello/\n",
            "spark-3.1.2-bin-hadoop3.2/python/test_support/hello/sub_hello/\n",
            "spark-3.1.2-bin-hadoop3.2/python/test_support/hello/sub_hello/sub_hello.txt\n",
            "spark-3.1.2-bin-hadoop3.2/python/test_support/hello/hello.txt\n",
            "spark-3.1.2-bin-hadoop3.2/python/test_support/SimpleHTTPServer.py\n",
            "spark-3.1.2-bin-hadoop3.2/python/test_coverage/\n",
            "spark-3.1.2-bin-hadoop3.2/python/test_coverage/sitecustomize.py\n",
            "spark-3.1.2-bin-hadoop3.2/python/test_coverage/coverage_daemon.py\n",
            "spark-3.1.2-bin-hadoop3.2/python/test_coverage/conf/\n",
            "spark-3.1.2-bin-hadoop3.2/python/test_coverage/conf/spark-defaults.conf\n",
            "spark-3.1.2-bin-hadoop3.2/python/setup.cfg\n",
            "spark-3.1.2-bin-hadoop3.2/python/run-tests\n",
            "spark-3.1.2-bin-hadoop3.2/bin/\n",
            "spark-3.1.2-bin-hadoop3.2/bin/sparkR2.cmd\n",
            "spark-3.1.2-bin-hadoop3.2/bin/sparkR.cmd\n",
            "spark-3.1.2-bin-hadoop3.2/bin/sparkR\n",
            "spark-3.1.2-bin-hadoop3.2/bin/spark-submit2.cmd\n",
            "spark-3.1.2-bin-hadoop3.2/bin/spark-submit.cmd\n",
            "spark-3.1.2-bin-hadoop3.2/bin/spark-submit\n",
            "spark-3.1.2-bin-hadoop3.2/bin/spark-sql2.cmd\n",
            "spark-3.1.2-bin-hadoop3.2/bin/spark-sql.cmd\n",
            "spark-3.1.2-bin-hadoop3.2/bin/spark-sql\n",
            "spark-3.1.2-bin-hadoop3.2/bin/spark-shell2.cmd\n",
            "spark-3.1.2-bin-hadoop3.2/bin/spark-shell.cmd\n",
            "spark-3.1.2-bin-hadoop3.2/bin/spark-shell\n",
            "spark-3.1.2-bin-hadoop3.2/bin/spark-class2.cmd\n",
            "spark-3.1.2-bin-hadoop3.2/bin/spark-class.cmd\n",
            "spark-3.1.2-bin-hadoop3.2/bin/spark-class\n",
            "spark-3.1.2-bin-hadoop3.2/bin/run-example.cmd\n",
            "spark-3.1.2-bin-hadoop3.2/bin/run-example\n",
            "spark-3.1.2-bin-hadoop3.2/bin/pyspark.cmd\n",
            "spark-3.1.2-bin-hadoop3.2/bin/load-spark-env.sh\n",
            "spark-3.1.2-bin-hadoop3.2/bin/load-spark-env.cmd\n",
            "spark-3.1.2-bin-hadoop3.2/bin/find-spark-home.cmd\n",
            "spark-3.1.2-bin-hadoop3.2/bin/find-spark-home\n",
            "spark-3.1.2-bin-hadoop3.2/bin/docker-image-tool.sh\n",
            "spark-3.1.2-bin-hadoop3.2/bin/beeline.cmd\n",
            "spark-3.1.2-bin-hadoop3.2/bin/beeline\n",
            "spark-3.1.2-bin-hadoop3.2/bin/pyspark2.cmd\n",
            "spark-3.1.2-bin-hadoop3.2/bin/pyspark\n",
            "spark-3.1.2-bin-hadoop3.2/README.md\n",
            "spark-3.1.2-bin-hadoop3.2/conf/\n",
            "spark-3.1.2-bin-hadoop3.2/conf/workers.template\n",
            "spark-3.1.2-bin-hadoop3.2/conf/spark-env.sh.template\n",
            "spark-3.1.2-bin-hadoop3.2/conf/spark-defaults.conf.template\n",
            "spark-3.1.2-bin-hadoop3.2/conf/metrics.properties.template\n",
            "spark-3.1.2-bin-hadoop3.2/conf/log4j.properties.template\n",
            "spark-3.1.2-bin-hadoop3.2/conf/fairscheduler.xml.template\n",
            "spark-3.1.2-bin-hadoop3.2/data/\n",
            "spark-3.1.2-bin-hadoop3.2/data/streaming/\n",
            "spark-3.1.2-bin-hadoop3.2/data/streaming/AFINN-111.txt\n",
            "spark-3.1.2-bin-hadoop3.2/data/mllib/\n",
            "spark-3.1.2-bin-hadoop3.2/data/mllib/streaming_kmeans_data_test.txt\n",
            "spark-3.1.2-bin-hadoop3.2/data/mllib/sample_svm_data.txt\n",
            "spark-3.1.2-bin-hadoop3.2/data/mllib/sample_multiclass_classification_data.txt\n",
            "spark-3.1.2-bin-hadoop3.2/data/mllib/sample_movielens_data.txt\n",
            "spark-3.1.2-bin-hadoop3.2/data/mllib/sample_linear_regression_data.txt\n",
            "spark-3.1.2-bin-hadoop3.2/data/mllib/sample_libsvm_data.txt\n",
            "spark-3.1.2-bin-hadoop3.2/data/mllib/sample_lda_libsvm_data.txt\n",
            "spark-3.1.2-bin-hadoop3.2/data/mllib/sample_lda_data.txt\n",
            "spark-3.1.2-bin-hadoop3.2/data/mllib/sample_kmeans_data.txt\n",
            "spark-3.1.2-bin-hadoop3.2/data/mllib/sample_isotonic_regression_libsvm_data.txt\n",
            "spark-3.1.2-bin-hadoop3.2/data/mllib/sample_fpgrowth.txt\n",
            "spark-3.1.2-bin-hadoop3.2/data/mllib/sample_binary_classification_data.txt\n",
            "spark-3.1.2-bin-hadoop3.2/data/mllib/ridge-data/\n",
            "spark-3.1.2-bin-hadoop3.2/data/mllib/ridge-data/lpsa.data\n",
            "spark-3.1.2-bin-hadoop3.2/data/mllib/pic_data.txt\n",
            "spark-3.1.2-bin-hadoop3.2/data/mllib/pagerank_data.txt\n",
            "spark-3.1.2-bin-hadoop3.2/data/mllib/kmeans_data.txt\n",
            "spark-3.1.2-bin-hadoop3.2/data/mllib/iris_libsvm.txt\n",
            "spark-3.1.2-bin-hadoop3.2/data/mllib/images/\n",
            "spark-3.1.2-bin-hadoop3.2/data/mllib/images/partitioned/\n",
            "spark-3.1.2-bin-hadoop3.2/data/mllib/images/partitioned/cls=multichannel/\n",
            "spark-3.1.2-bin-hadoop3.2/data/mllib/images/partitioned/cls=multichannel/date=2018-02/\n",
            "spark-3.1.2-bin-hadoop3.2/data/mllib/images/partitioned/cls=multichannel/date=2018-02/grayscale.jpg\n",
            "spark-3.1.2-bin-hadoop3.2/data/mllib/images/partitioned/cls=multichannel/date=2018-02/chr30.4.184.jpg\n",
            "spark-3.1.2-bin-hadoop3.2/data/mllib/images/partitioned/cls=multichannel/date=2018-01/\n",
            "spark-3.1.2-bin-hadoop3.2/data/mllib/images/partitioned/cls=multichannel/date=2018-01/BGRA_alpha_60.png\n",
            "spark-3.1.2-bin-hadoop3.2/data/mllib/images/partitioned/cls=multichannel/date=2018-01/BGRA.png\n",
            "spark-3.1.2-bin-hadoop3.2/data/mllib/images/partitioned/cls=kittens/\n",
            "spark-3.1.2-bin-hadoop3.2/data/mllib/images/partitioned/cls=kittens/date=2018-02/\n",
            "spark-3.1.2-bin-hadoop3.2/data/mllib/images/partitioned/cls=kittens/date=2018-02/DP802813.jpg\n",
            "spark-3.1.2-bin-hadoop3.2/data/mllib/images/partitioned/cls=kittens/date=2018-02/DP153539.jpg\n",
            "spark-3.1.2-bin-hadoop3.2/data/mllib/images/partitioned/cls=kittens/date=2018-02/54893.jpg\n",
            "spark-3.1.2-bin-hadoop3.2/data/mllib/images/partitioned/cls=kittens/date=2018-01/\n",
            "spark-3.1.2-bin-hadoop3.2/data/mllib/images/partitioned/cls=kittens/date=2018-01/not-image.txt\n",
            "spark-3.1.2-bin-hadoop3.2/data/mllib/images/partitioned/cls=kittens/date=2018-01/29.5.a_b_EGDP022204.jpg\n",
            "spark-3.1.2-bin-hadoop3.2/data/mllib/images/origin/\n",
            "spark-3.1.2-bin-hadoop3.2/data/mllib/images/origin/multi-channel/\n",
            "spark-3.1.2-bin-hadoop3.2/data/mllib/images/origin/multi-channel/grayscale.jpg\n",
            "spark-3.1.2-bin-hadoop3.2/data/mllib/images/origin/multi-channel/chr30.4.184.jpg\n",
            "spark-3.1.2-bin-hadoop3.2/data/mllib/images/origin/multi-channel/BGRA_alpha_60.png\n",
            "spark-3.1.2-bin-hadoop3.2/data/mllib/images/origin/multi-channel/BGRA.png\n",
            "spark-3.1.2-bin-hadoop3.2/data/mllib/images/origin/license.txt\n",
            "spark-3.1.2-bin-hadoop3.2/data/mllib/images/origin/kittens/\n",
            "spark-3.1.2-bin-hadoop3.2/data/mllib/images/origin/kittens/not-image.txt\n",
            "spark-3.1.2-bin-hadoop3.2/data/mllib/images/origin/kittens/DP802813.jpg\n",
            "spark-3.1.2-bin-hadoop3.2/data/mllib/images/origin/kittens/DP153539.jpg\n",
            "spark-3.1.2-bin-hadoop3.2/data/mllib/images/origin/kittens/54893.jpg\n",
            "spark-3.1.2-bin-hadoop3.2/data/mllib/images/origin/kittens/29.5.a_b_EGDP022204.jpg\n",
            "spark-3.1.2-bin-hadoop3.2/data/mllib/images/license.txt\n",
            "spark-3.1.2-bin-hadoop3.2/data/mllib/gmm_data.txt\n",
            "spark-3.1.2-bin-hadoop3.2/data/mllib/als/\n",
            "spark-3.1.2-bin-hadoop3.2/data/mllib/als/test.data\n",
            "spark-3.1.2-bin-hadoop3.2/data/mllib/als/sample_movielens_ratings.txt\n",
            "spark-3.1.2-bin-hadoop3.2/data/graphx/\n",
            "spark-3.1.2-bin-hadoop3.2/data/graphx/users.txt\n",
            "spark-3.1.2-bin-hadoop3.2/data/graphx/followers.txt\n",
            "spark-3.1.2-bin-hadoop3.2/NOTICE\n",
            "spark-3.1.2-bin-hadoop3.2/licenses/\n",
            "spark-3.1.2-bin-hadoop3.2/licenses/LICENSE-zstd.txt\n",
            "spark-3.1.2-bin-hadoop3.2/licenses/LICENSE-zstd-jni.txt\n",
            "spark-3.1.2-bin-hadoop3.2/licenses/LICENSE-xmlenc.txt\n",
            "spark-3.1.2-bin-hadoop3.2/licenses/LICENSE-vis-timeline.txt\n",
            "spark-3.1.2-bin-hadoop3.2/licenses/LICENSE-spire.txt\n",
            "spark-3.1.2-bin-hadoop3.2/licenses/LICENSE-sorttable.js.txt\n",
            "spark-3.1.2-bin-hadoop3.2/licenses/LICENSE-slf4j.txt\n",
            "spark-3.1.2-bin-hadoop3.2/licenses/LICENSE-scopt.txt\n",
            "spark-3.1.2-bin-hadoop3.2/licenses/LICENSE-scala.txt\n",
            "spark-3.1.2-bin-hadoop3.2/licenses/LICENSE-sbt-launch-lib.txt\n",
            "spark-3.1.2-bin-hadoop3.2/licenses/LICENSE-respond.txt\n",
            "spark-3.1.2-bin-hadoop3.2/licenses/LICENSE-reflectasm.txt\n",
            "spark-3.1.2-bin-hadoop3.2/licenses/LICENSE-re2j.txt\n",
            "spark-3.1.2-bin-hadoop3.2/licenses/LICENSE-pyrolite.txt\n",
            "spark-3.1.2-bin-hadoop3.2/licenses/LICENSE-py4j.txt\n",
            "spark-3.1.2-bin-hadoop3.2/licenses/LICENSE-protobuf.txt\n",
            "spark-3.1.2-bin-hadoop3.2/licenses/LICENSE-pmml-model.txt\n",
            "spark-3.1.2-bin-hadoop3.2/licenses/LICENSE-paranamer.txt\n",
            "spark-3.1.2-bin-hadoop3.2/licenses/LICENSE-netlib.txt\n",
            "spark-3.1.2-bin-hadoop3.2/licenses/LICENSE-mustache.txt\n",
            "spark-3.1.2-bin-hadoop3.2/licenses/LICENSE-modernizr.txt\n",
            "spark-3.1.2-bin-hadoop3.2/licenses/LICENSE-minlog.txt\n",
            "spark-3.1.2-bin-hadoop3.2/licenses/LICENSE-matchMedia-polyfill.txt\n",
            "spark-3.1.2-bin-hadoop3.2/licenses/LICENSE-machinist.txt\n",
            "spark-3.1.2-bin-hadoop3.2/licenses/LICENSE-leveldbjni.txt\n",
            "spark-3.1.2-bin-hadoop3.2/licenses/LICENSE-kryo.txt\n",
            "spark-3.1.2-bin-hadoop3.2/licenses/LICENSE-jsp-api.txt\n",
            "spark-3.1.2-bin-hadoop3.2/licenses/LICENSE-json-formatter.txt\n",
            "spark-3.1.2-bin-hadoop3.2/licenses/LICENSE-jquery.txt\n",
            "spark-3.1.2-bin-hadoop3.2/licenses/LICENSE-join.txt\n",
            "spark-3.1.2-bin-hadoop3.2/licenses/LICENSE-jodd.txt\n",
            "spark-3.1.2-bin-hadoop3.2/licenses/LICENSE-jline.txt\n",
            "spark-3.1.2-bin-hadoop3.2/licenses/LICENSE-jaxb-runtime.txt\n",
            "spark-3.1.2-bin-hadoop3.2/licenses/LICENSE-javolution.txt\n",
            "spark-3.1.2-bin-hadoop3.2/licenses/LICENSE-javax-transaction-transaction-api.txt\n",
            "spark-3.1.2-bin-hadoop3.2/licenses/LICENSE-javassist.html\n",
            "spark-3.1.2-bin-hadoop3.2/licenses/LICENSE-janino.txt\n",
            "spark-3.1.2-bin-hadoop3.2/licenses/LICENSE-jakarta.xml.bind-api.txt\n",
            "spark-3.1.2-bin-hadoop3.2/licenses/LICENSE-jakarta.activation-api.txt\n",
            "spark-3.1.2-bin-hadoop3.2/licenses/LICENSE-jakarta-ws-rs-api\n",
            "spark-3.1.2-bin-hadoop3.2/licenses/LICENSE-jakarta-annotation-api\n",
            "spark-3.1.2-bin-hadoop3.2/licenses/LICENSE-istack-commons-runtime.txt\n",
            "spark-3.1.2-bin-hadoop3.2/licenses/LICENSE-graphlib-dot.txt\n",
            "spark-3.1.2-bin-hadoop3.2/licenses/LICENSE-f2j.txt\n",
            "spark-3.1.2-bin-hadoop3.2/licenses/LICENSE-dnsjava.txt\n",
            "spark-3.1.2-bin-hadoop3.2/licenses/LICENSE-datatables.txt\n",
            "spark-3.1.2-bin-hadoop3.2/licenses/LICENSE-dagre-d3.txt\n",
            "spark-3.1.2-bin-hadoop3.2/licenses/LICENSE-d3.min.js.txt\n",
            "spark-3.1.2-bin-hadoop3.2/licenses/LICENSE-cloudpickle.txt\n",
            "spark-3.1.2-bin-hadoop3.2/licenses/LICENSE-bootstrap.txt\n",
            "spark-3.1.2-bin-hadoop3.2/licenses/LICENSE-automaton.txt\n",
            "spark-3.1.2-bin-hadoop3.2/licenses/LICENSE-arpack.txt\n",
            "spark-3.1.2-bin-hadoop3.2/licenses/LICENSE-antlr.txt\n",
            "spark-3.1.2-bin-hadoop3.2/licenses/LICENSE-JTransforms.txt\n",
            "spark-3.1.2-bin-hadoop3.2/licenses/LICENSE-JLargeArrays.txt\n",
            "spark-3.1.2-bin-hadoop3.2/licenses/LICENSE-CC0.txt\n",
            "spark-3.1.2-bin-hadoop3.2/licenses/LICENSE-AnchorJS.txt\n",
            "spark-3.1.2-bin-hadoop3.2/LICENSE\n",
            "spark-3.1.2-bin-hadoop3.2/examples/\n",
            "spark-3.1.2-bin-hadoop3.2/examples/src/\n",
            "spark-3.1.2-bin-hadoop3.2/examples/src/main/\n",
            "spark-3.1.2-bin-hadoop3.2/examples/src/main/scala/\n",
            "spark-3.1.2-bin-hadoop3.2/examples/src/main/scala/org/\n",
            "spark-3.1.2-bin-hadoop3.2/examples/src/main/scala/org/apache/\n",
            "spark-3.1.2-bin-hadoop3.2/examples/src/main/scala/org/apache/spark/\n",
            "spark-3.1.2-bin-hadoop3.2/examples/src/main/scala/org/apache/spark/examples/\n",
            "spark-3.1.2-bin-hadoop3.2/examples/src/main/scala/org/apache/spark/examples/mllib/\n",
            "spark-3.1.2-bin-hadoop3.2/examples/src/main/scala/org/apache/spark/examples/mllib/PrefixSpanExample.scala\n",
            "spark-3.1.2-bin-hadoop3.2/examples/src/main/scala/org/apache/spark/examples/mllib/PowerIterationClusteringExample.scala\n",
            "spark-3.1.2-bin-hadoop3.2/examples/src/main/scala/org/apache/spark/examples/mllib/PMMLModelExportExample.scala\n",
            "spark-3.1.2-bin-hadoop3.2/examples/src/main/scala/org/apache/spark/examples/mllib/PCAOnSourceVectorExample.scala\n",
            "spark-3.1.2-bin-hadoop3.2/examples/src/main/scala/org/apache/spark/examples/mllib/PCAOnRowMatrixExample.scala\n",
            "spark-3.1.2-bin-hadoop3.2/examples/src/main/scala/org/apache/spark/examples/mllib/NormalizerExample.scala\n",
            "spark-3.1.2-bin-hadoop3.2/examples/src/main/scala/org/apache/spark/examples/mllib/NaiveBayesExample.scala\n",
            "spark-3.1.2-bin-hadoop3.2/examples/src/main/scala/org/apache/spark/examples/mllib/MultivariateSummarizer.scala\n",
            "spark-3.1.2-bin-hadoop3.2/examples/src/main/scala/org/apache/spark/examples/mllib/MulticlassMetricsExample.scala\n",
            "spark-3.1.2-bin-hadoop3.2/examples/src/main/scala/org/apache/spark/examples/mllib/MultiLabelMetricsExample.scala\n",
            "spark-3.1.2-bin-hadoop3.2/examples/src/main/scala/org/apache/spark/examples/mllib/MovieLensALS.scala\n",
            "spark-3.1.2-bin-hadoop3.2/examples/src/main/scala/org/apache/spark/examples/mllib/LogisticRegressionWithLBFGSExample.scala\n",
            "spark-3.1.2-bin-hadoop3.2/examples/src/main/scala/org/apache/spark/examples/mllib/LatentDirichletAllocationExample.scala\n",
            "spark-3.1.2-bin-hadoop3.2/examples/src/main/scala/org/apache/spark/examples/mllib/LDAExample.scala\n",
            "spark-3.1.2-bin-hadoop3.2/examples/src/main/scala/org/apache/spark/examples/mllib/LBFGSExample.scala\n",
            "spark-3.1.2-bin-hadoop3.2/examples/src/main/scala/org/apache/spark/examples/mllib/KernelDensityEstimationExample.scala\n",
            "spark-3.1.2-bin-hadoop3.2/examples/src/main/scala/org/apache/spark/examples/mllib/KMeansExample.scala\n",
            "spark-3.1.2-bin-hadoop3.2/examples/src/main/scala/org/apache/spark/examples/mllib/IsotonicRegressionExample.scala\n",
            "spark-3.1.2-bin-hadoop3.2/examples/src/main/scala/org/apache/spark/examples/mllib/HypothesisTestingKolmogorovSmirnovTestExample.scala\n",
            "spark-3.1.2-bin-hadoop3.2/examples/src/main/scala/org/apache/spark/examples/mllib/HypothesisTestingExample.scala\n",
            "spark-3.1.2-bin-hadoop3.2/examples/src/main/scala/org/apache/spark/examples/mllib/GradientBoostingRegressionExample.scala\n",
            "spark-3.1.2-bin-hadoop3.2/examples/src/main/scala/org/apache/spark/examples/mllib/GradientBoostingClassificationExample.scala\n",
            "spark-3.1.2-bin-hadoop3.2/examples/src/main/scala/org/apache/spark/examples/mllib/GradientBoostedTreesRunner.scala\n",
            "spark-3.1.2-bin-hadoop3.2/examples/src/main/scala/org/apache/spark/examples/mllib/GaussianMixtureExample.scala\n",
            "spark-3.1.2-bin-hadoop3.2/examples/src/main/scala/org/apache/spark/examples/mllib/FPGrowthExample.scala\n",
            "spark-3.1.2-bin-hadoop3.2/examples/src/main/scala/org/apache/spark/examples/mllib/ElementwiseProductExample.scala\n",
            "spark-3.1.2-bin-hadoop3.2/examples/src/main/scala/org/apache/spark/examples/mllib/DenseKMeans.scala\n",
            "spark-3.1.2-bin-hadoop3.2/examples/src/main/scala/org/apache/spark/examples/mllib/DecisionTreeRunner.scala\n",
            "spark-3.1.2-bin-hadoop3.2/examples/src/main/scala/org/apache/spark/examples/mllib/DecisionTreeRegressionExample.scala\n",
            "spark-3.1.2-bin-hadoop3.2/examples/src/main/scala/org/apache/spark/examples/mllib/DecisionTreeClassificationExample.scala\n",
            "spark-3.1.2-bin-hadoop3.2/examples/src/main/scala/org/apache/spark/examples/mllib/CosineSimilarity.scala\n",
            "spark-3.1.2-bin-hadoop3.2/examples/src/main/scala/org/apache/spark/examples/mllib/CorrelationsExample.scala\n",
            "spark-3.1.2-bin-hadoop3.2/examples/src/main/scala/org/apache/spark/examples/mllib/Correlations.scala\n",
            "spark-3.1.2-bin-hadoop3.2/examples/src/main/scala/org/apache/spark/examples/mllib/ChiSqSelectorExample.scala\n",
            "spark-3.1.2-bin-hadoop3.2/examples/src/main/scala/org/apache/spark/examples/mllib/BisectingKMeansExample.scala\n",
            "spark-3.1.2-bin-hadoop3.2/examples/src/main/scala/org/apache/spark/examples/mllib/BinaryClassificationMetricsExample.scala\n",
            "spark-3.1.2-bin-hadoop3.2/examples/src/main/scala/org/apache/spark/examples/mllib/BinaryClassification.scala\n",
            "spark-3.1.2-bin-hadoop3.2/examples/src/main/scala/org/apache/spark/examples/mllib/AssociationRulesExample.scala\n",
            "spark-3.1.2-bin-hadoop3.2/examples/src/main/scala/org/apache/spark/examples/mllib/AbstractParams.scala\n",
            "spark-3.1.2-bin-hadoop3.2/examples/src/main/scala/org/apache/spark/examples/mllib/Word2VecExample.scala\n",
            "spark-3.1.2-bin-hadoop3.2/examples/src/main/scala/org/apache/spark/examples/mllib/TallSkinnySVD.scala\n",
            "spark-3.1.2-bin-hadoop3.2/examples/src/main/scala/org/apache/spark/examples/mllib/TallSkinnyPCA.scala\n",
            "spark-3.1.2-bin-hadoop3.2/examples/src/main/scala/org/apache/spark/examples/mllib/TFIDFExample.scala\n",
            "spark-3.1.2-bin-hadoop3.2/examples/src/main/scala/org/apache/spark/examples/mllib/SummaryStatisticsExample.scala\n",
            "spark-3.1.2-bin-hadoop3.2/examples/src/main/scala/org/apache/spark/examples/mllib/StreamingTestExample.scala\n",
            "spark-3.1.2-bin-hadoop3.2/examples/src/main/scala/org/apache/spark/examples/mllib/StreamingLogisticRegression.scala\n",
            "spark-3.1.2-bin-hadoop3.2/examples/src/main/scala/org/apache/spark/examples/mllib/StreamingLinearRegressionExample.scala\n",
            "spark-3.1.2-bin-hadoop3.2/examples/src/main/scala/org/apache/spark/examples/mllib/StreamingKMeansExample.scala\n",
            "spark-3.1.2-bin-hadoop3.2/examples/src/main/scala/org/apache/spark/examples/mllib/StratifiedSamplingExample.scala\n",
            "spark-3.1.2-bin-hadoop3.2/examples/src/main/scala/org/apache/spark/examples/mllib/StandardScalerExample.scala\n",
            "spark-3.1.2-bin-hadoop3.2/examples/src/main/scala/org/apache/spark/examples/mllib/SparseNaiveBayes.scala\n",
            "spark-3.1.2-bin-hadoop3.2/examples/src/main/scala/org/apache/spark/examples/mllib/SimpleFPGrowth.scala\n",
            "spark-3.1.2-bin-hadoop3.2/examples/src/main/scala/org/apache/spark/examples/mllib/SampledRDDs.scala\n",
            "spark-3.1.2-bin-hadoop3.2/examples/src/main/scala/org/apache/spark/examples/mllib/SVMWithSGDExample.scala\n",
            "spark-3.1.2-bin-hadoop3.2/examples/src/main/scala/org/apache/spark/examples/mllib/SVDExample.scala\n",
            "spark-3.1.2-bin-hadoop3.2/examples/src/main/scala/org/apache/spark/examples/mllib/RecommendationExample.scala\n",
            "spark-3.1.2-bin-hadoop3.2/examples/src/main/scala/org/apache/spark/examples/mllib/RankingMetricsExample.scala\n",
            "spark-3.1.2-bin-hadoop3.2/examples/src/main/scala/org/apache/spark/examples/mllib/RandomRDDGeneration.scala\n",
            "spark-3.1.2-bin-hadoop3.2/examples/src/main/scala/org/apache/spark/examples/mllib/RandomForestRegressionExample.scala\n",
            "spark-3.1.2-bin-hadoop3.2/examples/src/main/scala/org/apache/spark/examples/mllib/RandomForestClassificationExample.scala\n",
            "spark-3.1.2-bin-hadoop3.2/examples/src/main/scala/org/apache/spark/examples/ml/\n",
            "spark-3.1.2-bin-hadoop3.2/examples/src/main/scala/org/apache/spark/examples/ml/Word2VecExample.scala\n",
            "spark-3.1.2-bin-hadoop3.2/examples/src/main/scala/org/apache/spark/examples/ml/VectorSlicerExample.scala\n",
            "spark-3.1.2-bin-hadoop3.2/examples/src/main/scala/org/apache/spark/examples/ml/VectorSizeHintExample.scala\n",
            "spark-3.1.2-bin-hadoop3.2/examples/src/main/scala/org/apache/spark/examples/ml/VectorIndexerExample.scala\n",
            "spark-3.1.2-bin-hadoop3.2/examples/src/main/scala/org/apache/spark/examples/ml/VectorAssemblerExample.scala\n",
            "spark-3.1.2-bin-hadoop3.2/examples/src/main/scala/org/apache/spark/examples/ml/VarianceThresholdSelectorExample.scala\n",
            "spark-3.1.2-bin-hadoop3.2/examples/src/main/scala/org/apache/spark/examples/ml/UnivariateFeatureSelectorExample.scala\n",
            "spark-3.1.2-bin-hadoop3.2/examples/src/main/scala/org/apache/spark/examples/ml/UnaryTransformerExample.scala\n",
            "spark-3.1.2-bin-hadoop3.2/examples/src/main/scala/org/apache/spark/examples/ml/TokenizerExample.scala\n",
            "spark-3.1.2-bin-hadoop3.2/examples/src/main/scala/org/apache/spark/examples/ml/TfIdfExample.scala\n",
            "spark-3.1.2-bin-hadoop3.2/examples/src/main/scala/org/apache/spark/examples/ml/SummarizerExample.scala\n",
            "spark-3.1.2-bin-hadoop3.2/examples/src/main/scala/org/apache/spark/examples/ml/StringIndexerExample.scala\n",
            "spark-3.1.2-bin-hadoop3.2/examples/src/main/scala/org/apache/spark/examples/ml/StopWordsRemoverExample.scala\n",
            "spark-3.1.2-bin-hadoop3.2/examples/src/main/scala/org/apache/spark/examples/ml/StandardScalerExample.scala\n",
            "spark-3.1.2-bin-hadoop3.2/examples/src/main/scala/org/apache/spark/examples/ml/SQLTransformerExample.scala\n",
            "spark-3.1.2-bin-hadoop3.2/examples/src/main/scala/org/apache/spark/examples/ml/RobustScalerExample.scala\n",
            "spark-3.1.2-bin-hadoop3.2/examples/src/main/scala/org/apache/spark/examples/ml/RandomForestRegressorExample.scala\n",
            "spark-3.1.2-bin-hadoop3.2/examples/src/main/scala/org/apache/spark/examples/ml/RandomForestExample.scala\n",
            "spark-3.1.2-bin-hadoop3.2/examples/src/main/scala/org/apache/spark/examples/ml/RandomForestClassifierExample.scala\n",
            "spark-3.1.2-bin-hadoop3.2/examples/src/main/scala/org/apache/spark/examples/ml/RFormulaExample.scala\n",
            "spark-3.1.2-bin-hadoop3.2/examples/src/main/scala/org/apache/spark/examples/ml/QuantileDiscretizerExample.scala\n",
            "spark-3.1.2-bin-hadoop3.2/examples/src/main/scala/org/apache/spark/examples/ml/PrefixSpanExample.scala\n",
            "spark-3.1.2-bin-hadoop3.2/examples/src/main/scala/org/apache/spark/examples/ml/PowerIterationClusteringExample.scala\n",
            "spark-3.1.2-bin-hadoop3.2/examples/src/main/scala/org/apache/spark/examples/ml/PolynomialExpansionExample.scala\n",
            "spark-3.1.2-bin-hadoop3.2/examples/src/main/scala/org/apache/spark/examples/ml/PipelineExample.scala\n",
            "spark-3.1.2-bin-hadoop3.2/examples/src/main/scala/org/apache/spark/examples/ml/PCAExample.scala\n",
            "spark-3.1.2-bin-hadoop3.2/examples/src/main/scala/org/apache/spark/examples/ml/OneVsRestExample.scala\n",
            "spark-3.1.2-bin-hadoop3.2/examples/src/main/scala/org/apache/spark/examples/ml/OneHotEncoderExample.scala\n",
            "spark-3.1.2-bin-hadoop3.2/examples/src/main/scala/org/apache/spark/examples/ml/NormalizerExample.scala\n",
            "spark-3.1.2-bin-hadoop3.2/examples/src/main/scala/org/apache/spark/examples/ml/NaiveBayesExample.scala\n",
            "spark-3.1.2-bin-hadoop3.2/examples/src/main/scala/org/apache/spark/examples/ml/NGramExample.scala\n",
            "spark-3.1.2-bin-hadoop3.2/examples/src/main/scala/org/apache/spark/examples/ml/MultilayerPerceptronClassifierExample.scala\n",
            "spark-3.1.2-bin-hadoop3.2/examples/src/main/scala/org/apache/spark/examples/ml/MulticlassLogisticRegressionWithElasticNetExample.scala\n",
            "spark-3.1.2-bin-hadoop3.2/examples/src/main/scala/org/apache/spark/examples/ml/ModelSelectionViaTrainValidationSplitExample.scala\n",
            "spark-3.1.2-bin-hadoop3.2/examples/src/main/scala/org/apache/spark/examples/ml/ModelSelectionViaCrossValidationExample.scala\n",
            "spark-3.1.2-bin-hadoop3.2/examples/src/main/scala/org/apache/spark/examples/ml/MinMaxScalerExample.scala\n",
            "spark-3.1.2-bin-hadoop3.2/examples/src/main/scala/org/apache/spark/examples/ml/MinHashLSHExample.scala\n",
            "spark-3.1.2-bin-hadoop3.2/examples/src/main/scala/org/apache/spark/examples/ml/MaxAbsScalerExample.scala\n",
            "spark-3.1.2-bin-hadoop3.2/examples/src/main/scala/org/apache/spark/examples/ml/LogisticRegressionWithElasticNetExample.scala\n",
            "spark-3.1.2-bin-hadoop3.2/examples/src/main/scala/org/apache/spark/examples/ml/LogisticRegressionSummaryExample.scala\n",
            "spark-3.1.2-bin-hadoop3.2/examples/src/main/scala/org/apache/spark/examples/ml/LogisticRegressionExample.scala\n",
            "spark-3.1.2-bin-hadoop3.2/examples/src/main/scala/org/apache/spark/examples/ml/LinearSVCExample.scala\n",
            "spark-3.1.2-bin-hadoop3.2/examples/src/main/scala/org/apache/spark/examples/ml/LinearRegressionWithElasticNetExample.scala\n",
            "spark-3.1.2-bin-hadoop3.2/examples/src/main/scala/org/apache/spark/examples/ml/LinearRegressionExample.scala\n",
            "spark-3.1.2-bin-hadoop3.2/examples/src/main/scala/org/apache/spark/examples/ml/LDAExample.scala\n",
            "spark-3.1.2-bin-hadoop3.2/examples/src/main/scala/org/apache/spark/examples/ml/KMeansExample.scala\n",
            "spark-3.1.2-bin-hadoop3.2/examples/src/main/scala/org/apache/spark/examples/ml/IsotonicRegressionExample.scala\n",
            "spark-3.1.2-bin-hadoop3.2/examples/src/main/scala/org/apache/spark/examples/ml/InteractionExample.scala\n",
            "spark-3.1.2-bin-hadoop3.2/examples/src/main/scala/org/apache/spark/examples/ml/IndexToStringExample.scala\n",
            "spark-3.1.2-bin-hadoop3.2/examples/src/main/scala/org/apache/spark/examples/ml/ImputerExample.scala\n",
            "spark-3.1.2-bin-hadoop3.2/examples/src/main/scala/org/apache/spark/examples/ml/GradientBoostedTreeRegressorExample.scala\n",
            "spark-3.1.2-bin-hadoop3.2/examples/src/main/scala/org/apache/spark/examples/ml/GradientBoostedTreeClassifierExample.scala\n",
            "spark-3.1.2-bin-hadoop3.2/examples/src/main/scala/org/apache/spark/examples/ml/GeneralizedLinearRegressionExample.scala\n",
            "spark-3.1.2-bin-hadoop3.2/examples/src/main/scala/org/apache/spark/examples/ml/GaussianMixtureExample.scala\n",
            "spark-3.1.2-bin-hadoop3.2/examples/src/main/scala/org/apache/spark/examples/ml/GBTExample.scala\n",
            "spark-3.1.2-bin-hadoop3.2/examples/src/main/scala/org/apache/spark/examples/ml/FeatureHasherExample.scala\n",
            "spark-3.1.2-bin-hadoop3.2/examples/src/main/scala/org/apache/spark/examples/ml/FPGrowthExample.scala\n",
            "spark-3.1.2-bin-hadoop3.2/examples/src/main/scala/org/apache/spark/examples/ml/FMRegressorExample.scala\n",
            "spark-3.1.2-bin-hadoop3.2/examples/src/main/scala/org/apache/spark/examples/ml/FMClassifierExample.scala\n",
            "spark-3.1.2-bin-hadoop3.2/examples/src/main/scala/org/apache/spark/examples/ml/EstimatorTransformerParamExample.scala\n",
            "spark-3.1.2-bin-hadoop3.2/examples/src/main/scala/org/apache/spark/examples/ml/ElementwiseProductExample.scala\n",
            "spark-3.1.2-bin-hadoop3.2/examples/src/main/scala/org/apache/spark/examples/ml/DeveloperApiExample.scala\n",
            "spark-3.1.2-bin-hadoop3.2/examples/src/main/scala/org/apache/spark/examples/ml/DecisionTreeRegressionExample.scala\n",
            "spark-3.1.2-bin-hadoop3.2/examples/src/main/scala/org/apache/spark/examples/ml/DecisionTreeExample.scala\n",
            "spark-3.1.2-bin-hadoop3.2/examples/src/main/scala/org/apache/spark/examples/ml/DecisionTreeClassificationExample.scala\n",
            "spark-3.1.2-bin-hadoop3.2/examples/src/main/scala/org/apache/spark/examples/ml/DataFrameExample.scala\n",
            "spark-3.1.2-bin-hadoop3.2/examples/src/main/scala/org/apache/spark/examples/ml/DCTExample.scala\n",
            "spark-3.1.2-bin-hadoop3.2/examples/src/main/scala/org/apache/spark/examples/ml/CountVectorizerExample.scala\n",
            "spark-3.1.2-bin-hadoop3.2/examples/src/main/scala/org/apache/spark/examples/ml/CorrelationExample.scala\n",
            "spark-3.1.2-bin-hadoop3.2/examples/src/main/scala/org/apache/spark/examples/ml/ChiSquareTestExample.scala\n",
            "spark-3.1.2-bin-hadoop3.2/examples/src/main/scala/org/apache/spark/examples/ml/ChiSqSelectorExample.scala\n",
            "spark-3.1.2-bin-hadoop3.2/examples/src/main/scala/org/apache/spark/examples/ml/BucketizerExample.scala\n",
            "spark-3.1.2-bin-hadoop3.2/examples/src/main/scala/org/apache/spark/examples/ml/BucketedRandomProjectionLSHExample.scala\n",
            "spark-3.1.2-bin-hadoop3.2/examples/src/main/scala/org/apache/spark/examples/ml/BisectingKMeansExample.scala\n",
            "spark-3.1.2-bin-hadoop3.2/examples/src/main/scala/org/apache/spark/examples/ml/BinarizerExample.scala\n",
            "spark-3.1.2-bin-hadoop3.2/examples/src/main/scala/org/apache/spark/examples/ml/ALSExample.scala\n",
            "spark-3.1.2-bin-hadoop3.2/examples/src/main/scala/org/apache/spark/examples/ml/AFTSurvivalRegressionExample.scala\n",
            "spark-3.1.2-bin-hadoop3.2/examples/src/main/scala/org/apache/spark/examples/graphx/\n",
            "spark-3.1.2-bin-hadoop3.2/examples/src/main/scala/org/apache/spark/examples/graphx/TriangleCountingExample.scala\n",
            "spark-3.1.2-bin-hadoop3.2/examples/src/main/scala/org/apache/spark/examples/graphx/SynthBenchmark.scala\n",
            "spark-3.1.2-bin-hadoop3.2/examples/src/main/scala/org/apache/spark/examples/graphx/SSSPExample.scala\n",
            "spark-3.1.2-bin-hadoop3.2/examples/src/main/scala/org/apache/spark/examples/graphx/PageRankExample.scala\n",
            "spark-3.1.2-bin-hadoop3.2/examples/src/main/scala/org/apache/spark/examples/graphx/LiveJournalPageRank.scala\n",
            "spark-3.1.2-bin-hadoop3.2/examples/src/main/scala/org/apache/spark/examples/graphx/ConnectedComponentsExample.scala\n",
            "spark-3.1.2-bin-hadoop3.2/examples/src/main/scala/org/apache/spark/examples/graphx/ComprehensiveExample.scala\n",
            "spark-3.1.2-bin-hadoop3.2/examples/src/main/scala/org/apache/spark/examples/graphx/Analytics.scala\n",
            "spark-3.1.2-bin-hadoop3.2/examples/src/main/scala/org/apache/spark/examples/graphx/AggregateMessagesExample.scala\n",
            "spark-3.1.2-bin-hadoop3.2/examples/src/main/scala/org/apache/spark/examples/SparkTC.scala\n",
            "spark-3.1.2-bin-hadoop3.2/examples/src/main/scala/org/apache/spark/examples/SparkRemoteFileTest.scala\n",
            "spark-3.1.2-bin-hadoop3.2/examples/src/main/scala/org/apache/spark/examples/SparkPi.scala\n",
            "spark-3.1.2-bin-hadoop3.2/examples/src/main/scala/org/apache/spark/examples/SparkPageRank.scala\n",
            "spark-3.1.2-bin-hadoop3.2/examples/src/main/scala/org/apache/spark/examples/SparkLR.scala\n",
            "spark-3.1.2-bin-hadoop3.2/examples/src/main/scala/org/apache/spark/examples/SparkKMeans.scala\n",
            "spark-3.1.2-bin-hadoop3.2/examples/src/main/scala/org/apache/spark/examples/SparkHdfsLR.scala\n",
            "spark-3.1.2-bin-hadoop3.2/examples/src/main/scala/org/apache/spark/examples/SparkALS.scala\n",
            "spark-3.1.2-bin-hadoop3.2/examples/src/main/scala/org/apache/spark/examples/SkewedGroupByTest.scala\n",
            "spark-3.1.2-bin-hadoop3.2/examples/src/main/scala/org/apache/spark/examples/SimpleSkewedGroupByTest.scala\n",
            "spark-3.1.2-bin-hadoop3.2/examples/src/main/scala/org/apache/spark/examples/MultiBroadcastTest.scala\n",
            "spark-3.1.2-bin-hadoop3.2/examples/src/main/scala/org/apache/spark/examples/LogQuery.scala\n",
            "spark-3.1.2-bin-hadoop3.2/examples/src/main/scala/org/apache/spark/examples/LocalPi.scala\n",
            "spark-3.1.2-bin-hadoop3.2/examples/src/main/scala/org/apache/spark/examples/LocalLR.scala\n",
            "spark-3.1.2-bin-hadoop3.2/examples/src/main/scala/org/apache/spark/examples/LocalFileLR.scala\n",
            "spark-3.1.2-bin-hadoop3.2/examples/src/main/scala/org/apache/spark/examples/LocalALS.scala\n",
            "spark-3.1.2-bin-hadoop3.2/examples/src/main/scala/org/apache/spark/examples/HdfsTest.scala\n",
            "spark-3.1.2-bin-hadoop3.2/examples/src/main/scala/org/apache/spark/examples/GroupByTest.scala\n",
            "spark-3.1.2-bin-hadoop3.2/examples/src/main/scala/org/apache/spark/examples/ExceptionHandlingTest.scala\n",
            "spark-3.1.2-bin-hadoop3.2/examples/src/main/scala/org/apache/spark/examples/LocalKMeans.scala\n",
            "spark-3.1.2-bin-hadoop3.2/examples/src/main/scala/org/apache/spark/examples/DriverSubmissionTest.scala\n",
            "spark-3.1.2-bin-hadoop3.2/examples/src/main/scala/org/apache/spark/examples/DFSReadWriteTest.scala\n",
            "spark-3.1.2-bin-hadoop3.2/examples/src/main/scala/org/apache/spark/examples/BroadcastTest.scala\n",
            "spark-3.1.2-bin-hadoop3.2/examples/src/main/scala/org/apache/spark/examples/AccumulatorMetricsTest.scala\n",
            "spark-3.1.2-bin-hadoop3.2/examples/src/main/scala/org/apache/spark/examples/streaming/\n",
            "spark-3.1.2-bin-hadoop3.2/examples/src/main/scala/org/apache/spark/examples/streaming/clickstream/\n",
            "spark-3.1.2-bin-hadoop3.2/examples/src/main/scala/org/apache/spark/examples/streaming/clickstream/PageViewStream.scala\n",
            "spark-3.1.2-bin-hadoop3.2/examples/src/main/scala/org/apache/spark/examples/streaming/clickstream/PageViewGenerator.scala\n",
            "spark-3.1.2-bin-hadoop3.2/examples/src/main/scala/org/apache/spark/examples/streaming/StreamingExamples.scala\n",
            "spark-3.1.2-bin-hadoop3.2/examples/src/main/scala/org/apache/spark/examples/streaming/StatefulNetworkWordCount.scala\n",
            "spark-3.1.2-bin-hadoop3.2/examples/src/main/scala/org/apache/spark/examples/streaming/SqlNetworkWordCount.scala\n",
            "spark-3.1.2-bin-hadoop3.2/examples/src/main/scala/org/apache/spark/examples/streaming/RecoverableNetworkWordCount.scala\n",
            "spark-3.1.2-bin-hadoop3.2/examples/src/main/scala/org/apache/spark/examples/streaming/RawNetworkGrep.scala\n",
            "spark-3.1.2-bin-hadoop3.2/examples/src/main/scala/org/apache/spark/examples/streaming/QueueStream.scala\n",
            "spark-3.1.2-bin-hadoop3.2/examples/src/main/scala/org/apache/spark/examples/streaming/NetworkWordCount.scala\n",
            "spark-3.1.2-bin-hadoop3.2/examples/src/main/scala/org/apache/spark/examples/streaming/HdfsWordCount.scala\n",
            "spark-3.1.2-bin-hadoop3.2/examples/src/main/scala/org/apache/spark/examples/streaming/DirectKerberizedKafkaWordCount.scala\n",
            "spark-3.1.2-bin-hadoop3.2/examples/src/main/scala/org/apache/spark/examples/streaming/DirectKafkaWordCount.scala\n",
            "spark-3.1.2-bin-hadoop3.2/examples/src/main/scala/org/apache/spark/examples/streaming/CustomReceiver.scala\n",
            "spark-3.1.2-bin-hadoop3.2/examples/src/main/scala/org/apache/spark/examples/sql/\n",
            "spark-3.1.2-bin-hadoop3.2/examples/src/main/scala/org/apache/spark/examples/sql/streaming/\n",
            "spark-3.1.2-bin-hadoop3.2/examples/src/main/scala/org/apache/spark/examples/sql/streaming/StructuredSessionization.scala\n",
            "spark-3.1.2-bin-hadoop3.2/examples/src/main/scala/org/apache/spark/examples/sql/streaming/StructuredNetworkWordCountWindowed.scala\n",
            "spark-3.1.2-bin-hadoop3.2/examples/src/main/scala/org/apache/spark/examples/sql/streaming/StructuredNetworkWordCount.scala\n",
            "spark-3.1.2-bin-hadoop3.2/examples/src/main/scala/org/apache/spark/examples/sql/streaming/StructuredKerberizedKafkaWordCount.scala\n",
            "spark-3.1.2-bin-hadoop3.2/examples/src/main/scala/org/apache/spark/examples/sql/streaming/StructuredKafkaWordCount.scala\n",
            "spark-3.1.2-bin-hadoop3.2/examples/src/main/scala/org/apache/spark/examples/sql/hive/\n",
            "spark-3.1.2-bin-hadoop3.2/examples/src/main/scala/org/apache/spark/examples/sql/hive/SparkHiveExample.scala\n",
            "spark-3.1.2-bin-hadoop3.2/examples/src/main/scala/org/apache/spark/examples/sql/UserDefinedUntypedAggregation.scala\n",
            "spark-3.1.2-bin-hadoop3.2/examples/src/main/scala/org/apache/spark/examples/sql/UserDefinedTypedAggregation.scala\n",
            "spark-3.1.2-bin-hadoop3.2/examples/src/main/scala/org/apache/spark/examples/sql/UserDefinedScalar.scala\n",
            "spark-3.1.2-bin-hadoop3.2/examples/src/main/scala/org/apache/spark/examples/sql/SparkSQLExample.scala\n",
            "spark-3.1.2-bin-hadoop3.2/examples/src/main/scala/org/apache/spark/examples/sql/RDDRelation.scala\n",
            "spark-3.1.2-bin-hadoop3.2/examples/src/main/scala/org/apache/spark/examples/sql/SimpleTypedAggregator.scala\n",
            "spark-3.1.2-bin-hadoop3.2/examples/src/main/scala/org/apache/spark/examples/sql/SQLDataSourceExample.scala\n",
            "spark-3.1.2-bin-hadoop3.2/examples/src/main/scala/org/apache/spark/examples/pythonconverters/\n",
            "spark-3.1.2-bin-hadoop3.2/examples/src/main/scala/org/apache/spark/examples/pythonconverters/AvroConverters.scala\n",
            "spark-3.1.2-bin-hadoop3.2/examples/src/main/resources/\n",
            "spark-3.1.2-bin-hadoop3.2/examples/src/main/resources/users.parquet\n",
            "spark-3.1.2-bin-hadoop3.2/examples/src/main/resources/users.orc\n",
            "spark-3.1.2-bin-hadoop3.2/examples/src/main/resources/users.avro\n",
            "spark-3.1.2-bin-hadoop3.2/examples/src/main/resources/user.avsc\n",
            "spark-3.1.2-bin-hadoop3.2/examples/src/main/resources/people.txt\n",
            "spark-3.1.2-bin-hadoop3.2/examples/src/main/resources/people.json\n",
            "spark-3.1.2-bin-hadoop3.2/examples/src/main/resources/people.csv\n",
            "spark-3.1.2-bin-hadoop3.2/examples/src/main/resources/kv1.txt\n",
            "spark-3.1.2-bin-hadoop3.2/examples/src/main/resources/full_user.avsc\n",
            "spark-3.1.2-bin-hadoop3.2/examples/src/main/resources/employees.json\n",
            "spark-3.1.2-bin-hadoop3.2/examples/src/main/resources/dir1/\n",
            "spark-3.1.2-bin-hadoop3.2/examples/src/main/resources/dir1/file3.json\n",
            "spark-3.1.2-bin-hadoop3.2/examples/src/main/resources/dir1/file1.parquet\n",
            "spark-3.1.2-bin-hadoop3.2/examples/src/main/resources/dir1/dir2/\n",
            "spark-3.1.2-bin-hadoop3.2/examples/src/main/resources/dir1/dir2/file2.parquet\n",
            "spark-3.1.2-bin-hadoop3.2/examples/src/main/r/\n",
            "spark-3.1.2-bin-hadoop3.2/examples/src/main/r/streaming/\n",
            "spark-3.1.2-bin-hadoop3.2/examples/src/main/r/streaming/structured_network_wordcount.R\n",
            "spark-3.1.2-bin-hadoop3.2/examples/src/main/r/ml/\n",
            "spark-3.1.2-bin-hadoop3.2/examples/src/main/r/ml/svmLinear.R\n",
            "spark-3.1.2-bin-hadoop3.2/examples/src/main/r/ml/survreg.R\n",
            "spark-3.1.2-bin-hadoop3.2/examples/src/main/r/ml/randomForest.R\n",
            "spark-3.1.2-bin-hadoop3.2/examples/src/main/r/ml/prefixSpan.R\n",
            "spark-3.1.2-bin-hadoop3.2/examples/src/main/r/ml/powerIterationClustering.R\n",
            "spark-3.1.2-bin-hadoop3.2/examples/src/main/r/ml/naiveBayes.R\n",
            "spark-3.1.2-bin-hadoop3.2/examples/src/main/r/ml/mlp.R\n",
            "spark-3.1.2-bin-hadoop3.2/examples/src/main/r/ml/ml.R\n",
            "spark-3.1.2-bin-hadoop3.2/examples/src/main/r/ml/logit.R\n",
            "spark-3.1.2-bin-hadoop3.2/examples/src/main/r/ml/lm_with_elastic_net.R\n",
            "spark-3.1.2-bin-hadoop3.2/examples/src/main/r/ml/lda.R\n",
            "spark-3.1.2-bin-hadoop3.2/examples/src/main/r/ml/kstest.R\n",
            "spark-3.1.2-bin-hadoop3.2/examples/src/main/r/ml/kmeans.R\n",
            "spark-3.1.2-bin-hadoop3.2/examples/src/main/r/ml/isoreg.R\n",
            "spark-3.1.2-bin-hadoop3.2/examples/src/main/r/ml/glm.R\n",
            "spark-3.1.2-bin-hadoop3.2/examples/src/main/r/ml/gbt.R\n",
            "spark-3.1.2-bin-hadoop3.2/examples/src/main/r/ml/gaussianMixture.R\n",
            "spark-3.1.2-bin-hadoop3.2/examples/src/main/r/ml/fpm.R\n",
            "spark-3.1.2-bin-hadoop3.2/examples/src/main/r/ml/fmRegressor.R\n",
            "spark-3.1.2-bin-hadoop3.2/examples/src/main/r/ml/fmClassifier.R\n",
            "spark-3.1.2-bin-hadoop3.2/examples/src/main/r/ml/decisionTree.R\n",
            "spark-3.1.2-bin-hadoop3.2/examples/src/main/r/ml/bisectingKmeans.R\n",
            "spark-3.1.2-bin-hadoop3.2/examples/src/main/r/ml/als.R\n",
            "spark-3.1.2-bin-hadoop3.2/examples/src/main/r/dataframe.R\n",
            "spark-3.1.2-bin-hadoop3.2/examples/src/main/r/data-manipulation.R\n",
            "spark-3.1.2-bin-hadoop3.2/examples/src/main/r/RSparkSQLExample.R\n",
            "spark-3.1.2-bin-hadoop3.2/examples/src/main/python/\n",
            "spark-3.1.2-bin-hadoop3.2/examples/src/main/python/wordcount.py\n",
            "spark-3.1.2-bin-hadoop3.2/examples/src/main/python/transitive_closure.py\n",
            "spark-3.1.2-bin-hadoop3.2/examples/src/main/python/streaming/\n",
            "spark-3.1.2-bin-hadoop3.2/examples/src/main/python/streaming/stateful_network_wordcount.py\n",
            "spark-3.1.2-bin-hadoop3.2/examples/src/main/python/streaming/sql_network_wordcount.py\n",
            "spark-3.1.2-bin-hadoop3.2/examples/src/main/python/streaming/recoverable_network_wordcount.py\n",
            "spark-3.1.2-bin-hadoop3.2/examples/src/main/python/streaming/queue_stream.py\n",
            "spark-3.1.2-bin-hadoop3.2/examples/src/main/python/streaming/network_wordjoinsentiments.py\n",
            "spark-3.1.2-bin-hadoop3.2/examples/src/main/python/streaming/network_wordcount.py\n",
            "spark-3.1.2-bin-hadoop3.2/examples/src/main/python/streaming/hdfs_wordcount.py\n",
            "spark-3.1.2-bin-hadoop3.2/examples/src/main/python/status_api_demo.py\n",
            "spark-3.1.2-bin-hadoop3.2/examples/src/main/python/sql/\n",
            "spark-3.1.2-bin-hadoop3.2/examples/src/main/python/sql/streaming/\n",
            "spark-3.1.2-bin-hadoop3.2/examples/src/main/python/sql/streaming/structured_network_wordcount_windowed.py\n",
            "spark-3.1.2-bin-hadoop3.2/examples/src/main/python/sql/streaming/structured_network_wordcount.py\n",
            "spark-3.1.2-bin-hadoop3.2/examples/src/main/python/sql/streaming/structured_kafka_wordcount.py\n",
            "spark-3.1.2-bin-hadoop3.2/examples/src/main/python/sql/hive.py\n",
            "spark-3.1.2-bin-hadoop3.2/examples/src/main/python/sql/basic.py\n",
            "spark-3.1.2-bin-hadoop3.2/examples/src/main/python/sql/arrow.py\n",
            "spark-3.1.2-bin-hadoop3.2/examples/src/main/python/sql/datasource.py\n",
            "spark-3.1.2-bin-hadoop3.2/examples/src/main/python/sort.py\n",
            "spark-3.1.2-bin-hadoop3.2/examples/src/main/python/pi.py\n",
            "spark-3.1.2-bin-hadoop3.2/examples/src/main/python/parquet_inputformat.py\n",
            "spark-3.1.2-bin-hadoop3.2/examples/src/main/python/pagerank.py\n",
            "spark-3.1.2-bin-hadoop3.2/examples/src/main/python/mllib/\n",
            "spark-3.1.2-bin-hadoop3.2/examples/src/main/python/mllib/word2vec_example.py\n",
            "spark-3.1.2-bin-hadoop3.2/examples/src/main/python/mllib/word2vec.py\n",
            "spark-3.1.2-bin-hadoop3.2/examples/src/main/python/mllib/tf_idf_example.py\n",
            "spark-3.1.2-bin-hadoop3.2/examples/src/main/python/mllib/svm_with_sgd_example.py\n",
            "spark-3.1.2-bin-hadoop3.2/examples/src/main/python/mllib/svd_example.py\n",
            "spark-3.1.2-bin-hadoop3.2/examples/src/main/python/mllib/summary_statistics_example.py\n",
            "spark-3.1.2-bin-hadoop3.2/examples/src/main/python/mllib/streaming_linear_regression_example.py\n",
            "spark-3.1.2-bin-hadoop3.2/examples/src/main/python/mllib/streaming_k_means_example.py\n",
            "spark-3.1.2-bin-hadoop3.2/examples/src/main/python/mllib/stratified_sampling_example.py\n",
            "spark-3.1.2-bin-hadoop3.2/examples/src/main/python/mllib/standard_scaler_example.py\n",
            "spark-3.1.2-bin-hadoop3.2/examples/src/main/python/mllib/sampled_rdds.py\n",
            "spark-3.1.2-bin-hadoop3.2/examples/src/main/python/mllib/regression_metrics_example.py\n",
            "spark-3.1.2-bin-hadoop3.2/examples/src/main/python/mllib/recommendation_example.py\n",
            "spark-3.1.2-bin-hadoop3.2/examples/src/main/python/mllib/ranking_metrics_example.py\n",
            "spark-3.1.2-bin-hadoop3.2/examples/src/main/python/mllib/random_rdd_generation.py\n",
            "spark-3.1.2-bin-hadoop3.2/examples/src/main/python/mllib/random_forest_regression_example.py\n",
            "spark-3.1.2-bin-hadoop3.2/examples/src/main/python/mllib/random_forest_classification_example.py\n",
            "spark-3.1.2-bin-hadoop3.2/examples/src/main/python/mllib/power_iteration_clustering_example.py\n",
            "spark-3.1.2-bin-hadoop3.2/examples/src/main/python/mllib/pca_rowmatrix_example.py\n",
            "spark-3.1.2-bin-hadoop3.2/examples/src/main/python/mllib/normalizer_example.py\n",
            "spark-3.1.2-bin-hadoop3.2/examples/src/main/python/mllib/naive_bayes_example.py\n",
            "spark-3.1.2-bin-hadoop3.2/examples/src/main/python/mllib/multi_label_metrics_example.py\n",
            "spark-3.1.2-bin-hadoop3.2/examples/src/main/python/mllib/multi_class_metrics_example.py\n",
            "spark-3.1.2-bin-hadoop3.2/examples/src/main/python/mllib/logistic_regression_with_lbfgs_example.py\n",
            "spark-3.1.2-bin-hadoop3.2/examples/src/main/python/mllib/logistic_regression.py\n",
            "spark-3.1.2-bin-hadoop3.2/examples/src/main/python/mllib/linear_regression_with_sgd_example.py\n",
            "spark-3.1.2-bin-hadoop3.2/examples/src/main/python/mllib/latent_dirichlet_allocation_example.py\n",
            "spark-3.1.2-bin-hadoop3.2/examples/src/main/python/mllib/kmeans.py\n",
            "spark-3.1.2-bin-hadoop3.2/examples/src/main/python/mllib/kernel_density_estimation_example.py\n",
            "spark-3.1.2-bin-hadoop3.2/examples/src/main/python/mllib/k_means_example.py\n",
            "spark-3.1.2-bin-hadoop3.2/examples/src/main/python/mllib/isotonic_regression_example.py\n",
            "spark-3.1.2-bin-hadoop3.2/examples/src/main/python/mllib/hypothesis_testing_kolmogorov_smirnov_test_example.py\n",
            "spark-3.1.2-bin-hadoop3.2/examples/src/main/python/mllib/hypothesis_testing_example.py\n",
            "spark-3.1.2-bin-hadoop3.2/examples/src/main/python/mllib/gradient_boosting_regression_example.py\n",
            "spark-3.1.2-bin-hadoop3.2/examples/src/main/python/mllib/gradient_boosting_classification_example.py\n",
            "spark-3.1.2-bin-hadoop3.2/examples/src/main/python/mllib/gaussian_mixture_model.py\n",
            "spark-3.1.2-bin-hadoop3.2/examples/src/main/python/mllib/gaussian_mixture_example.py\n",
            "spark-3.1.2-bin-hadoop3.2/examples/src/main/python/mllib/fpgrowth_example.py\n",
            "spark-3.1.2-bin-hadoop3.2/examples/src/main/python/mllib/elementwise_product_example.py\n",
            "spark-3.1.2-bin-hadoop3.2/examples/src/main/python/mllib/decision_tree_regression_example.py\n",
            "spark-3.1.2-bin-hadoop3.2/examples/src/main/python/mllib/decision_tree_classification_example.py\n",
            "spark-3.1.2-bin-hadoop3.2/examples/src/main/python/mllib/correlations_example.py\n",
            "spark-3.1.2-bin-hadoop3.2/examples/src/main/python/mllib/correlations.py\n",
            "spark-3.1.2-bin-hadoop3.2/examples/src/main/python/mllib/bisecting_k_means_example.py\n",
            "spark-3.1.2-bin-hadoop3.2/examples/src/main/python/mllib/binary_classification_metrics_example.py\n",
            "spark-3.1.2-bin-hadoop3.2/examples/src/main/python/ml/\n",
            "spark-3.1.2-bin-hadoop3.2/examples/src/main/python/ml/word2vec_example.py\n",
            "spark-3.1.2-bin-hadoop3.2/examples/src/main/python/ml/vector_slicer_example.py\n",
            "spark-3.1.2-bin-hadoop3.2/examples/src/main/python/ml/vector_size_hint_example.py\n",
            "spark-3.1.2-bin-hadoop3.2/examples/src/main/python/ml/vector_indexer_example.py\n",
            "spark-3.1.2-bin-hadoop3.2/examples/src/main/python/ml/vector_assembler_example.py\n",
            "spark-3.1.2-bin-hadoop3.2/examples/src/main/python/ml/variance_threshold_selector_example.py\n",
            "spark-3.1.2-bin-hadoop3.2/examples/src/main/python/ml/univariate_feature_selector_example.py\n",
            "spark-3.1.2-bin-hadoop3.2/examples/src/main/python/ml/train_validation_split.py\n",
            "spark-3.1.2-bin-hadoop3.2/examples/src/main/python/ml/tokenizer_example.py\n",
            "spark-3.1.2-bin-hadoop3.2/examples/src/main/python/ml/tf_idf_example.py\n",
            "spark-3.1.2-bin-hadoop3.2/examples/src/main/python/ml/summarizer_example.py\n",
            "spark-3.1.2-bin-hadoop3.2/examples/src/main/python/ml/string_indexer_example.py\n",
            "spark-3.1.2-bin-hadoop3.2/examples/src/main/python/ml/stopwords_remover_example.py\n",
            "spark-3.1.2-bin-hadoop3.2/examples/src/main/python/ml/standard_scaler_example.py\n",
            "spark-3.1.2-bin-hadoop3.2/examples/src/main/python/ml/sql_transformer.py\n",
            "spark-3.1.2-bin-hadoop3.2/examples/src/main/python/ml/robust_scaler_example.py\n",
            "spark-3.1.2-bin-hadoop3.2/examples/src/main/python/ml/rformula_example.py\n",
            "spark-3.1.2-bin-hadoop3.2/examples/src/main/python/ml/random_forest_regressor_example.py\n",
            "spark-3.1.2-bin-hadoop3.2/examples/src/main/python/ml/random_forest_classifier_example.py\n",
            "spark-3.1.2-bin-hadoop3.2/examples/src/main/python/ml/quantile_discretizer_example.py\n",
            "spark-3.1.2-bin-hadoop3.2/examples/src/main/python/ml/prefixspan_example.py\n",
            "spark-3.1.2-bin-hadoop3.2/examples/src/main/python/ml/power_iteration_clustering_example.py\n",
            "spark-3.1.2-bin-hadoop3.2/examples/src/main/python/ml/polynomial_expansion_example.py\n",
            "spark-3.1.2-bin-hadoop3.2/examples/src/main/python/ml/pipeline_example.py\n",
            "spark-3.1.2-bin-hadoop3.2/examples/src/main/python/ml/pca_example.py\n",
            "spark-3.1.2-bin-hadoop3.2/examples/src/main/python/ml/onehot_encoder_example.py\n",
            "spark-3.1.2-bin-hadoop3.2/examples/src/main/python/ml/one_vs_rest_example.py\n",
            "spark-3.1.2-bin-hadoop3.2/examples/src/main/python/ml/normalizer_example.py\n",
            "spark-3.1.2-bin-hadoop3.2/examples/src/main/python/ml/naive_bayes_example.py\n",
            "spark-3.1.2-bin-hadoop3.2/examples/src/main/python/ml/n_gram_example.py\n",
            "spark-3.1.2-bin-hadoop3.2/examples/src/main/python/ml/multilayer_perceptron_classification.py\n",
            "spark-3.1.2-bin-hadoop3.2/examples/src/main/python/ml/multiclass_logistic_regression_with_elastic_net.py\n",
            "spark-3.1.2-bin-hadoop3.2/examples/src/main/python/ml/min_max_scaler_example.py\n",
            "spark-3.1.2-bin-hadoop3.2/examples/src/main/python/ml/min_hash_lsh_example.py\n",
            "spark-3.1.2-bin-hadoop3.2/examples/src/main/python/ml/max_abs_scaler_example.py\n",
            "spark-3.1.2-bin-hadoop3.2/examples/src/main/python/ml/logistic_regression_with_elastic_net.py\n",
            "spark-3.1.2-bin-hadoop3.2/examples/src/main/python/ml/logistic_regression_summary_example.py\n",
            "spark-3.1.2-bin-hadoop3.2/examples/src/main/python/ml/linearsvc.py\n",
            "spark-3.1.2-bin-hadoop3.2/examples/src/main/python/ml/linear_regression_with_elastic_net.py\n",
            "spark-3.1.2-bin-hadoop3.2/examples/src/main/python/ml/lda_example.py\n",
            "spark-3.1.2-bin-hadoop3.2/examples/src/main/python/ml/kmeans_example.py\n",
            "spark-3.1.2-bin-hadoop3.2/examples/src/main/python/ml/isotonic_regression_example.py\n",
            "spark-3.1.2-bin-hadoop3.2/examples/src/main/python/ml/interaction_example.py\n",
            "spark-3.1.2-bin-hadoop3.2/examples/src/main/python/ml/index_to_string_example.py\n",
            "spark-3.1.2-bin-hadoop3.2/examples/src/main/python/ml/imputer_example.py\n",
            "spark-3.1.2-bin-hadoop3.2/examples/src/main/python/ml/gradient_boosted_tree_regressor_example.py\n",
            "spark-3.1.2-bin-hadoop3.2/examples/src/main/python/ml/gradient_boosted_tree_classifier_example.py\n",
            "spark-3.1.2-bin-hadoop3.2/examples/src/main/python/ml/generalized_linear_regression_example.py\n",
            "spark-3.1.2-bin-hadoop3.2/examples/src/main/python/ml/gaussian_mixture_example.py\n",
            "spark-3.1.2-bin-hadoop3.2/examples/src/main/python/ml/fpgrowth_example.py\n",
            "spark-3.1.2-bin-hadoop3.2/examples/src/main/python/ml/fm_regressor_example.py\n",
            "spark-3.1.2-bin-hadoop3.2/examples/src/main/python/ml/fm_classifier_example.py\n",
            "spark-3.1.2-bin-hadoop3.2/examples/src/main/python/ml/feature_hasher_example.py\n",
            "spark-3.1.2-bin-hadoop3.2/examples/src/main/python/ml/estimator_transformer_param_example.py\n",
            "spark-3.1.2-bin-hadoop3.2/examples/src/main/python/ml/elementwise_product_example.py\n",
            "spark-3.1.2-bin-hadoop3.2/examples/src/main/python/ml/decision_tree_regression_example.py\n",
            "spark-3.1.2-bin-hadoop3.2/examples/src/main/python/ml/decision_tree_classification_example.py\n",
            "spark-3.1.2-bin-hadoop3.2/examples/src/main/python/ml/dct_example.py\n",
            "spark-3.1.2-bin-hadoop3.2/examples/src/main/python/ml/dataframe_example.py\n",
            "spark-3.1.2-bin-hadoop3.2/examples/src/main/python/ml/cross_validator.py\n",
            "spark-3.1.2-bin-hadoop3.2/examples/src/main/python/ml/count_vectorizer_example.py\n",
            "spark-3.1.2-bin-hadoop3.2/examples/src/main/python/ml/correlation_example.py\n",
            "spark-3.1.2-bin-hadoop3.2/examples/src/main/python/ml/chisq_selector_example.py\n",
            "spark-3.1.2-bin-hadoop3.2/examples/src/main/python/ml/chi_square_test_example.py\n",
            "spark-3.1.2-bin-hadoop3.2/examples/src/main/python/ml/bucketizer_example.py\n",
            "spark-3.1.2-bin-hadoop3.2/examples/src/main/python/ml/bucketed_random_projection_lsh_example.py\n",
            "spark-3.1.2-bin-hadoop3.2/examples/src/main/python/ml/bisecting_k_means_example.py\n",
            "spark-3.1.2-bin-hadoop3.2/examples/src/main/python/ml/binarizer_example.py\n",
            "spark-3.1.2-bin-hadoop3.2/examples/src/main/python/ml/als_example.py\n",
            "spark-3.1.2-bin-hadoop3.2/examples/src/main/python/ml/aft_survival_regression.py\n",
            "spark-3.1.2-bin-hadoop3.2/examples/src/main/python/logistic_regression.py\n",
            "spark-3.1.2-bin-hadoop3.2/examples/src/main/python/kmeans.py\n",
            "spark-3.1.2-bin-hadoop3.2/examples/src/main/python/avro_inputformat.py\n",
            "spark-3.1.2-bin-hadoop3.2/examples/src/main/python/als.py\n",
            "spark-3.1.2-bin-hadoop3.2/examples/src/main/scripts/\n",
            "spark-3.1.2-bin-hadoop3.2/examples/src/main/scripts/getGpusResources.sh\n",
            "spark-3.1.2-bin-hadoop3.2/examples/src/main/java/\n",
            "spark-3.1.2-bin-hadoop3.2/examples/src/main/java/org/\n",
            "spark-3.1.2-bin-hadoop3.2/examples/src/main/java/org/apache/\n",
            "spark-3.1.2-bin-hadoop3.2/examples/src/main/java/org/apache/spark/\n",
            "spark-3.1.2-bin-hadoop3.2/examples/src/main/java/org/apache/spark/examples/\n",
            "spark-3.1.2-bin-hadoop3.2/examples/src/main/java/org/apache/spark/examples/streaming/\n",
            "spark-3.1.2-bin-hadoop3.2/examples/src/main/java/org/apache/spark/examples/streaming/JavaStatefulNetworkWordCount.java\n",
            "spark-3.1.2-bin-hadoop3.2/examples/src/main/java/org/apache/spark/examples/streaming/JavaSqlNetworkWordCount.java\n",
            "spark-3.1.2-bin-hadoop3.2/examples/src/main/java/org/apache/spark/examples/streaming/JavaRecoverableNetworkWordCount.java\n",
            "spark-3.1.2-bin-hadoop3.2/examples/src/main/java/org/apache/spark/examples/streaming/JavaRecord.java\n",
            "spark-3.1.2-bin-hadoop3.2/examples/src/main/java/org/apache/spark/examples/streaming/JavaQueueStream.java\n",
            "spark-3.1.2-bin-hadoop3.2/examples/src/main/java/org/apache/spark/examples/streaming/JavaNetworkWordCount.java\n",
            "spark-3.1.2-bin-hadoop3.2/examples/src/main/java/org/apache/spark/examples/streaming/JavaDirectKerberizedKafkaWordCount.java\n",
            "spark-3.1.2-bin-hadoop3.2/examples/src/main/java/org/apache/spark/examples/streaming/JavaDirectKafkaWordCount.java\n",
            "spark-3.1.2-bin-hadoop3.2/examples/src/main/java/org/apache/spark/examples/streaming/JavaCustomReceiver.java\n",
            "spark-3.1.2-bin-hadoop3.2/examples/src/main/java/org/apache/spark/examples/sql/\n",
            "spark-3.1.2-bin-hadoop3.2/examples/src/main/java/org/apache/spark/examples/sql/streaming/\n",
            "spark-3.1.2-bin-hadoop3.2/examples/src/main/java/org/apache/spark/examples/sql/streaming/JavaStructuredSessionization.java\n",
            "spark-3.1.2-bin-hadoop3.2/examples/src/main/java/org/apache/spark/examples/sql/streaming/JavaStructuredNetworkWordCountWindowed.java\n",
            "spark-3.1.2-bin-hadoop3.2/examples/src/main/java/org/apache/spark/examples/sql/streaming/JavaStructuredNetworkWordCount.java\n",
            "spark-3.1.2-bin-hadoop3.2/examples/src/main/java/org/apache/spark/examples/sql/streaming/JavaStructuredKerberizedKafkaWordCount.java\n",
            "spark-3.1.2-bin-hadoop3.2/examples/src/main/java/org/apache/spark/examples/sql/streaming/JavaStructuredKafkaWordCount.java\n",
            "spark-3.1.2-bin-hadoop3.2/examples/src/main/java/org/apache/spark/examples/sql/hive/\n",
            "spark-3.1.2-bin-hadoop3.2/examples/src/main/java/org/apache/spark/examples/sql/hive/JavaSparkHiveExample.java\n",
            "spark-3.1.2-bin-hadoop3.2/examples/src/main/java/org/apache/spark/examples/sql/JavaUserDefinedUntypedAggregation.java\n",
            "spark-3.1.2-bin-hadoop3.2/examples/src/main/java/org/apache/spark/examples/sql/JavaUserDefinedTypedAggregation.java\n",
            "spark-3.1.2-bin-hadoop3.2/examples/src/main/java/org/apache/spark/examples/sql/JavaUserDefinedScalar.java\n",
            "spark-3.1.2-bin-hadoop3.2/examples/src/main/java/org/apache/spark/examples/sql/JavaSparkSQLExample.java\n",
            "spark-3.1.2-bin-hadoop3.2/examples/src/main/java/org/apache/spark/examples/sql/JavaSQLDataSourceExample.java\n",
            "spark-3.1.2-bin-hadoop3.2/examples/src/main/java/org/apache/spark/examples/mllib/\n",
            "spark-3.1.2-bin-hadoop3.2/examples/src/main/java/org/apache/spark/examples/mllib/JavaSummaryStatisticsExample.java\n",
            "spark-3.1.2-bin-hadoop3.2/examples/src/main/java/org/apache/spark/examples/mllib/JavaStreamingTestExample.java\n",
            "spark-3.1.2-bin-hadoop3.2/examples/src/main/java/org/apache/spark/examples/mllib/JavaStratifiedSamplingExample.java\n",
            "spark-3.1.2-bin-hadoop3.2/examples/src/main/java/org/apache/spark/examples/mllib/JavaSimpleFPGrowth.java\n",
            "spark-3.1.2-bin-hadoop3.2/examples/src/main/java/org/apache/spark/examples/mllib/JavaSVMWithSGDExample.java\n",
            "spark-3.1.2-bin-hadoop3.2/examples/src/main/java/org/apache/spark/examples/mllib/JavaSVDExample.java\n",
            "spark-3.1.2-bin-hadoop3.2/examples/src/main/java/org/apache/spark/examples/mllib/JavaRecommendationExample.java\n",
            "spark-3.1.2-bin-hadoop3.2/examples/src/main/java/org/apache/spark/examples/mllib/JavaRankingMetricsExample.java\n",
            "spark-3.1.2-bin-hadoop3.2/examples/src/main/java/org/apache/spark/examples/mllib/JavaRandomForestRegressionExample.java\n",
            "spark-3.1.2-bin-hadoop3.2/examples/src/main/java/org/apache/spark/examples/mllib/JavaRandomForestClassificationExample.java\n",
            "spark-3.1.2-bin-hadoop3.2/examples/src/main/java/org/apache/spark/examples/mllib/JavaPrefixSpanExample.java\n",
            "spark-3.1.2-bin-hadoop3.2/examples/src/main/java/org/apache/spark/examples/mllib/JavaPowerIterationClusteringExample.java\n",
            "spark-3.1.2-bin-hadoop3.2/examples/src/main/java/org/apache/spark/examples/mllib/JavaPCAExample.java\n",
            "spark-3.1.2-bin-hadoop3.2/examples/src/main/java/org/apache/spark/examples/mllib/JavaNaiveBayesExample.java\n",
            "spark-3.1.2-bin-hadoop3.2/examples/src/main/java/org/apache/spark/examples/mllib/JavaMulticlassClassificationMetricsExample.java\n",
            "spark-3.1.2-bin-hadoop3.2/examples/src/main/java/org/apache/spark/examples/mllib/JavaMultiLabelClassificationMetricsExample.java\n",
            "spark-3.1.2-bin-hadoop3.2/examples/src/main/java/org/apache/spark/examples/mllib/JavaLogisticRegressionWithLBFGSExample.java\n",
            "spark-3.1.2-bin-hadoop3.2/examples/src/main/java/org/apache/spark/examples/mllib/JavaLatentDirichletAllocationExample.java\n",
            "spark-3.1.2-bin-hadoop3.2/examples/src/main/java/org/apache/spark/examples/mllib/JavaLBFGSExample.java\n",
            "spark-3.1.2-bin-hadoop3.2/examples/src/main/java/org/apache/spark/examples/mllib/JavaKernelDensityEstimationExample.java\n",
            "spark-3.1.2-bin-hadoop3.2/examples/src/main/java/org/apache/spark/examples/mllib/JavaKMeansExample.java\n",
            "spark-3.1.2-bin-hadoop3.2/examples/src/main/java/org/apache/spark/examples/mllib/JavaIsotonicRegressionExample.java\n",
            "spark-3.1.2-bin-hadoop3.2/examples/src/main/java/org/apache/spark/examples/mllib/JavaHypothesisTestingKolmogorovSmirnovTestExample.java\n",
            "spark-3.1.2-bin-hadoop3.2/examples/src/main/java/org/apache/spark/examples/mllib/JavaHypothesisTestingExample.java\n",
            "spark-3.1.2-bin-hadoop3.2/examples/src/main/java/org/apache/spark/examples/mllib/JavaGradientBoostingRegressionExample.java\n",
            "spark-3.1.2-bin-hadoop3.2/examples/src/main/java/org/apache/spark/examples/mllib/JavaGradientBoostingClassificationExample.java\n",
            "spark-3.1.2-bin-hadoop3.2/examples/src/main/java/org/apache/spark/examples/mllib/JavaGaussianMixtureExample.java\n",
            "spark-3.1.2-bin-hadoop3.2/examples/src/main/java/org/apache/spark/examples/mllib/JavaElementwiseProductExample.java\n",
            "spark-3.1.2-bin-hadoop3.2/examples/src/main/java/org/apache/spark/examples/mllib/JavaDecisionTreeRegressionExample.java\n",
            "spark-3.1.2-bin-hadoop3.2/examples/src/main/java/org/apache/spark/examples/mllib/JavaDecisionTreeClassificationExample.java\n",
            "spark-3.1.2-bin-hadoop3.2/examples/src/main/java/org/apache/spark/examples/mllib/JavaCorrelationsExample.java\n",
            "spark-3.1.2-bin-hadoop3.2/examples/src/main/java/org/apache/spark/examples/mllib/JavaChiSqSelectorExample.java\n",
            "spark-3.1.2-bin-hadoop3.2/examples/src/main/java/org/apache/spark/examples/mllib/JavaBisectingKMeansExample.java\n",
            "spark-3.1.2-bin-hadoop3.2/examples/src/main/java/org/apache/spark/examples/mllib/JavaBinaryClassificationMetricsExample.java\n",
            "spark-3.1.2-bin-hadoop3.2/examples/src/main/java/org/apache/spark/examples/mllib/JavaAssociationRulesExample.java\n",
            "spark-3.1.2-bin-hadoop3.2/examples/src/main/java/org/apache/spark/examples/mllib/JavaALS.java\n",
            "spark-3.1.2-bin-hadoop3.2/examples/src/main/java/org/apache/spark/examples/ml/\n",
            "spark-3.1.2-bin-hadoop3.2/examples/src/main/java/org/apache/spark/examples/ml/JavaWord2VecExample.java\n",
            "spark-3.1.2-bin-hadoop3.2/examples/src/main/java/org/apache/spark/examples/ml/JavaVectorSlicerExample.java\n",
            "spark-3.1.2-bin-hadoop3.2/examples/src/main/java/org/apache/spark/examples/ml/JavaVectorSizeHintExample.java\n",
            "spark-3.1.2-bin-hadoop3.2/examples/src/main/java/org/apache/spark/examples/ml/JavaVectorIndexerExample.java\n",
            "spark-3.1.2-bin-hadoop3.2/examples/src/main/java/org/apache/spark/examples/ml/JavaVectorAssemblerExample.java\n",
            "spark-3.1.2-bin-hadoop3.2/examples/src/main/java/org/apache/spark/examples/ml/JavaVarianceThresholdSelectorExample.java\n",
            "spark-3.1.2-bin-hadoop3.2/examples/src/main/java/org/apache/spark/examples/ml/JavaUnivariateFeatureSelectorExample.java\n",
            "spark-3.1.2-bin-hadoop3.2/examples/src/main/java/org/apache/spark/examples/ml/JavaTfIdfExample.java\n",
            "spark-3.1.2-bin-hadoop3.2/examples/src/main/java/org/apache/spark/examples/ml/JavaSummarizerExample.java\n",
            "spark-3.1.2-bin-hadoop3.2/examples/src/main/java/org/apache/spark/examples/ml/JavaStringIndexerExample.java\n",
            "spark-3.1.2-bin-hadoop3.2/examples/src/main/java/org/apache/spark/examples/ml/JavaStopWordsRemoverExample.java\n",
            "spark-3.1.2-bin-hadoop3.2/examples/src/main/java/org/apache/spark/examples/ml/JavaStandardScalerExample.java\n",
            "spark-3.1.2-bin-hadoop3.2/examples/src/main/java/org/apache/spark/examples/ml/JavaSQLTransformerExample.java\n",
            "spark-3.1.2-bin-hadoop3.2/examples/src/main/java/org/apache/spark/examples/ml/JavaRobustScalerExample.java\n",
            "spark-3.1.2-bin-hadoop3.2/examples/src/main/java/org/apache/spark/examples/ml/JavaRandomForestRegressorExample.java\n",
            "spark-3.1.2-bin-hadoop3.2/examples/src/main/java/org/apache/spark/examples/ml/JavaRandomForestClassifierExample.java\n",
            "spark-3.1.2-bin-hadoop3.2/examples/src/main/java/org/apache/spark/examples/ml/JavaRFormulaExample.java\n",
            "spark-3.1.2-bin-hadoop3.2/examples/src/main/java/org/apache/spark/examples/ml/JavaQuantileDiscretizerExample.java\n",
            "spark-3.1.2-bin-hadoop3.2/examples/src/main/java/org/apache/spark/examples/ml/JavaPrefixSpanExample.java\n",
            "spark-3.1.2-bin-hadoop3.2/examples/src/main/java/org/apache/spark/examples/ml/JavaPowerIterationClusteringExample.java\n",
            "spark-3.1.2-bin-hadoop3.2/examples/src/main/java/org/apache/spark/examples/ml/JavaPolynomialExpansionExample.java\n",
            "spark-3.1.2-bin-hadoop3.2/examples/src/main/java/org/apache/spark/examples/ml/JavaPipelineExample.java\n",
            "spark-3.1.2-bin-hadoop3.2/examples/src/main/java/org/apache/spark/examples/ml/JavaPCAExample.java\n",
            "spark-3.1.2-bin-hadoop3.2/examples/src/main/java/org/apache/spark/examples/ml/JavaOneVsRestExample.java\n",
            "spark-3.1.2-bin-hadoop3.2/examples/src/main/java/org/apache/spark/examples/ml/JavaOneHotEncoderExample.java\n",
            "spark-3.1.2-bin-hadoop3.2/examples/src/main/java/org/apache/spark/examples/ml/JavaNormalizerExample.java\n",
            "spark-3.1.2-bin-hadoop3.2/examples/src/main/java/org/apache/spark/examples/ml/JavaNaiveBayesExample.java\n",
            "spark-3.1.2-bin-hadoop3.2/examples/src/main/java/org/apache/spark/examples/ml/JavaNGramExample.java\n",
            "spark-3.1.2-bin-hadoop3.2/examples/src/main/java/org/apache/spark/examples/ml/JavaMultilayerPerceptronClassifierExample.java\n",
            "spark-3.1.2-bin-hadoop3.2/examples/src/main/java/org/apache/spark/examples/ml/JavaMulticlassLogisticRegressionWithElasticNetExample.java\n",
            "spark-3.1.2-bin-hadoop3.2/examples/src/main/java/org/apache/spark/examples/ml/JavaModelSelectionViaTrainValidationSplitExample.java\n",
            "spark-3.1.2-bin-hadoop3.2/examples/src/main/java/org/apache/spark/examples/ml/JavaModelSelectionViaCrossValidationExample.java\n",
            "spark-3.1.2-bin-hadoop3.2/examples/src/main/java/org/apache/spark/examples/ml/JavaMinMaxScalerExample.java\n",
            "spark-3.1.2-bin-hadoop3.2/examples/src/main/java/org/apache/spark/examples/ml/JavaMinHashLSHExample.java\n",
            "spark-3.1.2-bin-hadoop3.2/examples/src/main/java/org/apache/spark/examples/ml/JavaMaxAbsScalerExample.java\n",
            "spark-3.1.2-bin-hadoop3.2/examples/src/main/java/org/apache/spark/examples/ml/JavaLogisticRegressionWithElasticNetExample.java\n",
            "spark-3.1.2-bin-hadoop3.2/examples/src/main/java/org/apache/spark/examples/ml/JavaLogisticRegressionSummaryExample.java\n",
            "spark-3.1.2-bin-hadoop3.2/examples/src/main/java/org/apache/spark/examples/ml/JavaLinearSVCExample.java\n",
            "spark-3.1.2-bin-hadoop3.2/examples/src/main/java/org/apache/spark/examples/ml/JavaLinearRegressionWithElasticNetExample.java\n",
            "spark-3.1.2-bin-hadoop3.2/examples/src/main/java/org/apache/spark/examples/ml/JavaLabeledDocument.java\n",
            "spark-3.1.2-bin-hadoop3.2/examples/src/main/java/org/apache/spark/examples/ml/JavaLDAExample.java\n",
            "spark-3.1.2-bin-hadoop3.2/examples/src/main/java/org/apache/spark/examples/ml/JavaKMeansExample.java\n",
            "spark-3.1.2-bin-hadoop3.2/examples/src/main/java/org/apache/spark/examples/ml/JavaIsotonicRegressionExample.java\n",
            "spark-3.1.2-bin-hadoop3.2/examples/src/main/java/org/apache/spark/examples/ml/JavaInteractionExample.java\n",
            "spark-3.1.2-bin-hadoop3.2/examples/src/main/java/org/apache/spark/examples/ml/JavaIndexToStringExample.java\n",
            "spark-3.1.2-bin-hadoop3.2/examples/src/main/java/org/apache/spark/examples/ml/JavaImputerExample.java\n",
            "spark-3.1.2-bin-hadoop3.2/examples/src/main/java/org/apache/spark/examples/ml/JavaGradientBoostedTreeRegressorExample.java\n",
            "spark-3.1.2-bin-hadoop3.2/examples/src/main/java/org/apache/spark/examples/ml/JavaGradientBoostedTreeClassifierExample.java\n",
            "spark-3.1.2-bin-hadoop3.2/examples/src/main/java/org/apache/spark/examples/ml/JavaGeneralizedLinearRegressionExample.java\n",
            "spark-3.1.2-bin-hadoop3.2/examples/src/main/java/org/apache/spark/examples/ml/JavaGaussianMixtureExample.java\n",
            "spark-3.1.2-bin-hadoop3.2/examples/src/main/java/org/apache/spark/examples/ml/JavaFeatureHasherExample.java\n",
            "spark-3.1.2-bin-hadoop3.2/examples/src/main/java/org/apache/spark/examples/ml/JavaFPGrowthExample.java\n",
            "spark-3.1.2-bin-hadoop3.2/examples/src/main/java/org/apache/spark/examples/ml/JavaFMRegressorExample.java\n",
            "spark-3.1.2-bin-hadoop3.2/examples/src/main/java/org/apache/spark/examples/ml/JavaFMClassifierExample.java\n",
            "spark-3.1.2-bin-hadoop3.2/examples/src/main/java/org/apache/spark/examples/ml/JavaEstimatorTransformerParamExample.java\n",
            "spark-3.1.2-bin-hadoop3.2/examples/src/main/java/org/apache/spark/examples/ml/JavaElementwiseProductExample.java\n",
            "spark-3.1.2-bin-hadoop3.2/examples/src/main/java/org/apache/spark/examples/ml/JavaDocument.java\n",
            "spark-3.1.2-bin-hadoop3.2/examples/src/main/java/org/apache/spark/examples/ml/JavaDecisionTreeRegressionExample.java\n",
            "spark-3.1.2-bin-hadoop3.2/examples/src/main/java/org/apache/spark/examples/ml/JavaDecisionTreeClassificationExample.java\n",
            "spark-3.1.2-bin-hadoop3.2/examples/src/main/java/org/apache/spark/examples/ml/JavaDCTExample.java\n",
            "spark-3.1.2-bin-hadoop3.2/examples/src/main/java/org/apache/spark/examples/ml/JavaCountVectorizerExample.java\n",
            "spark-3.1.2-bin-hadoop3.2/examples/src/main/java/org/apache/spark/examples/ml/JavaCorrelationExample.java\n",
            "spark-3.1.2-bin-hadoop3.2/examples/src/main/java/org/apache/spark/examples/ml/JavaChiSquareTestExample.java\n",
            "spark-3.1.2-bin-hadoop3.2/examples/src/main/java/org/apache/spark/examples/ml/JavaChiSqSelectorExample.java\n",
            "spark-3.1.2-bin-hadoop3.2/examples/src/main/java/org/apache/spark/examples/ml/JavaBucketizerExample.java\n",
            "spark-3.1.2-bin-hadoop3.2/examples/src/main/java/org/apache/spark/examples/ml/JavaBucketedRandomProjectionLSHExample.java\n",
            "spark-3.1.2-bin-hadoop3.2/examples/src/main/java/org/apache/spark/examples/ml/JavaBisectingKMeansExample.java\n",
            "spark-3.1.2-bin-hadoop3.2/examples/src/main/java/org/apache/spark/examples/ml/JavaBinarizerExample.java\n",
            "spark-3.1.2-bin-hadoop3.2/examples/src/main/java/org/apache/spark/examples/ml/JavaALSExample.java\n",
            "spark-3.1.2-bin-hadoop3.2/examples/src/main/java/org/apache/spark/examples/ml/JavaAFTSurvivalRegressionExample.java\n",
            "spark-3.1.2-bin-hadoop3.2/examples/src/main/java/org/apache/spark/examples/ml/JavaTokenizerExample.java\n",
            "spark-3.1.2-bin-hadoop3.2/examples/src/main/java/org/apache/spark/examples/JavaWordCount.java\n",
            "spark-3.1.2-bin-hadoop3.2/examples/src/main/java/org/apache/spark/examples/JavaTC.java\n",
            "spark-3.1.2-bin-hadoop3.2/examples/src/main/java/org/apache/spark/examples/JavaStatusTrackerDemo.java\n",
            "spark-3.1.2-bin-hadoop3.2/examples/src/main/java/org/apache/spark/examples/JavaSparkPi.java\n",
            "spark-3.1.2-bin-hadoop3.2/examples/src/main/java/org/apache/spark/examples/JavaPageRank.java\n",
            "spark-3.1.2-bin-hadoop3.2/examples/src/main/java/org/apache/spark/examples/JavaLogQuery.java\n",
            "spark-3.1.2-bin-hadoop3.2/examples/src/main/java/org/apache/spark/examples/JavaHdfsLR.java\n",
            "spark-3.1.2-bin-hadoop3.2/examples/jars/\n",
            "spark-3.1.2-bin-hadoop3.2/examples/jars/spark-examples_2.12-3.1.2.jar\n",
            "spark-3.1.2-bin-hadoop3.2/examples/jars/scopt_2.12-3.7.1.jar\n",
            "spark-3.1.2-bin-hadoop3.2/kubernetes/\n",
            "spark-3.1.2-bin-hadoop3.2/kubernetes/tests/\n",
            "spark-3.1.2-bin-hadoop3.2/kubernetes/tests/worker_memory_check.py\n",
            "spark-3.1.2-bin-hadoop3.2/kubernetes/tests/python_executable_check.py\n",
            "spark-3.1.2-bin-hadoop3.2/kubernetes/tests/pyfiles.py\n",
            "spark-3.1.2-bin-hadoop3.2/kubernetes/tests/py_container_checks.py\n",
            "spark-3.1.2-bin-hadoop3.2/kubernetes/tests/decommissioning_cleanup.py\n",
            "spark-3.1.2-bin-hadoop3.2/kubernetes/tests/decommissioning.py\n",
            "spark-3.1.2-bin-hadoop3.2/kubernetes/tests/autoscale.py\n",
            "spark-3.1.2-bin-hadoop3.2/kubernetes/dockerfiles/\n",
            "spark-3.1.2-bin-hadoop3.2/kubernetes/dockerfiles/spark/\n",
            "spark-3.1.2-bin-hadoop3.2/kubernetes/dockerfiles/spark/bindings/\n",
            "spark-3.1.2-bin-hadoop3.2/kubernetes/dockerfiles/spark/bindings/python/\n",
            "spark-3.1.2-bin-hadoop3.2/kubernetes/dockerfiles/spark/bindings/python/Dockerfile\n",
            "spark-3.1.2-bin-hadoop3.2/kubernetes/dockerfiles/spark/bindings/R/\n",
            "spark-3.1.2-bin-hadoop3.2/kubernetes/dockerfiles/spark/bindings/R/Dockerfile\n",
            "spark-3.1.2-bin-hadoop3.2/kubernetes/dockerfiles/spark/Dockerfile\n",
            "spark-3.1.2-bin-hadoop3.2/kubernetes/dockerfiles/spark/entrypoint.sh\n",
            "spark-3.1.2-bin-hadoop3.2/kubernetes/dockerfiles/spark/decom.sh\n",
            "spark-3.1.2-bin-hadoop3.2/yarn/\n",
            "spark-3.1.2-bin-hadoop3.2/yarn/spark-3.1.2-yarn-shuffle.jar\n",
            "spark-3.1.2-bin-hadoop3.2/jars/\n",
            "spark-3.1.2-bin-hadoop3.2/jars/zstd-jni-1.4.8-1.jar\n",
            "spark-3.1.2-bin-hadoop3.2/jars/zookeeper-3.4.14.jar\n",
            "spark-3.1.2-bin-hadoop3.2/jars/zjsonpatch-0.3.0.jar\n",
            "spark-3.1.2-bin-hadoop3.2/jars/xz-1.5.jar\n",
            "spark-3.1.2-bin-hadoop3.2/jars/xbean-asm7-shaded-4.15.jar\n",
            "spark-3.1.2-bin-hadoop3.2/jars/woodstox-core-5.0.3.jar\n",
            "spark-3.1.2-bin-hadoop3.2/jars/velocity-1.5.jar\n",
            "spark-3.1.2-bin-hadoop3.2/jars/univocity-parsers-2.9.1.jar\n",
            "spark-3.1.2-bin-hadoop3.2/jars/transaction-api-1.1.jar\n",
            "spark-3.1.2-bin-hadoop3.2/jars/token-provider-1.0.1.jar\n",
            "spark-3.1.2-bin-hadoop3.2/jars/threeten-extra-1.5.0.jar\n",
            "spark-3.1.2-bin-hadoop3.2/jars/super-csv-2.2.0.jar\n",
            "spark-3.1.2-bin-hadoop3.2/jars/stream-2.9.6.jar\n",
            "spark-3.1.2-bin-hadoop3.2/jars/stax2-api-3.1.4.jar\n",
            "spark-3.1.2-bin-hadoop3.2/jars/stax-api-1.0.1.jar\n",
            "spark-3.1.2-bin-hadoop3.2/jars/spire_2.12-0.17.0-M1.jar\n",
            "spark-3.1.2-bin-hadoop3.2/jars/spire-util_2.12-0.17.0-M1.jar\n",
            "spark-3.1.2-bin-hadoop3.2/jars/spire-platform_2.12-0.17.0-M1.jar\n",
            "spark-3.1.2-bin-hadoop3.2/jars/spire-macros_2.12-0.17.0-M1.jar\n",
            "spark-3.1.2-bin-hadoop3.2/jars/spark-yarn_2.12-3.1.2.jar\n",
            "spark-3.1.2-bin-hadoop3.2/jars/spark-unsafe_2.12-3.1.2.jar\n",
            "spark-3.1.2-bin-hadoop3.2/jars/spark-tags_2.12-3.1.2.jar\n",
            "spark-3.1.2-bin-hadoop3.2/jars/spark-tags_2.12-3.1.2-tests.jar\n",
            "spark-3.1.2-bin-hadoop3.2/jars/spark-streaming_2.12-3.1.2.jar\n",
            "spark-3.1.2-bin-hadoop3.2/jars/spark-sql_2.12-3.1.2.jar\n",
            "spark-3.1.2-bin-hadoop3.2/jars/spark-sketch_2.12-3.1.2.jar\n",
            "spark-3.1.2-bin-hadoop3.2/jars/spark-repl_2.12-3.1.2.jar\n",
            "spark-3.1.2-bin-hadoop3.2/jars/spark-network-shuffle_2.12-3.1.2.jar\n",
            "spark-3.1.2-bin-hadoop3.2/jars/spark-network-common_2.12-3.1.2.jar\n",
            "spark-3.1.2-bin-hadoop3.2/jars/spark-mllib_2.12-3.1.2.jar\n",
            "spark-3.1.2-bin-hadoop3.2/jars/spark-mllib-local_2.12-3.1.2.jar\n",
            "spark-3.1.2-bin-hadoop3.2/jars/spark-mesos_2.12-3.1.2.jar\n",
            "spark-3.1.2-bin-hadoop3.2/jars/spark-launcher_2.12-3.1.2.jar\n",
            "spark-3.1.2-bin-hadoop3.2/jars/spark-kvstore_2.12-3.1.2.jar\n",
            "spark-3.1.2-bin-hadoop3.2/jars/spark-kubernetes_2.12-3.1.2.jar\n",
            "spark-3.1.2-bin-hadoop3.2/jars/spark-hive_2.12-3.1.2.jar\n",
            "spark-3.1.2-bin-hadoop3.2/jars/spark-hive-thriftserver_2.12-3.1.2.jar\n",
            "spark-3.1.2-bin-hadoop3.2/jars/spark-graphx_2.12-3.1.2.jar\n",
            "spark-3.1.2-bin-hadoop3.2/jars/spark-core_2.12-3.1.2.jar\n",
            "spark-3.1.2-bin-hadoop3.2/jars/spark-catalyst_2.12-3.1.2.jar\n",
            "spark-3.1.2-bin-hadoop3.2/jars/snappy-java-1.1.8.2.jar\n",
            "spark-3.1.2-bin-hadoop3.2/jars/snakeyaml-1.24.jar\n",
            "spark-3.1.2-bin-hadoop3.2/jars/slf4j-log4j12-1.7.30.jar\n",
            "spark-3.1.2-bin-hadoop3.2/jars/slf4j-api-1.7.30.jar\n",
            "spark-3.1.2-bin-hadoop3.2/jars/shims-0.9.0.jar\n",
            "spark-3.1.2-bin-hadoop3.2/jars/shapeless_2.12-2.3.3.jar\n",
            "spark-3.1.2-bin-hadoop3.2/jars/scala-xml_2.12-1.2.0.jar\n",
            "spark-3.1.2-bin-hadoop3.2/jars/scala-reflect-2.12.10.jar\n",
            "spark-3.1.2-bin-hadoop3.2/jars/scala-parser-combinators_2.12-1.1.2.jar\n",
            "spark-3.1.2-bin-hadoop3.2/jars/scala-library-2.12.10.jar\n",
            "spark-3.1.2-bin-hadoop3.2/jars/scala-compiler-2.12.10.jar\n",
            "spark-3.1.2-bin-hadoop3.2/jars/scala-collection-compat_2.12-2.1.1.jar\n",
            "spark-3.1.2-bin-hadoop3.2/jars/re2j-1.1.jar\n",
            "spark-3.1.2-bin-hadoop3.2/jars/pyrolite-4.30.jar\n",
            "spark-3.1.2-bin-hadoop3.2/jars/py4j-0.10.9.jar\n",
            "spark-3.1.2-bin-hadoop3.2/jars/protobuf-java-2.5.0.jar\n",
            "spark-3.1.2-bin-hadoop3.2/jars/parquet-jackson-1.10.1.jar\n",
            "spark-3.1.2-bin-hadoop3.2/jars/parquet-hadoop-1.10.1.jar\n",
            "spark-3.1.2-bin-hadoop3.2/jars/parquet-format-2.4.0.jar\n",
            "spark-3.1.2-bin-hadoop3.2/jars/parquet-encoding-1.10.1.jar\n",
            "spark-3.1.2-bin-hadoop3.2/jars/parquet-common-1.10.1.jar\n",
            "spark-3.1.2-bin-hadoop3.2/jars/parquet-column-1.10.1.jar\n",
            "spark-3.1.2-bin-hadoop3.2/jars/paranamer-2.8.jar\n",
            "spark-3.1.2-bin-hadoop3.2/jars/osgi-resource-locator-1.0.3.jar\n",
            "spark-3.1.2-bin-hadoop3.2/jars/oro-2.0.8.jar\n",
            "spark-3.1.2-bin-hadoop3.2/jars/orc-shims-1.5.12.jar\n",
            "spark-3.1.2-bin-hadoop3.2/jars/orc-mapreduce-1.5.12.jar\n",
            "spark-3.1.2-bin-hadoop3.2/jars/orc-core-1.5.12.jar\n",
            "spark-3.1.2-bin-hadoop3.2/jars/opencsv-2.3.jar\n",
            "spark-3.1.2-bin-hadoop3.2/jars/okio-1.14.0.jar\n",
            "spark-3.1.2-bin-hadoop3.2/jars/okhttp-3.12.12.jar\n",
            "spark-3.1.2-bin-hadoop3.2/jars/okhttp-2.7.5.jar\n",
            "spark-3.1.2-bin-hadoop3.2/jars/objenesis-2.6.jar\n",
            "spark-3.1.2-bin-hadoop3.2/jars/nimbus-jose-jwt-4.41.1.jar\n",
            "spark-3.1.2-bin-hadoop3.2/jars/netty-all-4.1.51.Final.jar\n",
            "spark-3.1.2-bin-hadoop3.2/jars/minlog-1.3.0.jar\n",
            "spark-3.1.2-bin-hadoop3.2/jars/metrics-jvm-4.1.1.jar\n",
            "spark-3.1.2-bin-hadoop3.2/jars/metrics-json-4.1.1.jar\n",
            "spark-3.1.2-bin-hadoop3.2/jars/metrics-jmx-4.1.1.jar\n",
            "spark-3.1.2-bin-hadoop3.2/jars/metrics-graphite-4.1.1.jar\n",
            "spark-3.1.2-bin-hadoop3.2/jars/metrics-core-4.1.1.jar\n",
            "spark-3.1.2-bin-hadoop3.2/jars/mesos-1.4.0-shaded-protobuf.jar\n",
            "spark-3.1.2-bin-hadoop3.2/jars/macro-compat_2.12-1.1.1.jar\n",
            "spark-3.1.2-bin-hadoop3.2/jars/machinist_2.12-0.6.8.jar\n",
            "spark-3.1.2-bin-hadoop3.2/jars/lz4-java-1.7.1.jar\n",
            "spark-3.1.2-bin-hadoop3.2/jars/logging-interceptor-3.12.12.jar\n",
            "spark-3.1.2-bin-hadoop3.2/jars/log4j-1.2.17.jar\n",
            "spark-3.1.2-bin-hadoop3.2/jars/libthrift-0.12.0.jar\n",
            "spark-3.1.2-bin-hadoop3.2/jars/libfb303-0.9.3.jar\n",
            "spark-3.1.2-bin-hadoop3.2/jars/leveldbjni-all-1.8.jar\n",
            "spark-3.1.2-bin-hadoop3.2/jars/kubernetes-model-storageclass-4.12.0.jar\n",
            "spark-3.1.2-bin-hadoop3.2/jars/kubernetes-model-settings-4.12.0.jar\n",
            "spark-3.1.2-bin-hadoop3.2/jars/kubernetes-model-scheduling-4.12.0.jar\n",
            "spark-3.1.2-bin-hadoop3.2/jars/kubernetes-model-rbac-4.12.0.jar\n",
            "spark-3.1.2-bin-hadoop3.2/jars/kubernetes-model-policy-4.12.0.jar\n",
            "spark-3.1.2-bin-hadoop3.2/jars/kubernetes-model-networking-4.12.0.jar\n",
            "spark-3.1.2-bin-hadoop3.2/jars/kubernetes-model-metrics-4.12.0.jar\n",
            "spark-3.1.2-bin-hadoop3.2/jars/kubernetes-model-extensions-4.12.0.jar\n",
            "spark-3.1.2-bin-hadoop3.2/jars/kubernetes-model-events-4.12.0.jar\n",
            "spark-3.1.2-bin-hadoop3.2/jars/kubernetes-model-discovery-4.12.0.jar\n",
            "spark-3.1.2-bin-hadoop3.2/jars/kubernetes-model-core-4.12.0.jar\n",
            "spark-3.1.2-bin-hadoop3.2/jars/kubernetes-model-coordination-4.12.0.jar\n",
            "spark-3.1.2-bin-hadoop3.2/jars/kubernetes-model-common-4.12.0.jar\n",
            "spark-3.1.2-bin-hadoop3.2/jars/kubernetes-model-certificates-4.12.0.jar\n",
            "spark-3.1.2-bin-hadoop3.2/jars/kubernetes-model-batch-4.12.0.jar\n",
            "spark-3.1.2-bin-hadoop3.2/jars/kubernetes-model-autoscaling-4.12.0.jar\n",
            "spark-3.1.2-bin-hadoop3.2/jars/kubernetes-model-apps-4.12.0.jar\n",
            "spark-3.1.2-bin-hadoop3.2/jars/kubernetes-model-apiextensions-4.12.0.jar\n",
            "spark-3.1.2-bin-hadoop3.2/jars/kubernetes-model-admissionregistration-4.12.0.jar\n",
            "spark-3.1.2-bin-hadoop3.2/jars/kubernetes-client-4.12.0.jar\n",
            "spark-3.1.2-bin-hadoop3.2/jars/kryo-shaded-4.0.2.jar\n",
            "spark-3.1.2-bin-hadoop3.2/jars/kerby-xdr-1.0.1.jar\n",
            "spark-3.1.2-bin-hadoop3.2/jars/kerby-util-1.0.1.jar\n",
            "spark-3.1.2-bin-hadoop3.2/jars/kerby-pkix-1.0.1.jar\n",
            "spark-3.1.2-bin-hadoop3.2/jars/kerby-config-1.0.1.jar\n",
            "spark-3.1.2-bin-hadoop3.2/jars/kerby-asn1-1.0.1.jar\n",
            "spark-3.1.2-bin-hadoop3.2/jars/kerb-util-1.0.1.jar\n",
            "spark-3.1.2-bin-hadoop3.2/jars/kerb-simplekdc-1.0.1.jar\n",
            "spark-3.1.2-bin-hadoop3.2/jars/kerb-server-1.0.1.jar\n",
            "spark-3.1.2-bin-hadoop3.2/jars/kerb-identity-1.0.1.jar\n",
            "spark-3.1.2-bin-hadoop3.2/jars/kerb-crypto-1.0.1.jar\n",
            "spark-3.1.2-bin-hadoop3.2/jars/kerb-core-1.0.1.jar\n",
            "spark-3.1.2-bin-hadoop3.2/jars/kerb-common-1.0.1.jar\n",
            "spark-3.1.2-bin-hadoop3.2/jars/kerb-client-1.0.1.jar\n",
            "spark-3.1.2-bin-hadoop3.2/jars/kerb-admin-1.0.1.jar\n",
            "spark-3.1.2-bin-hadoop3.2/jars/jul-to-slf4j-1.7.30.jar\n",
            "spark-3.1.2-bin-hadoop3.2/jars/jta-1.1.jar\n",
            "spark-3.1.2-bin-hadoop3.2/jars/jsr305-3.0.0.jar\n",
            "spark-3.1.2-bin-hadoop3.2/jars/jsp-api-2.1.jar\n",
            "spark-3.1.2-bin-hadoop3.2/jars/json4s-scalap_2.12-3.7.0-M5.jar\n",
            "spark-3.1.2-bin-hadoop3.2/jars/json4s-jackson_2.12-3.7.0-M5.jar\n",
            "spark-3.1.2-bin-hadoop3.2/jars/json4s-core_2.12-3.7.0-M5.jar\n",
            "spark-3.1.2-bin-hadoop3.2/jars/json4s-ast_2.12-3.7.0-M5.jar\n",
            "spark-3.1.2-bin-hadoop3.2/jars/json-smart-2.3.jar\n",
            "spark-3.1.2-bin-hadoop3.2/jars/json-1.8.jar\n",
            "spark-3.1.2-bin-hadoop3.2/jars/jpam-1.1.jar\n",
            "spark-3.1.2-bin-hadoop3.2/jars/jodd-core-3.5.2.jar\n",
            "spark-3.1.2-bin-hadoop3.2/jars/joda-time-2.10.5.jar\n",
            "spark-3.1.2-bin-hadoop3.2/jars/jline-2.14.6.jar\n",
            "spark-3.1.2-bin-hadoop3.2/jars/jersey-server-2.30.jar\n",
            "spark-3.1.2-bin-hadoop3.2/jars/jersey-media-jaxb-2.30.jar\n",
            "spark-3.1.2-bin-hadoop3.2/jars/jersey-hk2-2.30.jar\n",
            "spark-3.1.2-bin-hadoop3.2/jars/jersey-container-servlet-core-2.30.jar\n",
            "spark-3.1.2-bin-hadoop3.2/jars/jersey-container-servlet-2.30.jar\n",
            "spark-3.1.2-bin-hadoop3.2/jars/jersey-common-2.30.jar\n",
            "spark-3.1.2-bin-hadoop3.2/jars/jersey-client-2.30.jar\n",
            "spark-3.1.2-bin-hadoop3.2/jars/jdo-api-3.0.1.jar\n",
            "spark-3.1.2-bin-hadoop3.2/jars/jcl-over-slf4j-1.7.30.jar\n",
            "spark-3.1.2-bin-hadoop3.2/jars/jcip-annotations-1.0-1.jar\n",
            "spark-3.1.2-bin-hadoop3.2/jars/jaxb-runtime-2.3.2.jar\n",
            "spark-3.1.2-bin-hadoop3.2/jars/jaxb-api-2.2.11.jar\n",
            "spark-3.1.2-bin-hadoop3.2/jars/javolution-5.5.1.jar\n",
            "spark-3.1.2-bin-hadoop3.2/jars/javax.jdo-3.2.0-m3.jar\n",
            "spark-3.1.2-bin-hadoop3.2/jars/javax.inject-1.jar\n",
            "spark-3.1.2-bin-hadoop3.2/jars/javassist-3.25.0-GA.jar\n",
            "spark-3.1.2-bin-hadoop3.2/jars/janino-3.0.16.jar\n",
            "spark-3.1.2-bin-hadoop3.2/jars/jakarta.xml.bind-api-2.3.2.jar\n",
            "spark-3.1.2-bin-hadoop3.2/jars/jakarta.ws.rs-api-2.1.6.jar\n",
            "spark-3.1.2-bin-hadoop3.2/jars/jakarta.validation-api-2.0.2.jar\n",
            "spark-3.1.2-bin-hadoop3.2/jars/jakarta.servlet-api-4.0.3.jar\n",
            "spark-3.1.2-bin-hadoop3.2/jars/jakarta.inject-2.6.1.jar\n",
            "spark-3.1.2-bin-hadoop3.2/jars/jakarta.annotation-api-1.3.5.jar\n",
            "spark-3.1.2-bin-hadoop3.2/jars/jakarta.activation-api-1.2.1.jar\n",
            "spark-3.1.2-bin-hadoop3.2/jars/jackson-module-scala_2.12-2.10.0.jar\n",
            "spark-3.1.2-bin-hadoop3.2/jars/jackson-module-paranamer-2.10.0.jar\n",
            "spark-3.1.2-bin-hadoop3.2/jars/jackson-module-jaxb-annotations-2.10.0.jar\n",
            "spark-3.1.2-bin-hadoop3.2/jars/jackson-mapper-asl-1.9.13.jar\n",
            "spark-3.1.2-bin-hadoop3.2/jars/jackson-jaxrs-json-provider-2.9.5.jar\n",
            "spark-3.1.2-bin-hadoop3.2/jars/jackson-jaxrs-base-2.9.5.jar\n",
            "spark-3.1.2-bin-hadoop3.2/jars/jackson-datatype-jsr310-2.11.2.jar\n",
            "spark-3.1.2-bin-hadoop3.2/jars/jackson-dataformat-yaml-2.10.0.jar\n",
            "spark-3.1.2-bin-hadoop3.2/jars/jackson-databind-2.10.0.jar\n",
            "spark-3.1.2-bin-hadoop3.2/jars/jackson-core-asl-1.9.13.jar\n",
            "spark-3.1.2-bin-hadoop3.2/jars/jackson-core-2.10.0.jar\n",
            "spark-3.1.2-bin-hadoop3.2/jars/jackson-annotations-2.10.0.jar\n",
            "spark-3.1.2-bin-hadoop3.2/jars/ivy-2.4.0.jar\n",
            "spark-3.1.2-bin-hadoop3.2/jars/istack-commons-runtime-3.0.8.jar\n",
            "spark-3.1.2-bin-hadoop3.2/jars/httpcore-4.4.12.jar\n",
            "spark-3.1.2-bin-hadoop3.2/jars/httpclient-4.5.6.jar\n",
            "spark-3.1.2-bin-hadoop3.2/jars/htrace-core4-4.1.0-incubating.jar\n",
            "spark-3.1.2-bin-hadoop3.2/jars/hk2-utils-2.6.1.jar\n",
            "spark-3.1.2-bin-hadoop3.2/jars/hk2-locator-2.6.1.jar\n",
            "spark-3.1.2-bin-hadoop3.2/jars/hk2-api-2.6.1.jar\n",
            "spark-3.1.2-bin-hadoop3.2/jars/hive-vector-code-gen-2.3.7.jar\n",
            "spark-3.1.2-bin-hadoop3.2/jars/hive-storage-api-2.7.2.jar\n",
            "spark-3.1.2-bin-hadoop3.2/jars/hive-shims-scheduler-2.3.7.jar\n",
            "spark-3.1.2-bin-hadoop3.2/jars/hive-shims-common-2.3.7.jar\n",
            "spark-3.1.2-bin-hadoop3.2/jars/hive-shims-2.3.7.jar\n",
            "spark-3.1.2-bin-hadoop3.2/jars/hive-shims-0.23-2.3.7.jar\n",
            "spark-3.1.2-bin-hadoop3.2/jars/hive-service-rpc-3.1.2.jar\n",
            "spark-3.1.2-bin-hadoop3.2/jars/hive-serde-2.3.7.jar\n",
            "spark-3.1.2-bin-hadoop3.2/jars/hive-metastore-2.3.7.jar\n",
            "spark-3.1.2-bin-hadoop3.2/jars/hive-llap-common-2.3.7.jar\n",
            "spark-3.1.2-bin-hadoop3.2/jars/hive-jdbc-2.3.7.jar\n",
            "spark-3.1.2-bin-hadoop3.2/jars/hive-exec-2.3.7-core.jar\n",
            "spark-3.1.2-bin-hadoop3.2/jars/hive-common-2.3.7.jar\n",
            "spark-3.1.2-bin-hadoop3.2/jars/hive-cli-2.3.7.jar\n",
            "spark-3.1.2-bin-hadoop3.2/jars/hive-beeline-2.3.7.jar\n",
            "spark-3.1.2-bin-hadoop3.2/jars/hadoop-yarn-server-web-proxy-3.2.0.jar\n",
            "spark-3.1.2-bin-hadoop3.2/jars/hadoop-yarn-server-common-3.2.0.jar\n",
            "spark-3.1.2-bin-hadoop3.2/jars/hadoop-yarn-registry-3.2.0.jar\n",
            "spark-3.1.2-bin-hadoop3.2/jars/hadoop-yarn-common-3.2.0.jar\n",
            "spark-3.1.2-bin-hadoop3.2/jars/hadoop-yarn-client-3.2.0.jar\n",
            "spark-3.1.2-bin-hadoop3.2/jars/hadoop-yarn-api-3.2.0.jar\n",
            "spark-3.1.2-bin-hadoop3.2/jars/hadoop-mapreduce-client-jobclient-3.2.0.jar\n",
            "spark-3.1.2-bin-hadoop3.2/jars/hadoop-mapreduce-client-core-3.2.0.jar\n",
            "spark-3.1.2-bin-hadoop3.2/jars/hadoop-mapreduce-client-common-3.2.0.jar\n",
            "spark-3.1.2-bin-hadoop3.2/jars/hadoop-hdfs-client-3.2.0.jar\n",
            "spark-3.1.2-bin-hadoop3.2/jars/hadoop-common-3.2.0.jar\n",
            "spark-3.1.2-bin-hadoop3.2/jars/hadoop-client-3.2.0.jar\n",
            "spark-3.1.2-bin-hadoop3.2/jars/hadoop-auth-3.2.0.jar\n",
            "spark-3.1.2-bin-hadoop3.2/jars/hadoop-annotations-3.2.0.jar\n",
            "spark-3.1.2-bin-hadoop3.2/jars/guice-servlet-4.0.jar\n",
            "spark-3.1.2-bin-hadoop3.2/jars/guice-4.0.jar\n",
            "spark-3.1.2-bin-hadoop3.2/jars/guava-14.0.1.jar\n",
            "spark-3.1.2-bin-hadoop3.2/jars/gson-2.2.4.jar\n",
            "spark-3.1.2-bin-hadoop3.2/jars/geronimo-jcache_1.0_spec-1.0-alpha-1.jar\n",
            "spark-3.1.2-bin-hadoop3.2/jars/generex-1.0.2.jar\n",
            "spark-3.1.2-bin-hadoop3.2/jars/flatbuffers-java-1.9.0.jar\n",
            "spark-3.1.2-bin-hadoop3.2/jars/ehcache-3.3.1.jar\n",
            "spark-3.1.2-bin-hadoop3.2/jars/dropwizard-metrics-hadoop-metrics2-reporter-0.1.2.jar\n",
            "spark-3.1.2-bin-hadoop3.2/jars/dnsjava-2.1.7.jar\n",
            "spark-3.1.2-bin-hadoop3.2/jars/derby-10.12.1.1.jar\n",
            "spark-3.1.2-bin-hadoop3.2/jars/datanucleus-rdbms-4.1.19.jar\n",
            "spark-3.1.2-bin-hadoop3.2/jars/datanucleus-core-4.1.17.jar\n",
            "spark-3.1.2-bin-hadoop3.2/jars/datanucleus-api-jdo-4.2.4.jar\n",
            "spark-3.1.2-bin-hadoop3.2/jars/curator-recipes-2.13.0.jar\n",
            "spark-3.1.2-bin-hadoop3.2/jars/curator-framework-2.13.0.jar\n",
            "spark-3.1.2-bin-hadoop3.2/jars/curator-client-2.13.0.jar\n",
            "spark-3.1.2-bin-hadoop3.2/jars/core-1.1.2.jar\n",
            "spark-3.1.2-bin-hadoop3.2/jars/compress-lzf-1.0.3.jar\n",
            "spark-3.1.2-bin-hadoop3.2/jars/commons-text-1.6.jar\n",
            "spark-3.1.2-bin-hadoop3.2/jars/commons-pool-1.5.4.jar\n",
            "spark-3.1.2-bin-hadoop3.2/jars/commons-net-3.1.jar\n",
            "spark-3.1.2-bin-hadoop3.2/jars/commons-math3-3.4.1.jar\n",
            "spark-3.1.2-bin-hadoop3.2/jars/commons-logging-1.1.3.jar\n",
            "spark-3.1.2-bin-hadoop3.2/jars/commons-lang3-3.10.jar\n",
            "spark-3.1.2-bin-hadoop3.2/jars/commons-lang-2.6.jar\n",
            "spark-3.1.2-bin-hadoop3.2/jars/commons-io-2.5.jar\n",
            "spark-3.1.2-bin-hadoop3.2/jars/commons-httpclient-3.1.jar\n",
            "spark-3.1.2-bin-hadoop3.2/jars/commons-dbcp-1.4.jar\n",
            "spark-3.1.2-bin-hadoop3.2/jars/commons-daemon-1.0.13.jar\n",
            "spark-3.1.2-bin-hadoop3.2/jars/commons-crypto-1.1.0.jar\n",
            "spark-3.1.2-bin-hadoop3.2/jars/commons-configuration2-2.1.1.jar\n",
            "spark-3.1.2-bin-hadoop3.2/jars/commons-compress-1.20.jar\n",
            "spark-3.1.2-bin-hadoop3.2/jars/commons-compiler-3.0.16.jar\n",
            "spark-3.1.2-bin-hadoop3.2/jars/commons-collections-3.2.2.jar\n",
            "spark-3.1.2-bin-hadoop3.2/jars/commons-codec-1.10.jar\n",
            "spark-3.1.2-bin-hadoop3.2/jars/commons-cli-1.2.jar\n",
            "spark-3.1.2-bin-hadoop3.2/jars/commons-beanutils-1.9.4.jar\n",
            "spark-3.1.2-bin-hadoop3.2/jars/chill_2.12-0.9.5.jar\n",
            "spark-3.1.2-bin-hadoop3.2/jars/chill-java-0.9.5.jar\n",
            "spark-3.1.2-bin-hadoop3.2/jars/cats-kernel_2.12-2.0.0-M4.jar\n",
            "spark-3.1.2-bin-hadoop3.2/jars/breeze_2.12-1.0.jar\n",
            "spark-3.1.2-bin-hadoop3.2/jars/breeze-macros_2.12-1.0.jar\n",
            "spark-3.1.2-bin-hadoop3.2/jars/bonecp-0.8.0.RELEASE.jar\n",
            "spark-3.1.2-bin-hadoop3.2/jars/avro-mapred-1.8.2-hadoop2.jar\n",
            "spark-3.1.2-bin-hadoop3.2/jars/avro-ipc-1.8.2.jar\n",
            "spark-3.1.2-bin-hadoop3.2/jars/avro-1.8.2.jar\n",
            "spark-3.1.2-bin-hadoop3.2/jars/automaton-1.11-8.jar\n",
            "spark-3.1.2-bin-hadoop3.2/jars/audience-annotations-0.5.0.jar\n",
            "spark-3.1.2-bin-hadoop3.2/jars/arrow-vector-2.0.0.jar\n",
            "spark-3.1.2-bin-hadoop3.2/jars/arrow-memory-netty-2.0.0.jar\n",
            "spark-3.1.2-bin-hadoop3.2/jars/arrow-memory-core-2.0.0.jar\n",
            "spark-3.1.2-bin-hadoop3.2/jars/arrow-format-2.0.0.jar\n",
            "spark-3.1.2-bin-hadoop3.2/jars/arpack_combined_all-0.1.jar\n",
            "spark-3.1.2-bin-hadoop3.2/jars/aopalliance-repackaged-2.6.1.jar\n",
            "spark-3.1.2-bin-hadoop3.2/jars/aopalliance-1.0.jar\n",
            "spark-3.1.2-bin-hadoop3.2/jars/antlr4-runtime-4.8-1.jar\n",
            "spark-3.1.2-bin-hadoop3.2/jars/antlr-runtime-3.5.2.jar\n",
            "spark-3.1.2-bin-hadoop3.2/jars/algebra_2.12-2.0.0-M2.jar\n",
            "spark-3.1.2-bin-hadoop3.2/jars/aircompressor-0.10.jar\n",
            "spark-3.1.2-bin-hadoop3.2/jars/activation-1.1.1.jar\n",
            "spark-3.1.2-bin-hadoop3.2/jars/accessors-smart-1.2.jar\n",
            "spark-3.1.2-bin-hadoop3.2/jars/ST4-4.0.4.jar\n",
            "spark-3.1.2-bin-hadoop3.2/jars/RoaringBitmap-0.9.0.jar\n",
            "spark-3.1.2-bin-hadoop3.2/jars/JTransforms-3.1.jar\n",
            "spark-3.1.2-bin-hadoop3.2/jars/JLargeArrays-1.5.jar\n",
            "spark-3.1.2-bin-hadoop3.2/jars/HikariCP-2.5.1.jar\n",
            "spark-3.1.2-bin-hadoop3.2/RELEASE\n",
            "Collecting pyspark\n",
            "  Downloading pyspark-3.1.2.tar.gz (212.4 MB)\n",
            "\u001b[K     |████████████████████████████████| 212.4 MB 73 kB/s \n",
            "\u001b[?25hCollecting py4j==0.10.9\n",
            "  Downloading py4j-0.10.9-py2.py3-none-any.whl (198 kB)\n",
            "\u001b[K     |████████████████████████████████| 198 kB 58.4 MB/s \n",
            "\u001b[?25hBuilding wheels for collected packages: pyspark\n",
            "  Building wheel for pyspark (setup.py) ... \u001b[?25l\u001b[?25hdone\n",
            "  Created wheel for pyspark: filename=pyspark-3.1.2-py2.py3-none-any.whl size=212880768 sha256=bc628feb1175e7918fd1db6dc3347c99cb2c1d30492132897301cad4f5b4e320\n",
            "  Stored in directory: /root/.cache/pip/wheels/a5/0a/c1/9561f6fecb759579a7d863dcd846daaa95f598744e71b02c77\n",
            "Successfully built pyspark\n",
            "Installing collected packages: py4j, pyspark\n",
            "Successfully installed py4j-0.10.9 pyspark-3.1.2\n"
          ],
          "name": "stdout"
        }
      ]
    },
    {
      "cell_type": "code",
      "metadata": {
        "id": "nS8kNdxGxElP"
      },
      "source": [
        "# Add environmental variables\n",
        "import os\n",
        "os.environ[\"JAVA_HOME\"] = \"/usr/lib/jvm/java-8-openjdk-amd64\"\n",
        "os.environ[\"SPARK_HOME\"] = \"/content/spark-3.1.2-bin-hadoop3.2\"\n",
        "\n",
        "# findspark will locate spark in the system\n",
        "import findspark\n",
        "findspark.init()"
      ],
      "execution_count": null,
      "outputs": []
    },
    {
      "cell_type": "markdown",
      "metadata": {
        "id": "4XlcVjkSmz5i"
      },
      "source": [
        "#### Start a simple Spark Session"
      ]
    },
    {
      "cell_type": "code",
      "metadata": {
        "id": "YyJS3-4rxjiP"
      },
      "source": [
        "from pyspark.sql import SparkSession\n",
        "\n",
        "spark = SparkSession.builder \\\n",
        "        .master(\"local\") \\\n",
        "        .appName(\"usecase pyspark\") \\\n",
        "        .getOrCreate()"
      ],
      "execution_count": null,
      "outputs": []
    },
    {
      "cell_type": "code",
      "metadata": {
        "colab": {
          "base_uri": "https://localhost:8080/",
          "height": 218
        },
        "id": "J_D7bVDYxrIt",
        "outputId": "90bcf289-bce8-4b44-ec6a-e0034f9cf067"
      },
      "source": [
        "spark"
      ],
      "execution_count": null,
      "outputs": [
        {
          "output_type": "execute_result",
          "data": {
            "text/html": [
              "\n",
              "            <div>\n",
              "                <p><b>SparkSession - in-memory</b></p>\n",
              "                \n",
              "        <div>\n",
              "            <p><b>SparkContext</b></p>\n",
              "\n",
              "            <p><a href=\"http://6780b68ba846:4040\">Spark UI</a></p>\n",
              "\n",
              "            <dl>\n",
              "              <dt>Version</dt>\n",
              "                <dd><code>v3.1.2</code></dd>\n",
              "              <dt>Master</dt>\n",
              "                <dd><code>local</code></dd>\n",
              "              <dt>AppName</dt>\n",
              "                <dd><code>usecase pyspark</code></dd>\n",
              "            </dl>\n",
              "        </div>\n",
              "        \n",
              "            </div>\n",
              "        "
            ],
            "text/plain": [
              "<pyspark.sql.session.SparkSession at 0x7f3bc8b5aa90>"
            ]
          },
          "metadata": {},
          "execution_count": 9
        }
      ]
    },
    {
      "cell_type": "markdown",
      "metadata": {
        "id": "R9x9btVLmz5j"
      },
      "source": [
        "#### Load the Walmart Stock CSV File, have Spark infer the data types."
      ]
    },
    {
      "cell_type": "code",
      "metadata": {
        "collapsed": true,
        "id": "lFztzOaTmz5k",
        "colab": {
          "base_uri": "https://localhost:8080/"
        },
        "outputId": "b668d351-6749-49f4-a054-20af08483cb4"
      },
      "source": [
        "from google.colab import drive\n",
        "drive.mount('/content/drive')"
      ],
      "execution_count": null,
      "outputs": [
        {
          "output_type": "stream",
          "text": [
            "Mounted at /content/drive\n"
          ],
          "name": "stdout"
        }
      ]
    },
    {
      "cell_type": "code",
      "metadata": {
        "id": "DEsgSyUXyfx1"
      },
      "source": [
        "walmart_data = spark.read.format('csv').options(header='true').load(\"/content/drive/MyDrive/Colab Notebooks/Usecase Pyspark/Task_1/walmart_stock.csv\")"
      ],
      "execution_count": null,
      "outputs": []
    },
    {
      "cell_type": "markdown",
      "metadata": {
        "id": "sRCqkTd6mz5l"
      },
      "source": [
        "#### What are the column names?"
      ]
    },
    {
      "cell_type": "code",
      "metadata": {
        "id": "wrZequeOm6Qg",
        "colab": {
          "base_uri": "https://localhost:8080/"
        },
        "outputId": "bbff7677-b9b0-40e9-bfe8-dec84b05d265"
      },
      "source": [
        "walmart_data.columns"
      ],
      "execution_count": null,
      "outputs": [
        {
          "output_type": "execute_result",
          "data": {
            "text/plain": [
              "['Date', 'Open', 'High', 'Low', 'Close', 'Volume', 'Adj Close']"
            ]
          },
          "metadata": {},
          "execution_count": 31
        }
      ]
    },
    {
      "cell_type": "markdown",
      "metadata": {
        "id": "OjdeHvmSmz5n"
      },
      "source": [
        "#### What does the Schema look like?"
      ]
    },
    {
      "cell_type": "code",
      "metadata": {
        "id": "aBhwjX4rm73Z",
        "colab": {
          "base_uri": "https://localhost:8080/"
        },
        "outputId": "80c254fb-ba88-4f9d-a772-9264d551a767"
      },
      "source": [
        "walmart_data.printSchema()"
      ],
      "execution_count": null,
      "outputs": [
        {
          "output_type": "stream",
          "text": [
            "root\n",
            " |-- Date: string (nullable = true)\n",
            " |-- Open: string (nullable = true)\n",
            " |-- High: string (nullable = true)\n",
            " |-- Low: string (nullable = true)\n",
            " |-- Close: string (nullable = true)\n",
            " |-- Volume: string (nullable = true)\n",
            " |-- Adj Close: string (nullable = true)\n",
            "\n"
          ],
          "name": "stdout"
        }
      ]
    },
    {
      "cell_type": "markdown",
      "metadata": {
        "id": "4j__pGtKmz5o"
      },
      "source": [
        "#### Print out the first 5 columns."
      ]
    },
    {
      "cell_type": "code",
      "metadata": {
        "id": "3rxnNIl3m9Nb",
        "colab": {
          "base_uri": "https://localhost:8080/"
        },
        "outputId": "50cb35fb-c5e9-4e2c-8f46-114d71d9a1f2"
      },
      "source": [
        "walmart_data.show(5)"
      ],
      "execution_count": null,
      "outputs": [
        {
          "output_type": "stream",
          "text": [
            "+----------+------------------+---------+---------+------------------+--------+------------------+\n",
            "|      Date|              Open|     High|      Low|             Close|  Volume|         Adj Close|\n",
            "+----------+------------------+---------+---------+------------------+--------+------------------+\n",
            "|2012-01-03|         59.970001|61.060001|59.869999|         60.330002|12668800|52.619234999999996|\n",
            "|2012-01-04|60.209998999999996|60.349998|59.470001|59.709998999999996| 9593300|         52.078475|\n",
            "|2012-01-05|         59.349998|59.619999|58.369999|         59.419998|12768200|         51.825539|\n",
            "|2012-01-06|         59.419998|59.450001|58.869999|              59.0| 8069400|          51.45922|\n",
            "|2012-01-09|         59.029999|59.549999|58.919998|             59.18| 6679300|51.616215000000004|\n",
            "+----------+------------------+---------+---------+------------------+--------+------------------+\n",
            "only showing top 5 rows\n",
            "\n"
          ],
          "name": "stdout"
        }
      ]
    },
    {
      "cell_type": "markdown",
      "metadata": {
        "id": "ThU0gi9_mz5p"
      },
      "source": [
        "#### Use describe() to learn about the DataFrame."
      ]
    },
    {
      "cell_type": "code",
      "metadata": {
        "id": "pNw_KUG40-sd"
      },
      "source": [
        "#df_walmart = walmart_data.toPandas()"
      ],
      "execution_count": null,
      "outputs": []
    },
    {
      "cell_type": "code",
      "metadata": {
        "id": "jGKN3qamm_vF",
        "colab": {
          "base_uri": "https://localhost:8080/"
        },
        "outputId": "2cce9fed-f2f8-437b-e053-3cdbe21ef421"
      },
      "source": [
        "walmart_data.describe().show()"
      ],
      "execution_count": null,
      "outputs": [
        {
          "output_type": "stream",
          "text": [
            "+-------+----------+-----------------+-----------------+-----------------+-----------------+-----------------+-----------------+--------------------+\n",
            "|summary|      Date|             Open|             High|              Low|            Close|           Volume|        Adj Close|            HV Ratio|\n",
            "+-------+----------+-----------------+-----------------+-----------------+-----------------+-----------------+-----------------+--------------------+\n",
            "|  count|      1258|             1258|             1258|             1258|             1258|             1258|             1258|                1258|\n",
            "|   mean|      null|72.35785373608894|72.83938791732918|71.91860095389515|72.38844992050863|8222093.481717011|67.23871224165353|1.058087384136966...|\n",
            "| stddev|      null| 6.76809037021648|6.768186744823553|6.744075695823193|6.756859155425468|  4519780.8431556|6.722615952565601|4.349855953277553...|\n",
            "|    min|2012-01-03|            56.39|            57.06|             56.3|            56.42|        2094900.0|            50.36|8.399455611442049E-7|\n",
            "|    max|2016-12-30|             90.8|            90.97|            89.25|            90.47|        8.08981E7|            84.91|3.734784476585994...|\n",
            "+-------+----------+-----------------+-----------------+-----------------+-----------------+-----------------+-----------------+--------------------+\n",
            "\n"
          ],
          "name": "stdout"
        }
      ]
    },
    {
      "cell_type": "code",
      "metadata": {
        "id": "-z2J9CW7VqGx"
      },
      "source": [
        "walmart_data.createOrReplaceTempView(\"walmart_data\")"
      ],
      "execution_count": null,
      "outputs": []
    },
    {
      "cell_type": "markdown",
      "metadata": {
        "id": "S_MjIMLymz5q"
      },
      "source": [
        "## Bonus Question!\n",
        "#### There are too many decimal places for mean and stddev in the describe() dataframe. Format the numbers to just show up to two decimal places. Pay careful attention to the datatypes that .describe() returns, we didn't cover how to do this exact formatting, but we covered something very similar.\n",
        "\n",
        "If you get stuck on this, don't worry, just find the way :)"
      ]
    },
    {
      "cell_type": "code",
      "metadata": {
        "id": "IP3L_PCo17lq"
      },
      "source": [
        "import pyspark.sql.functions as func"
      ],
      "execution_count": null,
      "outputs": []
    },
    {
      "cell_type": "code",
      "metadata": {
        "collapsed": true,
        "id": "CoOskgYVmz5r",
        "colab": {
          "base_uri": "https://localhost:8080/",
          "height": 206
        },
        "outputId": "2f04b5db-b977-4635-f91c-e16d3371b531"
      },
      "source": [
        "df_walmart.head() #Data masih banyak angka belakang koma"
      ],
      "execution_count": null,
      "outputs": [
        {
          "output_type": "execute_result",
          "data": {
            "text/html": [
              "<div>\n",
              "<style scoped>\n",
              "    .dataframe tbody tr th:only-of-type {\n",
              "        vertical-align: middle;\n",
              "    }\n",
              "\n",
              "    .dataframe tbody tr th {\n",
              "        vertical-align: top;\n",
              "    }\n",
              "\n",
              "    .dataframe thead th {\n",
              "        text-align: right;\n",
              "    }\n",
              "</style>\n",
              "<table border=\"1\" class=\"dataframe\">\n",
              "  <thead>\n",
              "    <tr style=\"text-align: right;\">\n",
              "      <th></th>\n",
              "      <th>Date</th>\n",
              "      <th>Open</th>\n",
              "      <th>High</th>\n",
              "      <th>Low</th>\n",
              "      <th>Close</th>\n",
              "      <th>Volume</th>\n",
              "      <th>Adj Close</th>\n",
              "    </tr>\n",
              "  </thead>\n",
              "  <tbody>\n",
              "    <tr>\n",
              "      <th>0</th>\n",
              "      <td>2012-01-03</td>\n",
              "      <td>59.970001</td>\n",
              "      <td>61.060001</td>\n",
              "      <td>59.869999</td>\n",
              "      <td>60.330002</td>\n",
              "      <td>12668800</td>\n",
              "      <td>52.619234999999996</td>\n",
              "    </tr>\n",
              "    <tr>\n",
              "      <th>1</th>\n",
              "      <td>2012-01-04</td>\n",
              "      <td>60.209998999999996</td>\n",
              "      <td>60.349998</td>\n",
              "      <td>59.470001</td>\n",
              "      <td>59.709998999999996</td>\n",
              "      <td>9593300</td>\n",
              "      <td>52.078475</td>\n",
              "    </tr>\n",
              "    <tr>\n",
              "      <th>2</th>\n",
              "      <td>2012-01-05</td>\n",
              "      <td>59.349998</td>\n",
              "      <td>59.619999</td>\n",
              "      <td>58.369999</td>\n",
              "      <td>59.419998</td>\n",
              "      <td>12768200</td>\n",
              "      <td>51.825539</td>\n",
              "    </tr>\n",
              "    <tr>\n",
              "      <th>3</th>\n",
              "      <td>2012-01-06</td>\n",
              "      <td>59.419998</td>\n",
              "      <td>59.450001</td>\n",
              "      <td>58.869999</td>\n",
              "      <td>59.0</td>\n",
              "      <td>8069400</td>\n",
              "      <td>51.45922</td>\n",
              "    </tr>\n",
              "    <tr>\n",
              "      <th>4</th>\n",
              "      <td>2012-01-09</td>\n",
              "      <td>59.029999</td>\n",
              "      <td>59.549999</td>\n",
              "      <td>58.919998</td>\n",
              "      <td>59.18</td>\n",
              "      <td>6679300</td>\n",
              "      <td>51.616215000000004</td>\n",
              "    </tr>\n",
              "  </tbody>\n",
              "</table>\n",
              "</div>"
            ],
            "text/plain": [
              "         Date                Open  ...    Volume           Adj Close\n",
              "0  2012-01-03           59.970001  ...  12668800  52.619234999999996\n",
              "1  2012-01-04  60.209998999999996  ...   9593300           52.078475\n",
              "2  2012-01-05           59.349998  ...  12768200           51.825539\n",
              "3  2012-01-06           59.419998  ...   8069400            51.45922\n",
              "4  2012-01-09           59.029999  ...   6679300  51.616215000000004\n",
              "\n",
              "[5 rows x 7 columns]"
            ]
          },
          "metadata": {},
          "execution_count": 38
        }
      ]
    },
    {
      "cell_type": "code",
      "metadata": {
        "id": "a-zBgrVu1X8m"
      },
      "source": [
        "# Dibuat semuanya dengan 2 angka belakang kma agar saat di pandas bisa dilakukan describe()\n",
        "walmart_data = walmart_data.withColumn(\"Open\", func.round(walmart_data[\"Open\"], 2))\n",
        "walmart_data = walmart_data.withColumn(\"High\", func.round(walmart_data[\"High\"], 2))\n",
        "walmart_data = walmart_data.withColumn(\"Low\", func.round(walmart_data[\"Low\"], 2))\n",
        "walmart_data = walmart_data.withColumn(\"Close\", func.round(walmart_data[\"Close\"], 2))\n",
        "walmart_data = walmart_data.withColumn(\"Volume\", func.round(walmart_data[\"Volume\"], 2))\n",
        "walmart_data = walmart_data.withColumn(\"Adj Close\", func.round(walmart_data[\"Adj Close\"], 2))"
      ],
      "execution_count": null,
      "outputs": []
    },
    {
      "cell_type": "code",
      "metadata": {
        "colab": {
          "base_uri": "https://localhost:8080/"
        },
        "id": "NkcLtuOd2vrj",
        "outputId": "e32f7d39-4770-495e-aef6-6db37d20707f"
      },
      "source": [
        "walmart_data.show(4)"
      ],
      "execution_count": null,
      "outputs": [
        {
          "output_type": "stream",
          "text": [
            "+----------+-----+-----+-----+-----+---------+---------+\n",
            "|      Date| Open| High|  Low|Close|   Volume|Adj Close|\n",
            "+----------+-----+-----+-----+-----+---------+---------+\n",
            "|2012-01-03|59.97|61.06|59.87|60.33|1.26688E7|    52.62|\n",
            "|2012-01-04|60.21|60.35|59.47|59.71|9593300.0|    52.08|\n",
            "|2012-01-05|59.35|59.62|58.37|59.42|1.27682E7|    51.83|\n",
            "|2012-01-06|59.42|59.45|58.87| 59.0|8069400.0|    51.46|\n",
            "+----------+-----+-----+-----+-----+---------+---------+\n",
            "only showing top 4 rows\n",
            "\n"
          ],
          "name": "stdout"
        }
      ]
    },
    {
      "cell_type": "code",
      "metadata": {
        "id": "0r4WTicc3NRc"
      },
      "source": [
        "#df_walmart = walmart_data.toPandas() #convert ke pandas untuk melakukan describe"
      ],
      "execution_count": null,
      "outputs": []
    },
    {
      "cell_type": "code",
      "metadata": {
        "colab": {
          "base_uri": "https://localhost:8080/",
          "height": 300
        },
        "id": "f2WSRKZF3Q3H",
        "outputId": "3c0d9350-438a-4a06-c235-3827b3ccccd8"
      },
      "source": [
        "walmart_data.describe().show()"
      ],
      "execution_count": null,
      "outputs": [
        {
          "output_type": "execute_result",
          "data": {
            "text/html": [
              "<div>\n",
              "<style scoped>\n",
              "    .dataframe tbody tr th:only-of-type {\n",
              "        vertical-align: middle;\n",
              "    }\n",
              "\n",
              "    .dataframe tbody tr th {\n",
              "        vertical-align: top;\n",
              "    }\n",
              "\n",
              "    .dataframe thead th {\n",
              "        text-align: right;\n",
              "    }\n",
              "</style>\n",
              "<table border=\"1\" class=\"dataframe\">\n",
              "  <thead>\n",
              "    <tr style=\"text-align: right;\">\n",
              "      <th></th>\n",
              "      <th>Open</th>\n",
              "      <th>High</th>\n",
              "      <th>Low</th>\n",
              "      <th>Close</th>\n",
              "      <th>Volume</th>\n",
              "      <th>Adj Close</th>\n",
              "    </tr>\n",
              "  </thead>\n",
              "  <tbody>\n",
              "    <tr>\n",
              "      <th>count</th>\n",
              "      <td>1258.000000</td>\n",
              "      <td>1258.000000</td>\n",
              "      <td>1258.000000</td>\n",
              "      <td>1258.000000</td>\n",
              "      <td>1.258000e+03</td>\n",
              "      <td>1258.000000</td>\n",
              "    </tr>\n",
              "    <tr>\n",
              "      <th>mean</th>\n",
              "      <td>72.357854</td>\n",
              "      <td>72.839388</td>\n",
              "      <td>71.918601</td>\n",
              "      <td>72.388450</td>\n",
              "      <td>8.222093e+06</td>\n",
              "      <td>67.238712</td>\n",
              "    </tr>\n",
              "    <tr>\n",
              "      <th>std</th>\n",
              "      <td>6.768090</td>\n",
              "      <td>6.768187</td>\n",
              "      <td>6.744076</td>\n",
              "      <td>6.756859</td>\n",
              "      <td>4.519781e+06</td>\n",
              "      <td>6.722616</td>\n",
              "    </tr>\n",
              "    <tr>\n",
              "      <th>min</th>\n",
              "      <td>56.390000</td>\n",
              "      <td>57.060000</td>\n",
              "      <td>56.300000</td>\n",
              "      <td>56.420000</td>\n",
              "      <td>2.094900e+06</td>\n",
              "      <td>50.360000</td>\n",
              "    </tr>\n",
              "    <tr>\n",
              "      <th>25%</th>\n",
              "      <td>68.627500</td>\n",
              "      <td>69.060000</td>\n",
              "      <td>68.162500</td>\n",
              "      <td>68.632500</td>\n",
              "      <td>5.791100e+06</td>\n",
              "      <td>63.782500</td>\n",
              "    </tr>\n",
              "    <tr>\n",
              "      <th>50%</th>\n",
              "      <td>73.235000</td>\n",
              "      <td>73.725000</td>\n",
              "      <td>72.840000</td>\n",
              "      <td>73.265000</td>\n",
              "      <td>7.093500e+06</td>\n",
              "      <td>68.540000</td>\n",
              "    </tr>\n",
              "    <tr>\n",
              "      <th>75%</th>\n",
              "      <td>76.630000</td>\n",
              "      <td>77.095000</td>\n",
              "      <td>76.250000</td>\n",
              "      <td>76.710000</td>\n",
              "      <td>9.394675e+06</td>\n",
              "      <td>71.105000</td>\n",
              "    </tr>\n",
              "    <tr>\n",
              "      <th>max</th>\n",
              "      <td>90.800000</td>\n",
              "      <td>90.970000</td>\n",
              "      <td>89.250000</td>\n",
              "      <td>90.470000</td>\n",
              "      <td>8.089810e+07</td>\n",
              "      <td>84.910000</td>\n",
              "    </tr>\n",
              "  </tbody>\n",
              "</table>\n",
              "</div>"
            ],
            "text/plain": [
              "              Open         High  ...        Volume    Adj Close\n",
              "count  1258.000000  1258.000000  ...  1.258000e+03  1258.000000\n",
              "mean     72.357854    72.839388  ...  8.222093e+06    67.238712\n",
              "std       6.768090     6.768187  ...  4.519781e+06     6.722616\n",
              "min      56.390000    57.060000  ...  2.094900e+06    50.360000\n",
              "25%      68.627500    69.060000  ...  5.791100e+06    63.782500\n",
              "50%      73.235000    73.725000  ...  7.093500e+06    68.540000\n",
              "75%      76.630000    77.095000  ...  9.394675e+06    71.105000\n",
              "max      90.800000    90.970000  ...  8.089810e+07    84.910000\n",
              "\n",
              "[8 rows x 6 columns]"
            ]
          },
          "metadata": {},
          "execution_count": 42
        }
      ]
    },
    {
      "cell_type": "markdown",
      "metadata": {
        "id": "q_znArTrmz5r"
      },
      "source": [
        "#### Create a new dataframe with a column called HV Ratio that is the ratio of the High Price versus volume of stock traded for a day."
      ]
    },
    {
      "cell_type": "code",
      "metadata": {
        "id": "RmkZsS2b6W8H"
      },
      "source": [
        "from pyspark.sql.functions import col"
      ],
      "execution_count": null,
      "outputs": []
    },
    {
      "cell_type": "code",
      "metadata": {
        "id": "Fex3CZO8nZi6"
      },
      "source": [
        "walmart_data = walmart_data.withColumn(\"HV Ratio\",col(\"High\")/col(\"Volume\"))"
      ],
      "execution_count": null,
      "outputs": []
    },
    {
      "cell_type": "code",
      "metadata": {
        "colab": {
          "base_uri": "https://localhost:8080/"
        },
        "id": "824ZPTug6xt1",
        "outputId": "6d1c6df6-33db-4de9-ef34-1b4af85e79d8"
      },
      "source": [
        "walmart_data.show(5)"
      ],
      "execution_count": null,
      "outputs": [
        {
          "output_type": "stream",
          "text": [
            "+----------+-----+-----+-----+-----+---------+---------+--------------------+\n",
            "|      Date| Open| High|  Low|Close|   Volume|Adj Close|            HV Ratio|\n",
            "+----------+-----+-----+-----+-----+---------+---------+--------------------+\n",
            "|2012-01-03|59.97|61.06|59.87|60.33|1.26688E7|    52.62|4.819714574387472E-6|\n",
            "|2012-01-04|60.21|60.35|59.47|59.71|9593300.0|    52.08|6.290848821573389...|\n",
            "|2012-01-05|59.35|59.62|58.37|59.42|1.27682E7|    51.83|4.669413073103491E-6|\n",
            "|2012-01-06|59.42|59.45|58.87| 59.0|8069400.0|    51.46|7.367338339901356E-6|\n",
            "|2012-01-09|59.03|59.55|58.92|59.18|6679300.0|    51.62|8.915604928660188E-6|\n",
            "+----------+-----+-----+-----+-----+---------+---------+--------------------+\n",
            "only showing top 5 rows\n",
            "\n"
          ],
          "name": "stdout"
        }
      ]
    },
    {
      "cell_type": "markdown",
      "metadata": {
        "id": "7EotJ7Zemz5s"
      },
      "source": [
        "#### What day had the Peak High in Price?"
      ]
    },
    {
      "cell_type": "code",
      "metadata": {
        "colab": {
          "base_uri": "https://localhost:8080/"
        },
        "id": "6VcHfUScuB8E",
        "outputId": "9a531b42-a03e-46d5-81ad-6c05e6ea0a6e"
      },
      "source": [
        "walmart_data.sort(col(\"High\").desc()).show(1)"
      ],
      "execution_count": null,
      "outputs": [
        {
          "output_type": "stream",
          "text": [
            "+----------+----+-----+-----+-----+---------+---------+--------------------+\n",
            "|      Date|Open| High|  Low|Close|   Volume|Adj Close|            HV Ratio|\n",
            "+----------+----+-----+-----+-----+---------+---------+--------------------+\n",
            "|2015-01-13|90.8|90.97|88.93|89.31|8215400.0|    83.83|1.107310660466928E-5|\n",
            "+----------+----+-----+-----+-----+---------+---------+--------------------+\n",
            "only showing top 1 row\n",
            "\n"
          ],
          "name": "stdout"
        }
      ]
    },
    {
      "cell_type": "markdown",
      "metadata": {
        "id": "4G7qHaTtmz5s"
      },
      "source": [
        "#### What is the mean of the Close column?"
      ]
    },
    {
      "cell_type": "code",
      "metadata": {
        "id": "jQMiuSe18a0Y"
      },
      "source": [
        "walmart_data.createOrReplaceTempView(\"walmart_data\")"
      ],
      "execution_count": null,
      "outputs": []
    },
    {
      "cell_type": "code",
      "metadata": {
        "id": "oU-C_y4RncZl",
        "colab": {
          "base_uri": "https://localhost:8080/"
        },
        "outputId": "fee0778b-a6cf-4f5f-8281-c868ce501cb2"
      },
      "source": [
        "#Mencoba dengan metode select\n",
        "df_test = spark.sql(\"\"\"\n",
        "select AVG(Close) from walmart_data \n",
        "\"\"\").show()"
      ],
      "execution_count": null,
      "outputs": [
        {
          "output_type": "stream",
          "text": [
            "+-----------------+\n",
            "|       avg(Close)|\n",
            "+-----------------+\n",
            "|72.38844992050863|\n",
            "+-----------------+\n",
            "\n"
          ],
          "name": "stdout"
        }
      ]
    },
    {
      "cell_type": "markdown",
      "metadata": {
        "id": "8a-qnQUrmz5t"
      },
      "source": [
        "#### What is the max and min of the Volume column?"
      ]
    },
    {
      "cell_type": "code",
      "metadata": {
        "id": "q0s--I-YtFPD"
      },
      "source": [
        "walmart_data.createOrReplaceTempView(\"walmart_data\")"
      ],
      "execution_count": null,
      "outputs": []
    },
    {
      "cell_type": "code",
      "metadata": {
        "colab": {
          "base_uri": "https://localhost:8080/"
        },
        "id": "OsOdoI9Frsgp",
        "outputId": "e074f5fc-4a54-4a88-c6a6-78b51ac67c23"
      },
      "source": [
        "min = spark.sql(\"\"\"\n",
        "SELECT Volume FROM walmart_data \n",
        "order by Volume asc \n",
        "LIMIT 1\n",
        "\"\"\").show()"
      ],
      "execution_count": null,
      "outputs": [
        {
          "output_type": "stream",
          "text": [
            "+---------+\n",
            "|   Volume|\n",
            "+---------+\n",
            "|2094900.0|\n",
            "+---------+\n",
            "\n"
          ],
          "name": "stdout"
        }
      ]
    },
    {
      "cell_type": "code",
      "metadata": {
        "collapsed": true,
        "id": "ivZW6yGfmz5t",
        "colab": {
          "base_uri": "https://localhost:8080/"
        },
        "outputId": "64f1dd2a-8212-4eb6-a2ad-49303b0ddf2d"
      },
      "source": [
        "max = spark.sql(\"\"\"\n",
        "SELECT Volume FROM walmart_data \n",
        "order by Volume desc \n",
        "LIMIT 1\n",
        "\"\"\").show()"
      ],
      "execution_count": null,
      "outputs": [
        {
          "output_type": "stream",
          "text": [
            "+---------+\n",
            "|   Volume|\n",
            "+---------+\n",
            "|8.08981E7|\n",
            "+---------+\n",
            "\n"
          ],
          "name": "stdout"
        }
      ]
    },
    {
      "cell_type": "markdown",
      "metadata": {
        "id": "qkuVZaVImz5u"
      },
      "source": [
        "#### How many days was the Close lower than 60 dollars?"
      ]
    },
    {
      "cell_type": "code",
      "metadata": {
        "id": "xjZFJh1znewH",
        "colab": {
          "base_uri": "https://localhost:8080/"
        },
        "outputId": "f78a7f04-c83f-4763-d035-bb544212ca1e"
      },
      "source": [
        "walmart_data.filter(walmart_data['Close'] < 60).count() #Untuk function where, bisa menggunakan .filter() sesuai ketentuan"
      ],
      "execution_count": null,
      "outputs": [
        {
          "output_type": "execute_result",
          "data": {
            "text/plain": [
              "81"
            ]
          },
          "metadata": {},
          "execution_count": 54
        }
      ]
    },
    {
      "cell_type": "markdown",
      "metadata": {
        "id": "Wyfk6QQ4mz5u"
      },
      "source": [
        "#### What percentage of the time was the High greater than 80 dollars ?\n",
        "#### In other words, (Number of Days High>80)/(Total Days in the dataset)"
      ]
    },
    {
      "cell_type": "code",
      "metadata": {
        "id": "zjQaozJgngLY",
        "colab": {
          "base_uri": "https://localhost:8080/"
        },
        "outputId": "c644ec95-6cf1-4fda-d3c3-45259c992770"
      },
      "source": [
        "walmart_data.filter('High > 80').count() * 100/walmart_data.count() "
      ],
      "execution_count": null,
      "outputs": [
        {
          "output_type": "execute_result",
          "data": {
            "text/plain": [
              "9.141494435612083"
            ]
          },
          "metadata": {},
          "execution_count": 55
        }
      ]
    },
    {
      "cell_type": "markdown",
      "metadata": {
        "id": "eLmPYY2Lmz5u"
      },
      "source": [
        "#### What is the Pearson correlation between High and Volume?"
      ]
    },
    {
      "cell_type": "code",
      "metadata": {
        "id": "6IWnveCsAn71"
      },
      "source": [
        "from pyspark.sql.functions import corr #Import function buat menghitung colerasi dari pyspark"
      ],
      "execution_count": null,
      "outputs": []
    },
    {
      "cell_type": "code",
      "metadata": {
        "id": "aANGJgySnlN0",
        "colab": {
          "base_uri": "https://localhost:8080/"
        },
        "outputId": "0b11cb99-eb08-4b2e-ff9a-804755b8e923"
      },
      "source": [
        "walmart_data.select(corr(walmart_data['High'], walmart_data['Volume'])).show() "
      ],
      "execution_count": null,
      "outputs": [
        {
          "output_type": "stream",
          "text": [
            "+--------------------+\n",
            "|  corr(High, Volume)|\n",
            "+--------------------+\n",
            "|-0.33843260582148915|\n",
            "+--------------------+\n",
            "\n"
          ],
          "name": "stdout"
        }
      ]
    },
    {
      "cell_type": "markdown",
      "metadata": {
        "id": "Fyc2Tbkbmz5v"
      },
      "source": [
        "#### What is the max High per year?"
      ]
    },
    {
      "cell_type": "code",
      "metadata": {
        "id": "SLnc2P-1BL4J"
      },
      "source": [
        "from pyspark.sql.functions import year"
      ],
      "execution_count": null,
      "outputs": []
    },
    {
      "cell_type": "code",
      "metadata": {
        "id": "ka59BOW1nmb8",
        "colab": {
          "base_uri": "https://localhost:8080/"
        },
        "outputId": "7d4bbf8c-d50e-4cef-e681-0a99eaa72cf3"
      },
      "source": [
        "maxhighyear = walmart_data.withColumn('Year', year(walmart_data['Date'])) #Create new dataframe dengan tambahan kolom Year yang diambil dari kolom Date\n",
        "maxhighyear.show(5)"
      ],
      "execution_count": null,
      "outputs": [
        {
          "output_type": "stream",
          "text": [
            "+----------+-----+-----+-----+-----+---------+---------+--------------------+----+\n",
            "|      Date| Open| High|  Low|Close|   Volume|Adj Close|            HV Ratio|Year|\n",
            "+----------+-----+-----+-----+-----+---------+---------+--------------------+----+\n",
            "|2012-01-03|59.97|61.06|59.87|60.33|1.26688E7|    52.62|4.819714574387472E-6|2012|\n",
            "|2012-01-04|60.21|60.35|59.47|59.71|9593300.0|    52.08|6.290848821573389...|2012|\n",
            "|2012-01-05|59.35|59.62|58.37|59.42|1.27682E7|    51.83|4.669413073103491E-6|2012|\n",
            "|2012-01-06|59.42|59.45|58.87| 59.0|8069400.0|    51.46|7.367338339901356E-6|2012|\n",
            "|2012-01-09|59.03|59.55|58.92|59.18|6679300.0|    51.62|8.915604928660188E-6|2012|\n",
            "+----------+-----+-----+-----+-----+---------+---------+--------------------+----+\n",
            "only showing top 5 rows\n",
            "\n"
          ],
          "name": "stdout"
        }
      ]
    },
    {
      "cell_type": "code",
      "metadata": {
        "colab": {
          "base_uri": "https://localhost:8080/"
        },
        "id": "_iHJQl29BiMG",
        "outputId": "7bdfc1e9-01a1-401b-da78-4c2600555e16"
      },
      "source": [
        "maxhighyear.groupBy('Year').max()['Year', 'max(High)'].show() #Melakukan grouping berdasarkan tahun dan mencari nilai tertinggi dari kolom High"
      ],
      "execution_count": null,
      "outputs": [
        {
          "output_type": "stream",
          "text": [
            "+----+---------+\n",
            "|Year|max(High)|\n",
            "+----+---------+\n",
            "|2015|    90.97|\n",
            "|2013|    81.37|\n",
            "|2014|    88.09|\n",
            "|2012|     77.6|\n",
            "|2016|    75.19|\n",
            "+----+---------+\n",
            "\n"
          ],
          "name": "stdout"
        }
      ]
    },
    {
      "cell_type": "markdown",
      "metadata": {
        "id": "6WxgjAuFmz5v"
      },
      "source": [
        "#### What is the average Close for each Calendar Month?\n",
        "#### In other words, across all the years, what is the average Close price for Jan,Feb, Mar, etc... Your result will have a value for each of these months. "
      ]
    },
    {
      "cell_type": "code",
      "metadata": {
        "id": "aMyQwoEznrKT"
      },
      "source": [
        "from pyspark.sql.functions import month"
      ],
      "execution_count": null,
      "outputs": []
    },
    {
      "cell_type": "code",
      "metadata": {
        "colab": {
          "base_uri": "https://localhost:8080/"
        },
        "id": "7gzgc1feCm8J",
        "outputId": "82e95357-827f-4eaf-b8d3-f1f1788bc7ae"
      },
      "source": [
        "closeeachmonth = walmart_data.withColumn('Month', month(walmart_data['Date'])) # Membuat kolom baru 'Month' dengan mengambil bulan pada kolom Date\n",
        "closeeachmonth.show(4)"
      ],
      "execution_count": null,
      "outputs": [
        {
          "output_type": "stream",
          "text": [
            "+----------+-----+-----+-----+-----+---------+---------+--------------------+-----+\n",
            "|      Date| Open| High|  Low|Close|   Volume|Adj Close|            HV Ratio|Month|\n",
            "+----------+-----+-----+-----+-----+---------+---------+--------------------+-----+\n",
            "|2012-01-03|59.97|61.06|59.87|60.33|1.26688E7|    52.62|4.819714574387472E-6|    1|\n",
            "|2012-01-04|60.21|60.35|59.47|59.71|9593300.0|    52.08|6.290848821573389...|    1|\n",
            "|2012-01-05|59.35|59.62|58.37|59.42|1.27682E7|    51.83|4.669413073103491E-6|    1|\n",
            "|2012-01-06|59.42|59.45|58.87| 59.0|8069400.0|    51.46|7.367338339901356E-6|    1|\n",
            "+----------+-----+-----+-----+-----+---------+---------+--------------------+-----+\n",
            "only showing top 4 rows\n",
            "\n"
          ],
          "name": "stdout"
        }
      ]
    },
    {
      "cell_type": "code",
      "metadata": {
        "colab": {
          "base_uri": "https://localhost:8080/"
        },
        "id": "xjJ6P8xxCm-l",
        "outputId": "5d41be75-16f5-4e3d-ddf6-b87006cb52d8"
      },
      "source": [
        "closeeachmonth = closeeachmonth.groupBy('Month').mean() #menhitung mean pada setiap bulan\n",
        "closeeachmonth.show(4)"
      ],
      "execution_count": null,
      "outputs": [
        {
          "output_type": "stream",
          "text": [
            "+-----+-----------------+-----------------+-----------------+-----------------+-----------------+-----------------+--------------------+----------+\n",
            "|Month|        avg(Open)|        avg(High)|         avg(Low)|       avg(Close)|      avg(Volume)|   avg(Adj Close)|       avg(HV Ratio)|avg(Month)|\n",
            "+-----+-----------------+-----------------+-----------------+-----------------+-----------------+-----------------+--------------------+----------+\n",
            "|   12|72.87952830188678|73.35566037735846|72.44481132075468|72.84792452830189|7967959.433962264|68.46009433962263|1.164205328811193...|      12.0|\n",
            "|    1|71.40811881188117|71.97009900990096|70.90425742574259|71.44801980198022|8761851.485148516| 65.5685148514851|9.384442255378605E-6|       1.0|\n",
            "|    6|72.51009433962267|72.92622641509432|72.12198113207548|72.49537735849057|8303756.603773585| 67.4382075471698|9.928110089243015E-6|       6.0|\n",
            "|    3|71.69046728971962|72.20289719626167|71.31878504672896|71.77794392523363|7721836.448598131|66.27588785046731|1.042159237034626...|       3.0|\n",
            "+-----+-----------------+-----------------+-----------------+-----------------+-----------------+-----------------+--------------------+----------+\n",
            "only showing top 4 rows\n",
            "\n"
          ],
          "name": "stdout"
        }
      ]
    },
    {
      "cell_type": "code",
      "metadata": {
        "colab": {
          "base_uri": "https://localhost:8080/"
        },
        "id": "QIx-5GB5CnA-",
        "outputId": "31fd4d06-7c8c-4319-a485-7039bb1cd063"
      },
      "source": [
        "closeeachmonth['Month', 'avg(Close)'].show() #dari dataframe diatas, kita tinggal show kolom yang ingin di tampilkan"
      ],
      "execution_count": null,
      "outputs": [
        {
          "output_type": "stream",
          "text": [
            "+-----+-----------------+\n",
            "|Month|       avg(Close)|\n",
            "+-----+-----------------+\n",
            "|   12|72.84792452830189|\n",
            "|    1|71.44801980198022|\n",
            "|    6|72.49537735849057|\n",
            "|    3|71.77794392523363|\n",
            "|    5|72.30971698113206|\n",
            "|    9|72.18411764705883|\n",
            "|    4|72.97361904761907|\n",
            "|    8|73.02981818181819|\n",
            "|    7|74.43971962616824|\n",
            "|   10|71.57854545454546|\n",
            "|   11|72.11108910891085|\n",
            "|    2|71.30680412371134|\n",
            "+-----+-----------------+\n",
            "\n"
          ],
          "name": "stdout"
        }
      ]
    },
    {
      "cell_type": "markdown",
      "metadata": {
        "id": "bEFhk7Fvmz5v"
      },
      "source": [
        "# Great Job!"
      ]
    }
  ]
}